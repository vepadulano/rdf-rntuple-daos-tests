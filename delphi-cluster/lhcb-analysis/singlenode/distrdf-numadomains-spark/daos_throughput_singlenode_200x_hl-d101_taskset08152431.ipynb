{
 "cells": [
  {
   "cell_type": "code",
   "execution_count": 1,
   "id": "845f877b",
   "metadata": {},
   "outputs": [
    {
     "name": "stdout",
     "output_type": "stream",
     "text": [
      "Welcome to JupyROOT 6.24/06\n"
     ]
    }
   ],
   "source": [
    "import pandas\n",
    "import numpy\n",
    "from matplotlib import pyplot\n",
    "import os\n",
    "import ROOT"
   ]
  },
  {
   "cell_type": "code",
   "execution_count": 2,
   "id": "e5f78053",
   "metadata": {},
   "outputs": [
    {
     "data": {
      "text/html": [
       "<div>\n",
       "<style scoped>\n",
       "    .dataframe tbody tr th:only-of-type {\n",
       "        vertical-align: middle;\n",
       "    }\n",
       "\n",
       "    .dataframe tbody tr th {\n",
       "        vertical-align: top;\n",
       "    }\n",
       "\n",
       "    .dataframe thead th {\n",
       "        text-align: right;\n",
       "    }\n",
       "</style>\n",
       "<table border=\"1\" class=\"dataframe\">\n",
       "  <thead>\n",
       "    <tr style=\"text-align: right;\">\n",
       "      <th></th>\n",
       "      <th>cores</th>\n",
       "      <th>mean</th>\n",
       "      <th>meanerr</th>\n",
       "      <th>throughput_GB_s</th>\n",
       "    </tr>\n",
       "  </thead>\n",
       "  <tbody>\n",
       "    <tr>\n",
       "      <th>0</th>\n",
       "      <td>1</td>\n",
       "      <td>280.87</td>\n",
       "      <td>5.22</td>\n",
       "      <td>0.804230</td>\n",
       "    </tr>\n",
       "    <tr>\n",
       "      <th>1</th>\n",
       "      <td>2</td>\n",
       "      <td>150.17</td>\n",
       "      <td>2.19</td>\n",
       "      <td>1.504130</td>\n",
       "    </tr>\n",
       "    <tr>\n",
       "      <th>2</th>\n",
       "      <td>4</td>\n",
       "      <td>92.09</td>\n",
       "      <td>1.24</td>\n",
       "      <td>2.452944</td>\n",
       "    </tr>\n",
       "    <tr>\n",
       "      <th>3</th>\n",
       "      <td>6</td>\n",
       "      <td>65.72</td>\n",
       "      <td>0.72</td>\n",
       "      <td>3.437267</td>\n",
       "    </tr>\n",
       "    <tr>\n",
       "      <th>4</th>\n",
       "      <td>8</td>\n",
       "      <td>52.29</td>\n",
       "      <td>0.86</td>\n",
       "      <td>4.319454</td>\n",
       "    </tr>\n",
       "  </tbody>\n",
       "</table>\n",
       "</div>"
      ],
      "text/plain": [
       "   cores    mean  meanerr  throughput_GB_s\n",
       "0      1  280.87     5.22         0.804230\n",
       "1      2  150.17     2.19         1.504130\n",
       "2      4   92.09     1.24         2.452944\n",
       "3      6   65.72     0.72         3.437267\n",
       "4      8   52.29     0.86         4.319454"
      ]
     },
     "execution_count": 2,
     "metadata": {},
     "output_type": "execute_result"
    }
   ],
   "source": [
    "times = {\"cores\":[],\"mean\":[],\"meanerr\":[],\"throughput_GB_s\":[]}\n",
    "timedir = \"20211117-singlenode-hl_d101-taskset08152431/appruntimes\"\n",
    "\n",
    "readsize = 225881515200\n",
    "for f in os.listdir(timedir):\n",
    "    array = numpy.genfromtxt(timedir+\"/\"+f, skip_header=1)\n",
    "    nodes = f.split(\"_\")[5].replace(\"cores.csv\",\"\")\n",
    "    time_mean = numpy.mean(array)\n",
    "    times[\"cores\"].append(int(nodes))\n",
    "    times[\"mean\"].append(round(time_mean, 2))\n",
    "    times[\"meanerr\"].append(round(numpy.std(array)/numpy.sqrt(len(array)), 2))\n",
    "    times[\"throughput_GB_s\"].append(readsize/time_mean/pow(10, 9))\n",
    "    \n",
    "timesdf = pandas.DataFrame(times)\n",
    "timesdf = timesdf.sort_values(by=\"cores\").reset_index(drop=True).copy()\n",
    "timesdf = timesdf.iloc[:5,:]\n",
    "timesdf"
   ]
  },
  {
   "cell_type": "code",
   "execution_count": 3,
   "id": "0153d0c6",
   "metadata": {
    "scrolled": true
   },
   "outputs": [
    {
     "data": {
      "text/html": [
       "<div>\n",
       "<style scoped>\n",
       "    .dataframe tbody tr th:only-of-type {\n",
       "        vertical-align: middle;\n",
       "    }\n",
       "\n",
       "    .dataframe tbody tr th {\n",
       "        vertical-align: top;\n",
       "    }\n",
       "\n",
       "    .dataframe thead th {\n",
       "        text-align: right;\n",
       "    }\n",
       "</style>\n",
       "<table border=\"1\" class=\"dataframe\">\n",
       "  <thead>\n",
       "    <tr style=\"text-align: right;\">\n",
       "      <th></th>\n",
       "      <th>cores</th>\n",
       "      <th>mean</th>\n",
       "      <th>meanerr</th>\n",
       "      <th>throughput_GB_s</th>\n",
       "      <th>throughputspeedup</th>\n",
       "    </tr>\n",
       "  </thead>\n",
       "  <tbody>\n",
       "    <tr>\n",
       "      <th>0</th>\n",
       "      <td>1</td>\n",
       "      <td>280.87</td>\n",
       "      <td>5.22</td>\n",
       "      <td>0.804230</td>\n",
       "      <td>1.000000</td>\n",
       "    </tr>\n",
       "    <tr>\n",
       "      <th>1</th>\n",
       "      <td>2</td>\n",
       "      <td>150.17</td>\n",
       "      <td>2.19</td>\n",
       "      <td>1.504130</td>\n",
       "      <td>1.870273</td>\n",
       "    </tr>\n",
       "    <tr>\n",
       "      <th>2</th>\n",
       "      <td>4</td>\n",
       "      <td>92.09</td>\n",
       "      <td>1.24</td>\n",
       "      <td>2.452944</td>\n",
       "      <td>3.050052</td>\n",
       "    </tr>\n",
       "    <tr>\n",
       "      <th>3</th>\n",
       "      <td>6</td>\n",
       "      <td>65.72</td>\n",
       "      <td>0.72</td>\n",
       "      <td>3.437267</td>\n",
       "      <td>4.273984</td>\n",
       "    </tr>\n",
       "    <tr>\n",
       "      <th>4</th>\n",
       "      <td>8</td>\n",
       "      <td>52.29</td>\n",
       "      <td>0.86</td>\n",
       "      <td>4.319454</td>\n",
       "      <td>5.370918</td>\n",
       "    </tr>\n",
       "  </tbody>\n",
       "</table>\n",
       "</div>"
      ],
      "text/plain": [
       "   cores    mean  meanerr  throughput_GB_s  throughputspeedup\n",
       "0      1  280.87     5.22         0.804230           1.000000\n",
       "1      2  150.17     2.19         1.504130           1.870273\n",
       "2      4   92.09     1.24         2.452944           3.050052\n",
       "3      6   65.72     0.72         3.437267           4.273984\n",
       "4      8   52.29     0.86         4.319454           5.370918"
      ]
     },
     "execution_count": 3,
     "metadata": {},
     "output_type": "execute_result"
    }
   ],
   "source": [
    "throughput_1node = timesdf[\"throughput_GB_s\"][0]\n",
    "timesdf[\"throughputspeedup\"] = timesdf[\"throughput_GB_s\"] / throughput_1node\n",
    "timesdf"
   ]
  },
  {
   "cell_type": "code",
   "execution_count": 4,
   "id": "f05df533",
   "metadata": {},
   "outputs": [
    {
     "data": {
      "text/plain": [
       "<matplotlib.legend.Legend at 0x7f73c3cd1670>"
      ]
     },
     "execution_count": 4,
     "metadata": {},
     "output_type": "execute_result"
    },
    {
     "data": {
      "image/png": "[encoded data removed]",
      "text/plain": [
       "<Figure size 720x720 with 1 Axes>"
      ]
     },
     "metadata": {
      "needs_background": "light"
     },
     "output_type": "display_data"
    }
   ],
   "source": [
    "pyplot.figure(figsize=[10,10])\n",
    "pyplot.plot(timesdf[\"cores\"], timesdf[\"throughputspeedup\"], label=\"real scaling\", marker=\"o\")\n",
    "pyplot.plot(timesdf[\"cores\"], timesdf[\"cores\"], label=\"ideal scaling\", marker=\"o\")\n",
    "pyplot.xticks(timesdf[\"cores\"])\n",
    "pyplot.yticks(timesdf[\"cores\"])\n",
    "pyplot.xlabel(\"Cores\")\n",
    "pyplot.ylabel(\"Processing throughput scaling\")\n",
    "pyplot.legend()"
   ]
  },
  {
   "cell_type": "code",
   "execution_count": 5,
   "id": "091b6993",
   "metadata": {},
   "outputs": [
    {
     "name": "stderr",
     "output_type": "stream",
     "text": [
      "No handles with labels found to put in legend.\n"
     ]
    },
    {
     "data": {
      "text/plain": [
       "<matplotlib.legend.Legend at 0x7f73c3c2aac0>"
      ]
     },
     "execution_count": 5,
     "metadata": {},
     "output_type": "execute_result"
    },
    {
     "data": {
      "image/png": "[encoded data removed]",
      "text/plain": [
       "<Figure size 720x720 with 1 Axes>"
      ]
     },
     "metadata": {
      "needs_background": "light"
     },
     "output_type": "display_data"
    }
   ],
   "source": [
    "pyplot.figure(figsize=[10,10])\n",
    "pyplot.plot(timesdf[\"cores\"], timesdf[\"throughput_GB_s\"], marker=\"o\")\n",
    "pyplot.xticks(timesdf[\"cores\"])\n",
    "\n",
    "pyplot.xlabel(\"Cores\")\n",
    "pyplot.ylabel(\"Processing Throughput [GB/s]\")\n",
    "pyplot.legend()"
   ]
  },
  {
   "cell_type": "markdown",
   "id": "a4fe440f",
   "metadata": {},
   "source": [
    "# RNTuple read throughput"
   ]
  },
  {
   "cell_type": "code",
   "execution_count": 6,
   "id": "e2f350b1",
   "metadata": {},
   "outputs": [
    {
     "data": {
      "text/html": [
       "<div>\n",
       "<style scoped>\n",
       "    .dataframe tbody tr th:only-of-type {\n",
       "        vertical-align: middle;\n",
       "    }\n",
       "\n",
       "    .dataframe tbody tr th {\n",
       "        vertical-align: top;\n",
       "    }\n",
       "\n",
       "    .dataframe thead th {\n",
       "        text-align: right;\n",
       "    }\n",
       "</style>\n",
       "<table border=\"1\" class=\"dataframe\">\n",
       "  <thead>\n",
       "    <tr style=\"text-align: right;\">\n",
       "      <th></th>\n",
       "      <th>taskruntime</th>\n",
       "      <th>taskreadtime</th>\n",
       "      <th>readthroughput</th>\n",
       "      <th>readpayload</th>\n",
       "      <th>taskid</th>\n",
       "      <th>cores</th>\n",
       "    </tr>\n",
       "  </thead>\n",
       "  <tbody>\n",
       "    <tr>\n",
       "      <th>0</th>\n",
       "      <td>288.529</td>\n",
       "      <td>57087619849</td>\n",
       "      <td>3956</td>\n",
       "      <td>225881515200</td>\n",
       "      <td>0</td>\n",
       "      <td>1</td>\n",
       "    </tr>\n",
       "    <tr>\n",
       "      <th>1</th>\n",
       "      <td>264.929</td>\n",
       "      <td>41341207639</td>\n",
       "      <td>5463</td>\n",
       "      <td>225881515200</td>\n",
       "      <td>0</td>\n",
       "      <td>1</td>\n",
       "    </tr>\n",
       "    <tr>\n",
       "      <th>2</th>\n",
       "      <td>264.093</td>\n",
       "      <td>41491083937</td>\n",
       "      <td>5444</td>\n",
       "      <td>225881515200</td>\n",
       "      <td>0</td>\n",
       "      <td>1</td>\n",
       "    </tr>\n",
       "    <tr>\n",
       "      <th>3</th>\n",
       "      <td>261.157</td>\n",
       "      <td>41372364876</td>\n",
       "      <td>5459</td>\n",
       "      <td>225881515200</td>\n",
       "      <td>0</td>\n",
       "      <td>1</td>\n",
       "    </tr>\n",
       "    <tr>\n",
       "      <th>4</th>\n",
       "      <td>315.316</td>\n",
       "      <td>55444769449</td>\n",
       "      <td>4073</td>\n",
       "      <td>225881515200</td>\n",
       "      <td>0</td>\n",
       "      <td>1</td>\n",
       "    </tr>\n",
       "    <tr>\n",
       "      <th>...</th>\n",
       "      <td>...</td>\n",
       "      <td>...</td>\n",
       "      <td>...</td>\n",
       "      <td>...</td>\n",
       "      <td>...</td>\n",
       "      <td>...</td>\n",
       "    </tr>\n",
       "    <tr>\n",
       "      <th>652</th>\n",
       "      <td>40.243</td>\n",
       "      <td>16804558781</td>\n",
       "      <td>840</td>\n",
       "      <td>14117594700</td>\n",
       "      <td>2</td>\n",
       "      <td>16</td>\n",
       "    </tr>\n",
       "    <tr>\n",
       "      <th>653</th>\n",
       "      <td>40.706</td>\n",
       "      <td>20075156039</td>\n",
       "      <td>703</td>\n",
       "      <td>14117594700</td>\n",
       "      <td>2</td>\n",
       "      <td>16</td>\n",
       "    </tr>\n",
       "    <tr>\n",
       "      <th>654</th>\n",
       "      <td>38.604</td>\n",
       "      <td>15697661788</td>\n",
       "      <td>899</td>\n",
       "      <td>14117594700</td>\n",
       "      <td>2</td>\n",
       "      <td>16</td>\n",
       "    </tr>\n",
       "    <tr>\n",
       "      <th>655</th>\n",
       "      <td>40.500</td>\n",
       "      <td>17918005434</td>\n",
       "      <td>787</td>\n",
       "      <td>14117594700</td>\n",
       "      <td>0</td>\n",
       "      <td>16</td>\n",
       "    </tr>\n",
       "    <tr>\n",
       "      <th>656</th>\n",
       "      <td>39.581</td>\n",
       "      <td>16964559409</td>\n",
       "      <td>832</td>\n",
       "      <td>14117594700</td>\n",
       "      <td>8</td>\n",
       "      <td>16</td>\n",
       "    </tr>\n",
       "  </tbody>\n",
       "</table>\n",
       "<p>657 rows × 6 columns</p>\n",
       "</div>"
      ],
      "text/plain": [
       "     taskruntime  taskreadtime  readthroughput   readpayload  taskid  cores\n",
       "0        288.529   57087619849            3956  225881515200       0      1\n",
       "1        264.929   41341207639            5463  225881515200       0      1\n",
       "2        264.093   41491083937            5444  225881515200       0      1\n",
       "3        261.157   41372364876            5459  225881515200       0      1\n",
       "4        315.316   55444769449            4073  225881515200       0      1\n",
       "..           ...           ...             ...           ...     ...    ...\n",
       "652       40.243   16804558781             840   14117594700       2     16\n",
       "653       40.706   20075156039             703   14117594700       2     16\n",
       "654       38.604   15697661788             899   14117594700       2     16\n",
       "655       40.500   17918005434             787   14117594700       0     16\n",
       "656       39.581   16964559409             832   14117594700       8     16\n",
       "\n",
       "[657 rows x 6 columns]"
      ]
     },
     "execution_count": 6,
     "metadata": {},
     "output_type": "execute_result"
    }
   ],
   "source": [
    "times = {\"taskid\":[],\"mean\":[],\"meanerr\":[],\"throughput_MB_s\":[]}\n",
    "maindir = \"20211117-singlenode-hl_d101-taskset08152431\"\n",
    "timedirs = [timedir for timedir in os.listdir(maindir) if timedir.startswith(\"timeresults\")]\n",
    "\n",
    "dfs = []\n",
    "for timedir in timedirs:\n",
    "    nodes = timedir.split(\"_\")[2].replace(\"cores\",\"\")\n",
    "    chunks = nodes\n",
    "    for f in os.listdir(os.path.join(maindir, timedir)):\n",
    "        df = pandas.read_csv(os.path.join(maindir, timedir, f), header=None, names=[\"taskruntime\",\"taskreadtime\",\"readthroughput\",\"readpayload\"], skiprows=1)\n",
    "        taskid = f.split(\"_\")[1].replace(\"task\",\"\")\n",
    "        df[\"taskid\"] = int(taskid)\n",
    "        df[\"cores\"] = int(nodes)\n",
    "        dfs.append(df)\n",
    "\n",
    "df = pandas.concat(dfs).sort_values(by=\"cores\").reset_index(drop=True)\n",
    "df"
   ]
  },
  {
   "cell_type": "code",
   "execution_count": 7,
   "id": "4663b1d6",
   "metadata": {},
   "outputs": [
    {
     "data": {
      "text/html": [
       "<div>\n",
       "<style scoped>\n",
       "    .dataframe tbody tr th:only-of-type {\n",
       "        vertical-align: middle;\n",
       "    }\n",
       "\n",
       "    .dataframe tbody tr th {\n",
       "        vertical-align: top;\n",
       "    }\n",
       "\n",
       "    .dataframe thead th {\n",
       "        text-align: right;\n",
       "    }\n",
       "</style>\n",
       "<table border=\"1\" class=\"dataframe\">\n",
       "  <thead>\n",
       "    <tr style=\"text-align: right;\">\n",
       "      <th></th>\n",
       "      <th>cores</th>\n",
       "      <th>taskruntime</th>\n",
       "      <th>taskreadtime</th>\n",
       "      <th>readthroughput</th>\n",
       "      <th>readpayload</th>\n",
       "      <th>taskreadtime_s</th>\n",
       "    </tr>\n",
       "  </thead>\n",
       "  <tbody>\n",
       "    <tr>\n",
       "      <th>0</th>\n",
       "      <td>1</td>\n",
       "      <td>280.732889</td>\n",
       "      <td>4.788282e+10</td>\n",
       "      <td>4823.333333</td>\n",
       "      <td>2.258815e+11</td>\n",
       "      <td>47.882816</td>\n",
       "    </tr>\n",
       "    <tr>\n",
       "      <th>1</th>\n",
       "      <td>2</td>\n",
       "      <td>146.585500</td>\n",
       "      <td>2.811672e+10</td>\n",
       "      <td>4114.833333</td>\n",
       "      <td>1.129408e+11</td>\n",
       "      <td>28.116719</td>\n",
       "    </tr>\n",
       "    <tr>\n",
       "      <th>2</th>\n",
       "      <td>4</td>\n",
       "      <td>87.719194</td>\n",
       "      <td>1.335301e+10</td>\n",
       "      <td>4303.861111</td>\n",
       "      <td>5.647038e+10</td>\n",
       "      <td>13.353013</td>\n",
       "    </tr>\n",
       "    <tr>\n",
       "      <th>3</th>\n",
       "      <td>6</td>\n",
       "      <td>62.915426</td>\n",
       "      <td>1.073064e+10</td>\n",
       "      <td>3572.129630</td>\n",
       "      <td>3.764692e+10</td>\n",
       "      <td>10.730644</td>\n",
       "    </tr>\n",
       "    <tr>\n",
       "      <th>4</th>\n",
       "      <td>8</td>\n",
       "      <td>48.776194</td>\n",
       "      <td>8.180422e+09</td>\n",
       "      <td>3509.694444</td>\n",
       "      <td>2.823519e+10</td>\n",
       "      <td>8.180422</td>\n",
       "    </tr>\n",
       "    <tr>\n",
       "      <th>5</th>\n",
       "      <td>10</td>\n",
       "      <td>44.223222</td>\n",
       "      <td>7.474832e+09</td>\n",
       "      <td>3069.388889</td>\n",
       "      <td>2.258815e+10</td>\n",
       "      <td>7.474832</td>\n",
       "    </tr>\n",
       "    <tr>\n",
       "      <th>6</th>\n",
       "      <td>12</td>\n",
       "      <td>41.985667</td>\n",
       "      <td>6.584649e+09</td>\n",
       "      <td>2921.694444</td>\n",
       "      <td>1.882346e+10</td>\n",
       "      <td>6.584649</td>\n",
       "    </tr>\n",
       "    <tr>\n",
       "      <th>7</th>\n",
       "      <td>14</td>\n",
       "      <td>39.848000</td>\n",
       "      <td>7.698375e+09</td>\n",
       "      <td>2219.706349</td>\n",
       "      <td>1.613439e+10</td>\n",
       "      <td>7.698375</td>\n",
       "    </tr>\n",
       "    <tr>\n",
       "      <th>8</th>\n",
       "      <td>16</td>\n",
       "      <td>40.768444</td>\n",
       "      <td>1.755655e+10</td>\n",
       "      <td>807.076389</td>\n",
       "      <td>1.411759e+10</td>\n",
       "      <td>17.556546</td>\n",
       "    </tr>\n",
       "  </tbody>\n",
       "</table>\n",
       "</div>"
      ],
      "text/plain": [
       "   cores  taskruntime  taskreadtime  readthroughput   readpayload  \\\n",
       "0      1   280.732889  4.788282e+10     4823.333333  2.258815e+11   \n",
       "1      2   146.585500  2.811672e+10     4114.833333  1.129408e+11   \n",
       "2      4    87.719194  1.335301e+10     4303.861111  5.647038e+10   \n",
       "3      6    62.915426  1.073064e+10     3572.129630  3.764692e+10   \n",
       "4      8    48.776194  8.180422e+09     3509.694444  2.823519e+10   \n",
       "5     10    44.223222  7.474832e+09     3069.388889  2.258815e+10   \n",
       "6     12    41.985667  6.584649e+09     2921.694444  1.882346e+10   \n",
       "7     14    39.848000  7.698375e+09     2219.706349  1.613439e+10   \n",
       "8     16    40.768444  1.755655e+10      807.076389  1.411759e+10   \n",
       "\n",
       "   taskreadtime_s  \n",
       "0       47.882816  \n",
       "1       28.116719  \n",
       "2       13.353013  \n",
       "3       10.730644  \n",
       "4        8.180422  \n",
       "5        7.474832  \n",
       "6        6.584649  \n",
       "7        7.698375  \n",
       "8       17.556546  "
      ]
     },
     "execution_count": 7,
     "metadata": {},
     "output_type": "execute_result"
    }
   ],
   "source": [
    "meantaskthroughput = df.groupby([\"cores\"]).mean()[[\"taskruntime\",\"taskreadtime\",\"readthroughput\",\"readpayload\"]]\n",
    "meantaskthroughput = meantaskthroughput.reset_index().sort_values(\"cores\").reset_index(drop=True)\n",
    "meantaskthroughput[\"taskreadtime_s\"] = meantaskthroughput[\"taskreadtime\"] / pow(10, 9) # nanoseconds\n",
    "meantaskthroughput"
   ]
  },
  {
   "cell_type": "code",
   "execution_count": 8,
   "id": "0145b4c4",
   "metadata": {},
   "outputs": [
    {
     "data": {
      "text/plain": [
       "Text(0, 0.5, 'Average Task Throughput [MB/s]')"
      ]
     },
     "execution_count": 8,
     "metadata": {},
     "output_type": "execute_result"
    },
    {
     "data": {
      "image/png": "[encoded data removed]",
      "text/plain": [
       "<Figure size 720x720 with 1 Axes>"
      ]
     },
     "metadata": {
      "needs_background": "light"
     },
     "output_type": "display_data"
    }
   ],
   "source": [
    "pyplot.figure(figsize=[10,10])\n",
    "pyplot.plot(meantaskthroughput[\"cores\"], meantaskthroughput[\"readthroughput\"], marker=\"o\")\n",
    "pyplot.xlabel(\"Processes\")\n",
    "pyplot.ylabel(\"Average Task Throughput [MB/s]\")"
   ]
  },
  {
   "cell_type": "code",
   "execution_count": 9,
   "id": "30a960eb",
   "metadata": {},
   "outputs": [
    {
     "data": {
      "text/plain": [
       "Text(0, 0.5, 'Time [s]')"
      ]
     },
     "execution_count": 9,
     "metadata": {},
     "output_type": "execute_result"
    },
    {
     "data": {
      "image/png": "[encoded data removed]",
      "text/plain": [
       "<Figure size 720x720 with 1 Axes>"
      ]
     },
     "metadata": {
      "needs_background": "light"
     },
     "output_type": "display_data"
    }
   ],
   "source": [
    "pyplot.figure(figsize=[10,10])\n",
    "pyplot.plot(meantaskthroughput[\"cores\"], meantaskthroughput[\"taskreadtime_s\"], marker=\"o\")\n",
    "pyplot.xlabel(\"Processes\")\n",
    "pyplot.ylabel(\"Time [s]\")"
   ]
  },
  {
   "cell_type": "code",
   "execution_count": 10,
   "id": "c2911c4e",
   "metadata": {},
   "outputs": [
    {
     "data": {
      "text/html": [
       "<div>\n",
       "<style scoped>\n",
       "    .dataframe tbody tr th:only-of-type {\n",
       "        vertical-align: middle;\n",
       "    }\n",
       "\n",
       "    .dataframe tbody tr th {\n",
       "        vertical-align: top;\n",
       "    }\n",
       "\n",
       "    .dataframe thead th {\n",
       "        text-align: right;\n",
       "    }\n",
       "</style>\n",
       "<table border=\"1\" class=\"dataframe\">\n",
       "  <thead>\n",
       "    <tr style=\"text-align: right;\">\n",
       "      <th></th>\n",
       "      <th>cores</th>\n",
       "      <th>readthroughput</th>\n",
       "      <th>readpayload</th>\n",
       "    </tr>\n",
       "  </thead>\n",
       "  <tbody>\n",
       "    <tr>\n",
       "      <th>0</th>\n",
       "      <td>1</td>\n",
       "      <td>4823.333333</td>\n",
       "      <td>2.258815e+11</td>\n",
       "    </tr>\n",
       "    <tr>\n",
       "      <th>1</th>\n",
       "      <td>2</td>\n",
       "      <td>8229.666667</td>\n",
       "      <td>2.258815e+11</td>\n",
       "    </tr>\n",
       "    <tr>\n",
       "      <th>2</th>\n",
       "      <td>4</td>\n",
       "      <td>17215.444444</td>\n",
       "      <td>2.258815e+11</td>\n",
       "    </tr>\n",
       "    <tr>\n",
       "      <th>3</th>\n",
       "      <td>6</td>\n",
       "      <td>21432.777778</td>\n",
       "      <td>2.258815e+11</td>\n",
       "    </tr>\n",
       "    <tr>\n",
       "      <th>4</th>\n",
       "      <td>8</td>\n",
       "      <td>28077.555556</td>\n",
       "      <td>2.258815e+11</td>\n",
       "    </tr>\n",
       "    <tr>\n",
       "      <th>5</th>\n",
       "      <td>10</td>\n",
       "      <td>30693.888889</td>\n",
       "      <td>2.258815e+11</td>\n",
       "    </tr>\n",
       "    <tr>\n",
       "      <th>6</th>\n",
       "      <td>12</td>\n",
       "      <td>35060.333333</td>\n",
       "      <td>2.258815e+11</td>\n",
       "    </tr>\n",
       "    <tr>\n",
       "      <th>7</th>\n",
       "      <td>14</td>\n",
       "      <td>31075.888889</td>\n",
       "      <td>2.258815e+11</td>\n",
       "    </tr>\n",
       "    <tr>\n",
       "      <th>8</th>\n",
       "      <td>16</td>\n",
       "      <td>12913.222222</td>\n",
       "      <td>2.258815e+11</td>\n",
       "    </tr>\n",
       "  </tbody>\n",
       "</table>\n",
       "</div>"
      ],
      "text/plain": [
       "   cores  readthroughput   readpayload\n",
       "0      1     4823.333333  2.258815e+11\n",
       "1      2     8229.666667  2.258815e+11\n",
       "2      4    17215.444444  2.258815e+11\n",
       "3      6    21432.777778  2.258815e+11\n",
       "4      8    28077.555556  2.258815e+11\n",
       "5     10    30693.888889  2.258815e+11\n",
       "6     12    35060.333333  2.258815e+11\n",
       "7     14    31075.888889  2.258815e+11\n",
       "8     16    12913.222222  2.258815e+11"
      ]
     },
     "execution_count": 10,
     "metadata": {},
     "output_type": "execute_result"
    }
   ],
   "source": [
    "sumthroughput = df.groupby([\"cores\",\"taskid\"]).mean()\n",
    "sumthroughput = sumthroughput.reset_index().groupby([\"cores\"]).sum()\n",
    "sumthroughput = sumthroughput.reset_index()\n",
    "sumthroughput[\"totalthroughput\"] = sumthroughput[\"readthroughput\"] / pow(10, 3)\n",
    "sumthroughput[[\"cores\",\"readthroughput\",\"readpayload\"]]"
   ]
  },
  {
   "cell_type": "code",
   "execution_count": 11,
   "id": "228acb75",
   "metadata": {},
   "outputs": [
    {
     "data": {
      "text/plain": [
       "Text(0, 0.5, 'Read Throughput [GB/s]')"
      ]
     },
     "execution_count": 11,
     "metadata": {},
     "output_type": "execute_result"
    },
    {
     "data": {
      "image/png": "[encoded data removed]",
      "text/plain": [
       "<Figure size 720x720 with 1 Axes>"
      ]
     },
     "metadata": {
      "needs_background": "light"
     },
     "output_type": "display_data"
    }
   ],
   "source": [
    "pyplot.figure(figsize=[10,10])\n",
    "pyplot.plot(sumthroughput[\"cores\"], sumthroughput[\"readthroughput\"]/1000, marker=\"o\")\n",
    "pyplot.xlabel(\"Processes\")\n",
    "pyplot.xticks(sumthroughput[\"cores\"])\n",
    "pyplot.ylabel(\"Read Throughput [GB/s]\")"
   ]
  },
  {
   "cell_type": "markdown",
   "id": "d949a5c5",
   "metadata": {},
   "source": [
    "# TGraph"
   ]
  },
  {
   "cell_type": "code",
   "execution_count": 12,
   "id": "6aea7c3a",
   "metadata": {},
   "outputs": [
    {
     "name": "stderr",
     "output_type": "stream",
     "text": [
      "Warning in <TCanvas::Constructor>: Deleting canvas with same name: d\n",
      "Info in <TCanvas::Print>: png file distrdf_lhcb_singlenode_processingthroughput.png has been created\n"
     ]
    },
    {
     "data": {
      "image/png": "[encoded data removed]",
      "text/plain": [
       "<IPython.core.display.Image object>"
      ]
     },
     "metadata": {},
     "output_type": "display_data"
    }
   ],
   "source": [
    "runtimegraph = ROOT.TGraph(len(timesdf[\"cores\"]), numpy.array(timesdf[\"cores\"], dtype=float), numpy.array(timesdf[\"throughput_GB_s\"], dtype=float))\n",
    "\n",
    "width = 800\n",
    "height = 800\n",
    "d = ROOT.TCanvas(\"d\", \"\", width, height)\n",
    "\n",
    "runtimegraph.SetTitle(\"\")\n",
    "\n",
    "runtimegraph.GetXaxis().SetTitle(\"Cores\")\n",
    "runtimegraph.GetXaxis().SetTitleSize(0.025)\n",
    "runtimegraph.GetXaxis().SetTitleOffset(1.3)\n",
    "runtimegraph.GetXaxis().SetLabelSize(0)\n",
    "runtimegraph.GetXaxis().SetTickLength(0)\n",
    "\n",
    "runtimegraph.GetYaxis().SetTitle(\"Processing throughput [GB/s]\")\n",
    "runtimegraph.GetYaxis().SetLabelSize(0.03)\n",
    "runtimegraph.GetYaxis().SetTitleSize(0.025)\n",
    "runtimegraph.GetYaxis().SetRangeUser(0, 5)\n",
    "\n",
    "runtimegraph.SetMarkerStyle(20)\n",
    "runtimegraph.SetMarkerSize(1)\n",
    "runtimegraph.SetMarkerColor(ROOT.kOrange+1)\n",
    "\n",
    "runtimegraph.SetLineStyle(ROOT.kSolid)\n",
    "# Line color also decides error bar color somehow\n",
    "runtimegraph.SetLineColorAlpha(ROOT.kOrange+1,1)\n",
    "runtimegraph.SetLineWidth(2)\n",
    "runtimegraph.Draw(\"APL\")\n",
    "\n",
    "ymin = runtimegraph.GetHistogram().GetMinimum()\n",
    "ymax = runtimegraph.GetHistogram().GetMaximum()\n",
    "\n",
    "dy = ymax - ymin\n",
    "labels = []\n",
    "ticks = []\n",
    "\n",
    "for i in range(len(timesdf[\"cores\"])):\n",
    "    x = runtimegraph.GetPointX(i)\n",
    "    t = ROOT.TLatex(x, ymin - 0.05 * dy, str(int(x)))\n",
    "    t.SetTextSize(0.03)\n",
    "    t.SetTextFont(42)\n",
    "    t.SetTextAlign(21)\n",
    "    t.Draw()\n",
    "    labels.append(t)\n",
    "    l = ROOT.TLine(x, ymin, x,ymin-0.02*dy)\n",
    "    l.Draw()\n",
    "    ticks.append(l)\n",
    "    \n",
    "d.Draw()\n",
    "d.SaveAs(\"distrdf_lhcb_singlenode_processingthroughput.png\")"
   ]
  },
  {
   "cell_type": "code",
   "execution_count": 21,
   "id": "331abec9",
   "metadata": {},
   "outputs": [
    {
     "name": "stderr",
     "output_type": "stream",
     "text": [
      "Warning in <TCanvas::Constructor>: Deleting canvas with same name: c\n",
      "Info in <TCanvas::Print>: png file distrdf_lhcb_singlenode_processingthroughputspeedup.png has been created\n"
     ]
    },
    {
     "data": {
      "image/png": "[encoded data removed]",
      "text/plain": [
       "<IPython.core.display.Image object>"
      ]
     },
     "metadata": {},
     "output_type": "display_data"
    }
   ],
   "source": [
    "speedupgraph = ROOT.TGraph(len(timesdf[\"cores\"]), numpy.array(timesdf[\"cores\"], dtype=float), numpy.array(timesdf[\"throughputspeedup\"], dtype=float))\n",
    "idealspeedupgraph = ROOT.TGraph(len(timesdf[\"cores\"]), numpy.array(timesdf[\"cores\"], dtype=float), numpy.array(timesdf[\"cores\"], dtype=float))\n",
    "\n",
    "width = 800\n",
    "height = 800\n",
    "c = ROOT.TCanvas(\"c\", \"\", width, height)\n",
    "\n",
    "idealspeedupgraph.SetTitle(\"\")\n",
    "\n",
    "idealspeedupgraph.GetXaxis().SetTitle(\"Cores\")\n",
    "idealspeedupgraph.GetXaxis().SetTitleSize(0.025)\n",
    "idealspeedupgraph.GetXaxis().SetTitleOffset(1.4)\n",
    "idealspeedupgraph.GetXaxis().SetLabelSize(0)\n",
    "idealspeedupgraph.GetXaxis().SetTickLength(0)\n",
    "idealspeedupgraph.GetYaxis().SetTitle(\"Processing throughput scaling\")\n",
    "\n",
    "idealspeedupgraph.GetYaxis().SetTitleSize(0.025)\n",
    "idealspeedupgraph.GetYaxis().SetTitleOffset(1.4)\n",
    "idealspeedupgraph.GetYaxis().SetRangeUser(0, 9)\n",
    "idealspeedupgraph.GetYaxis().SetLabelSize(0.03)\n",
    "\n",
    "idealspeedupgraph.SetMarkerColor(ROOT.kAzure-3)\n",
    "idealspeedupgraph.SetMarkerSize(1)\n",
    "idealspeedupgraph.SetMarkerStyle(20)\n",
    "idealspeedupgraph.SetLineStyle(ROOT.kDashed)\n",
    "idealspeedupgraph.SetLineColorAlpha(ROOT.kAzure-3,1)\n",
    "idealspeedupgraph.SetLineWidth(2)\n",
    "idealspeedupgraph.Draw(\"AL\")\n",
    "\n",
    "ymin = idealspeedupgraph.GetHistogram().GetMinimum()\n",
    "ymax = idealspeedupgraph.GetHistogram().GetMaximum()\n",
    "\n",
    "dy = ymax - ymin\n",
    "xlabels = []\n",
    "xticks = []\n",
    "#ylabels = []\n",
    "#yticks = []\n",
    "\n",
    "for i in range(len(timesdf[\"cores\"])):\n",
    "    x = idealspeedupgraph.GetPointX(i)\n",
    "    y = idealspeedupgraph.GetPointY(i)\n",
    "\n",
    "    xt = ROOT.TLatex(x, -0.45, str(int(x)))\n",
    "    xt.SetTextSize(0.03)\n",
    "    xt.SetTextFont(42)\n",
    "    xt.SetTextAlign(21)\n",
    "    xt.Draw()\n",
    "    xlabels.append(xt)\n",
    "\n",
    "    xl = ROOT.TLine(x, ymin, x,ymin-0.02*dy)\n",
    "    xl.Draw()\n",
    "    xticks.append(xl)\n",
    "\n",
    "speedupgraph.SetMarkerStyle(20)\n",
    "speedupgraph.SetMarkerSize(1)\n",
    "speedupgraph.SetMarkerColor(ROOT.kOrange+1)\n",
    "\n",
    "\n",
    "speedupgraph.SetLineColorAlpha(ROOT.kOrange+1,1)\n",
    "speedupgraph.SetLineWidth(2)\n",
    "\n",
    "speedupgraph.Draw(\"SAME PL\")\n",
    "\n",
    "legend = ROOT.TLegend(0.15,0.8,0.4,0.9)\n",
    "legend.AddEntry(speedupgraph, \"Real scaling\")\n",
    "legend.AddEntry(idealspeedupgraph, \"Ideal scaling\", \"L\")\n",
    "legend.Draw()\n",
    "\n",
    "ROOT.gStyle.SetLegendTextSize(0.025)\n",
    "\n",
    "c.Draw()\n",
    "c.SaveAs(\"distrdf_lhcb_singlenode_processingthroughputspeedup.png\")"
   ]
  },
  {
   "cell_type": "code",
   "execution_count": null,
   "id": "a338eb97",
   "metadata": {},
   "outputs": [],
   "source": []
  },
  {
   "cell_type": "code",
   "execution_count": 150,
   "id": "170e1d5a",
   "metadata": {},
   "outputs": [
    {
     "name": "stderr",
     "output_type": "stream",
     "text": [
      "Warning in <TCanvas::Constructor>: Deleting canvas with same name: d\n",
      "Info in <TCanvas::Print>: png file distrdf_lhcb_singlenode_readthroughput.png has been created\n"
     ]
    },
    {
     "data": {
      "image/png": "[encoded data removed]",
      "text/plain": [
       "<IPython.core.display.Image object>"
      ]
     },
     "metadata": {},
     "output_type": "display_data"
    }
   ],
   "source": [
    "runtimegraph = ROOT.TGraph(len(sumthroughput[\"cores\"]), numpy.array(sumthroughput[\"cores\"], dtype=float), numpy.array(sumthroughput[\"readthroughput\"]/1000, dtype=float))\n",
    "\n",
    "width = 800\n",
    "height = 800\n",
    "d = ROOT.TCanvas(\"d\", \"\", width, height)\n",
    "\n",
    "runtimegraph.SetTitle(\"\")\n",
    "\n",
    "runtimegraph.GetXaxis().SetTitle(\"Cores\")\n",
    "runtimegraph.GetXaxis().SetTitleSize(0.025)\n",
    "runtimegraph.GetXaxis().SetTitleOffset(1.3)\n",
    "runtimegraph.GetXaxis().SetLabelSize(0)\n",
    "runtimegraph.GetXaxis().SetTickLength(0)\n",
    "\n",
    "runtimegraph.GetYaxis().SetTitle(\"Throughput [GB/s]\")\n",
    "runtimegraph.GetYaxis().SetLabelSize(0.03)\n",
    "runtimegraph.GetYaxis().SetTitleSize(0.025)\n",
    "runtimegraph.GetYaxis().SetRangeUser(0, 13)\n",
    "\n",
    "runtimegraph.SetMarkerStyle(20)\n",
    "runtimegraph.SetMarkerSize(1)\n",
    "runtimegraph.SetMarkerColor(ROOT.kOrange+1)\n",
    "\n",
    "runtimegraph.SetLineStyle(ROOT.kSolid)\n",
    "# Line color also decides error bar color somehow\n",
    "runtimegraph.SetLineColorAlpha(ROOT.kOrange+1,1)\n",
    "runtimegraph.SetLineWidth(2)\n",
    "runtimegraph.Draw(\"APL\")\n",
    "\n",
    "ymin = runtimegraph.GetHistogram().GetMinimum()\n",
    "ymax = runtimegraph.GetHistogram().GetMaximum()\n",
    "\n",
    "dy = ymax - ymin\n",
    "labels = []\n",
    "ticks = []\n",
    "\n",
    "for i in range(len(sumthroughput[\"cores\"])):\n",
    "    x = runtimegraph.GetPointX(i)\n",
    "    t = ROOT.TLatex(x, ymin - 0.05 * dy, str(int(x)))\n",
    "    t.SetTextSize(0.03)\n",
    "    t.SetTextFont(42)\n",
    "    t.SetTextAlign(21)\n",
    "    t.Draw()\n",
    "    labels.append(t)\n",
    "    l = ROOT.TLine(x, ymin, x,ymin-0.02*dy)\n",
    "    l.Draw()\n",
    "    ticks.append(l)\n",
    "    \n",
    "d.Draw()\n",
    "d.SaveAs(\"distrdf_lhcb_singlenode_readthroughput.png\")"
   ]
  },
  {
   "cell_type": "code",
   "execution_count": null,
   "id": "18a24c4b",
   "metadata": {},
   "outputs": [],
   "source": []
  }
 ],
 "metadata": {
  "kernelspec": {
   "display_name": "Python 3",
   "language": "python",
   "name": "python3"
  },
  "language_info": {
   "codemirror_mode": {
    "name": "ipython",
    "version": 3
   },
   "file_extension": ".py",
   "mimetype": "text/x-python",
   "name": "python",
   "nbconvert_exporter": "python",
   "pygments_lexer": "ipython3",
   "version": "3.9.7"
  }
 },
 "nbformat": 4,
 "nbformat_minor": 5
}
