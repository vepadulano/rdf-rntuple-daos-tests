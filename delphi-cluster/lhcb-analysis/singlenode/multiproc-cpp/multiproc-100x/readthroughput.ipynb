{
 "cells": [
  {
   "cell_type": "code",
   "execution_count": 4,
   "id": "92fb29dc",
   "metadata": {},
   "outputs": [
    {
     "name": "stdout",
     "output_type": "stream",
     "text": [
      "Welcome to JupyROOT 6.24/06\n"
     ]
    }
   ],
   "source": [
    "import pandas\n",
    "import numpy\n",
    "from matplotlib import pyplot\n",
    "import os\n",
    "import ROOT"
   ]
  },
  {
   "cell_type": "code",
   "execution_count": 14,
   "id": "c99aad09",
   "metadata": {},
   "outputs": [
    {
     "name": "stdout",
     "output_type": "stream",
     "text": [
      "timeresults_20x_16processes\n",
      "16\n"
     ]
    },
    {
     "data": {
      "text/html": [
       "<div>\n",
       "<style scoped>\n",
       "    .dataframe tbody tr th:only-of-type {\n",
       "        vertical-align: middle;\n",
       "    }\n",
       "\n",
       "    .dataframe tbody tr th {\n",
       "        vertical-align: top;\n",
       "    }\n",
       "\n",
       "    .dataframe thead th {\n",
       "        text-align: right;\n",
       "    }\n",
       "</style>\n",
       "<table border=\"1\" class=\"dataframe\">\n",
       "  <thead>\n",
       "    <tr style=\"text-align: right;\">\n",
       "      <th></th>\n",
       "      <th>walltime</th>\n",
       "      <th>throughput</th>\n",
       "      <th>processid</th>\n",
       "      <th>procs</th>\n",
       "    </tr>\n",
       "  </thead>\n",
       "  <tbody>\n",
       "    <tr>\n",
       "      <th>7.316</th>\n",
       "      <td>20912557385</td>\n",
       "      <td>135</td>\n",
       "      <td>13</td>\n",
       "      <td>16</td>\n",
       "    </tr>\n",
       "    <tr>\n",
       "      <th>6.994</th>\n",
       "      <td>21698872000</td>\n",
       "      <td>195</td>\n",
       "      <td>13</td>\n",
       "      <td>16</td>\n",
       "    </tr>\n",
       "    <tr>\n",
       "      <th>6.827</th>\n",
       "      <td>22366410813</td>\n",
       "      <td>252</td>\n",
       "      <td>13</td>\n",
       "      <td>16</td>\n",
       "    </tr>\n",
       "    <tr>\n",
       "      <th>6.734</th>\n",
       "      <td>23126236035</td>\n",
       "      <td>305</td>\n",
       "      <td>13</td>\n",
       "      <td>16</td>\n",
       "    </tr>\n",
       "    <tr>\n",
       "      <th>8.232</th>\n",
       "      <td>21337094745</td>\n",
       "      <td>132</td>\n",
       "      <td>7</td>\n",
       "      <td>16</td>\n",
       "    </tr>\n",
       "    <tr>\n",
       "      <th>...</th>\n",
       "      <td>...</td>\n",
       "      <td>...</td>\n",
       "      <td>...</td>\n",
       "      <td>...</td>\n",
       "    </tr>\n",
       "    <tr>\n",
       "      <th>6.811</th>\n",
       "      <td>21290892137</td>\n",
       "      <td>331</td>\n",
       "      <td>12</td>\n",
       "      <td>16</td>\n",
       "    </tr>\n",
       "    <tr>\n",
       "      <th>7.042</th>\n",
       "      <td>21002664183</td>\n",
       "      <td>134</td>\n",
       "      <td>3</td>\n",
       "      <td>16</td>\n",
       "    </tr>\n",
       "    <tr>\n",
       "      <th>7.549</th>\n",
       "      <td>21786016819</td>\n",
       "      <td>194</td>\n",
       "      <td>3</td>\n",
       "      <td>16</td>\n",
       "    </tr>\n",
       "    <tr>\n",
       "      <th>7.066</th>\n",
       "      <td>22447884339</td>\n",
       "      <td>251</td>\n",
       "      <td>3</td>\n",
       "      <td>16</td>\n",
       "    </tr>\n",
       "    <tr>\n",
       "      <th>6.828</th>\n",
       "      <td>22978651639</td>\n",
       "      <td>307</td>\n",
       "      <td>3</td>\n",
       "      <td>16</td>\n",
       "    </tr>\n",
       "  </tbody>\n",
       "</table>\n",
       "<p>64 rows × 4 columns</p>\n",
       "</div>"
      ],
      "text/plain": [
       "          walltime  throughput  processid  procs\n",
       "7.316  20912557385         135         13     16\n",
       "6.994  21698872000         195         13     16\n",
       "6.827  22366410813         252         13     16\n",
       "6.734  23126236035         305         13     16\n",
       "8.232  21337094745         132          7     16\n",
       "...            ...         ...        ...    ...\n",
       "6.811  21290892137         331         12     16\n",
       "7.042  21002664183         134          3     16\n",
       "7.549  21786016819         194          3     16\n",
       "7.066  22447884339         251          3     16\n",
       "6.828  22978651639         307          3     16\n",
       "\n",
       "[64 rows x 4 columns]"
      ]
     },
     "execution_count": 14,
     "metadata": {},
     "output_type": "execute_result"
    }
   ],
   "source": [
    "times = {\"taskid\":[],\"mean\":[],\"meanerr\":[],\"throughput_MB_s\":[]}\n",
    "timedirs = [\"timeresults_20x_16processes\"]\n",
    "\n",
    "dfs = []\n",
    "for timedir in timedirs:\n",
    "    print(timedir)\n",
    "    procs = timedir.split(\"_\")[2].replace(\"processes\",\"\")\n",
    "    print(procs)\n",
    "    for f in os.listdir(timedir):\n",
    "        df = pandas.read_csv(os.path.join(timedir, f), header=None, names=[\"walltime\",\"throughput\"], skiprows=1)\n",
    "        processid = f.split(\"_\")[2].replace(\"process\",\"\").replace(\".txt\",\"\")\n",
    "        df[\"processid\"] = int(processid)\n",
    "        df[\"procs\"] = int(procs)\n",
    "        dfs.append(df)\n",
    "\n",
    "df = pandas.concat(dfs)\n",
    "df"
   ]
  },
  {
   "cell_type": "code",
   "execution_count": 19,
   "id": "e549cac8",
   "metadata": {},
   "outputs": [
    {
     "data": {
      "text/plain": [
       "3633.25"
      ]
     },
     "execution_count": 19,
     "metadata": {},
     "output_type": "execute_result"
    }
   ],
   "source": [
    "df.groupby(\"processid\").mean().sum()[\"throughput\"]"
   ]
  },
  {
   "cell_type": "code",
   "execution_count": 15,
   "id": "ce0a81a0",
   "metadata": {},
   "outputs": [
    {
     "data": {
      "text/plain": [
       "227.078125"
      ]
     },
     "execution_count": 15,
     "metadata": {},
     "output_type": "execute_result"
    }
   ],
   "source": [
    "meantaskthroughput = df[\"throughput\"].mean()\n",
    "meantaskthroughput"
   ]
  },
  {
   "cell_type": "code",
   "execution_count": 100,
   "id": "618db2b9",
   "metadata": {},
   "outputs": [
    {
     "data": {
      "text/plain": [
       "<matplotlib.legend.Legend at 0x7f11beb1ec70>"
      ]
     },
     "execution_count": 100,
     "metadata": {},
     "output_type": "execute_result"
    },
    {
     "data": {
      "image/png": "[encoded data removed]",
      "text/plain": [
       "<Figure size 720x720 with 1 Axes>"
      ]
     },
     "metadata": {
      "needs_background": "light"
     },
     "output_type": "display_data"
    }
   ],
   "source": [
    "pyplot.figure(figsize=[10,10])\n",
    "pyplot.plot(meantaskthroughput.chunks, meantaskthroughput[\"throughput\"], label=\"mean task throughput\", marker=\"o\")\n",
    "pyplot.xlabel(\"Processes\")\n",
    "pyplot.ylabel(\"Throughput [MB/s]\")\n",
    "pyplot.legend()"
   ]
  },
  {
   "cell_type": "code",
   "execution_count": 101,
   "id": "61705f97",
   "metadata": {},
   "outputs": [
    {
     "data": {
      "text/html": [
       "<div>\n",
       "<style scoped>\n",
       "    .dataframe tbody tr th:only-of-type {\n",
       "        vertical-align: middle;\n",
       "    }\n",
       "\n",
       "    .dataframe tbody tr th {\n",
       "        vertical-align: top;\n",
       "    }\n",
       "\n",
       "    .dataframe thead th {\n",
       "        text-align: right;\n",
       "    }\n",
       "</style>\n",
       "<table border=\"1\" class=\"dataframe\">\n",
       "  <thead>\n",
       "    <tr style=\"text-align: right;\">\n",
       "      <th></th>\n",
       "      <th>chunks</th>\n",
       "      <th>nodes</th>\n",
       "      <th>taskid</th>\n",
       "      <th>walltime</th>\n",
       "      <th>throughput</th>\n",
       "      <th>totalthroughput</th>\n",
       "    </tr>\n",
       "  </thead>\n",
       "  <tbody>\n",
       "    <tr>\n",
       "      <th>0</th>\n",
       "      <td>16</td>\n",
       "      <td>1</td>\n",
       "      <td>120</td>\n",
       "      <td>3.932590e+10</td>\n",
       "      <td>46147.444444</td>\n",
       "      <td>45.065864</td>\n",
       "    </tr>\n",
       "    <tr>\n",
       "      <th>1</th>\n",
       "      <td>32</td>\n",
       "      <td>2</td>\n",
       "      <td>496</td>\n",
       "      <td>4.830194e+10</td>\n",
       "      <td>75619.222222</td>\n",
       "      <td>73.846897</td>\n",
       "    </tr>\n",
       "    <tr>\n",
       "      <th>2</th>\n",
       "      <td>48</td>\n",
       "      <td>3</td>\n",
       "      <td>1128</td>\n",
       "      <td>6.416345e+10</td>\n",
       "      <td>91928.777778</td>\n",
       "      <td>89.774197</td>\n",
       "    </tr>\n",
       "    <tr>\n",
       "      <th>3</th>\n",
       "      <td>64</td>\n",
       "      <td>4</td>\n",
       "      <td>2016</td>\n",
       "      <td>7.866537e+10</td>\n",
       "      <td>106024.777778</td>\n",
       "      <td>103.539822</td>\n",
       "    </tr>\n",
       "    <tr>\n",
       "      <th>4</th>\n",
       "      <td>80</td>\n",
       "      <td>5</td>\n",
       "      <td>3160</td>\n",
       "      <td>1.025056e+11</td>\n",
       "      <td>100806.222222</td>\n",
       "      <td>98.443576</td>\n",
       "    </tr>\n",
       "    <tr>\n",
       "      <th>5</th>\n",
       "      <td>96</td>\n",
       "      <td>6</td>\n",
       "      <td>4560</td>\n",
       "      <td>1.108788e+11</td>\n",
       "      <td>107820.777778</td>\n",
       "      <td>105.293728</td>\n",
       "    </tr>\n",
       "    <tr>\n",
       "      <th>6</th>\n",
       "      <td>112</td>\n",
       "      <td>7</td>\n",
       "      <td>6216</td>\n",
       "      <td>1.047030e+11</td>\n",
       "      <td>123101.000000</td>\n",
       "      <td>120.215820</td>\n",
       "    </tr>\n",
       "  </tbody>\n",
       "</table>\n",
       "</div>"
      ],
      "text/plain": [
       "   chunks  nodes  taskid      walltime     throughput  totalthroughput\n",
       "0      16      1     120  3.932590e+10   46147.444444        45.065864\n",
       "1      32      2     496  4.830194e+10   75619.222222        73.846897\n",
       "2      48      3    1128  6.416345e+10   91928.777778        89.774197\n",
       "3      64      4    2016  7.866537e+10  106024.777778       103.539822\n",
       "4      80      5    3160  1.025056e+11  100806.222222        98.443576\n",
       "5      96      6    4560  1.108788e+11  107820.777778       105.293728\n",
       "6     112      7    6216  1.047030e+11  123101.000000       120.215820"
      ]
     },
     "execution_count": 101,
     "metadata": {},
     "output_type": "execute_result"
    }
   ],
   "source": [
    "sumthroughput = df.groupby([\"chunks\",\"nodes\",\"taskid\"]).mean()\n",
    "sumthroughput = sumthroughput.reset_index().groupby([\"chunks\",\"nodes\"]).sum()\n",
    "sumthroughput = sumthroughput.reset_index()\n",
    "sumthroughput[\"totalthroughput\"] = sumthroughput[\"throughput\"] / 1024\n",
    "sumthroughput"
   ]
  },
  {
   "cell_type": "code",
   "execution_count": 95,
   "id": "55d43d63",
   "metadata": {},
   "outputs": [
    {
     "data": {
      "text/plain": [
       "<matplotlib.legend.Legend at 0x7f11becd6970>"
      ]
     },
     "execution_count": 95,
     "metadata": {},
     "output_type": "execute_result"
    },
    {
     "data": {
      "image/png": "[encoded data removed]",
      "text/plain": [
       "<Figure size 720x720 with 1 Axes>"
      ]
     },
     "metadata": {
      "needs_background": "light"
     },
     "output_type": "display_data"
    }
   ],
   "source": [
    "pyplot.figure(figsize=[10,10])\n",
    "pyplot.plot(sumthroughput[\"nodes\"], sumthroughput[\"totalthroughput\"], label=\"sum of all tasks throughput\", marker=\"o\")\n",
    "pyplot.xlabel(\"nodes\")\n",
    "pyplot.ylabel(\"Throughput [GB/s]\")\n",
    "pyplot.legend()"
   ]
  },
  {
   "cell_type": "code",
   "execution_count": 48,
   "id": "bf40cc54",
   "metadata": {},
   "outputs": [
    {
     "name": "stdout",
     "output_type": "stream",
     "text": [
      "['distrdf', 'lhcb', '100x', 'daos', '48chunks', '3nodes.csv']\n",
      "['distrdf', 'lhcb', '100x', 'daos', '80chunks', '5nodes.csv']\n",
      "['distrdf', 'lhcb', '100x', 'daos', '64chunks', '4nodes.csv']\n",
      "['distrdf', 'lhcb', '100x', 'daos', '16chunks', '1nodes.csv']\n",
      "['distrdf', 'lhcb', '100x', 'daos', '112chunks', '7nodes.csv']\n",
      "['distrdf', 'lhcb', '100x', 'daos', '96chunks', '6nodes.csv']\n",
      "['distrdf', 'lhcb', '100x', 'daos', '32chunks', '2nodes.csv']\n"
     ]
    },
    {
     "data": {
      "text/html": [
       "<div>\n",
       "<style scoped>\n",
       "    .dataframe tbody tr th:only-of-type {\n",
       "        vertical-align: middle;\n",
       "    }\n",
       "\n",
       "    .dataframe tbody tr th {\n",
       "        vertical-align: top;\n",
       "    }\n",
       "\n",
       "    .dataframe thead th {\n",
       "        text-align: right;\n",
       "    }\n",
       "</style>\n",
       "<table border=\"1\" class=\"dataframe\">\n",
       "  <thead>\n",
       "    <tr style=\"text-align: right;\">\n",
       "      <th></th>\n",
       "      <th>nodes</th>\n",
       "      <th>meanruntime</th>\n",
       "      <th>err</th>\n",
       "      <th>throughput_MB_s</th>\n",
       "    </tr>\n",
       "  </thead>\n",
       "  <tbody>\n",
       "    <tr>\n",
       "      <th>0</th>\n",
       "      <td>1</td>\n",
       "      <td>30.10</td>\n",
       "      <td>1.21</td>\n",
       "      <td>3964</td>\n",
       "    </tr>\n",
       "    <tr>\n",
       "      <th>1</th>\n",
       "      <td>2</td>\n",
       "      <td>16.11</td>\n",
       "      <td>0.56</td>\n",
       "      <td>7405</td>\n",
       "    </tr>\n",
       "    <tr>\n",
       "      <th>2</th>\n",
       "      <td>3</td>\n",
       "      <td>12.14</td>\n",
       "      <td>0.76</td>\n",
       "      <td>9828</td>\n",
       "    </tr>\n",
       "    <tr>\n",
       "      <th>3</th>\n",
       "      <td>4</td>\n",
       "      <td>10.25</td>\n",
       "      <td>0.99</td>\n",
       "      <td>11644</td>\n",
       "    </tr>\n",
       "    <tr>\n",
       "      <th>4</th>\n",
       "      <td>5</td>\n",
       "      <td>9.72</td>\n",
       "      <td>1.09</td>\n",
       "      <td>12270</td>\n",
       "    </tr>\n",
       "    <tr>\n",
       "      <th>5</th>\n",
       "      <td>6</td>\n",
       "      <td>8.85</td>\n",
       "      <td>0.92</td>\n",
       "      <td>13484</td>\n",
       "    </tr>\n",
       "    <tr>\n",
       "      <th>6</th>\n",
       "      <td>7</td>\n",
       "      <td>6.93</td>\n",
       "      <td>0.04</td>\n",
       "      <td>17223</td>\n",
       "    </tr>\n",
       "  </tbody>\n",
       "</table>\n",
       "</div>"
      ],
      "text/plain": [
       "   nodes  meanruntime   err  throughput_MB_s\n",
       "0      1        30.10  1.21             3964\n",
       "1      2        16.11  0.56             7405\n",
       "2      3        12.14  0.76             9828\n",
       "3      4        10.25  0.99            11644\n",
       "4      5         9.72  1.09            12270\n",
       "5      6         8.85  0.92            13484\n",
       "6      7         6.93  0.04            17223"
      ]
     },
     "execution_count": 48,
     "metadata": {},
     "output_type": "execute_result"
    }
   ],
   "source": [
    "times = {\"nodes\":[],\"meanruntime\":[], \"err\":[], \"throughput_MB_s\":[]}\n",
    "timedir = \"appruntimes\"\n",
    "datasetsize = 157400503680\n",
    "readpercent = 0.7949011466389114\n",
    "readsize = readpercent * datasetsize\n",
    "\n",
    "for f in os.listdir(timedir):\n",
    "    array = numpy.genfromtxt(os.path.join(timedir, f), skip_header=1)\n",
    "    print(f.split(\"_\"))\n",
    "    nodes = f.split(\"_\")[5].replace(\"nodes.csv\",\"\")\n",
    "    time_mean = numpy.mean(array)\n",
    "    times[\"nodes\"].append(int(nodes))\n",
    "    times[\"meanruntime\"].append(round(time_mean, 2))\n",
    "    times[\"err\"].append(round(numpy.std(array)/numpy.sqrt(len(array)), 2))\n",
    "    times[\"throughput_MB_s\"].append(round(readsize/time_mean/1024/1024))\n",
    "    \n",
    "timesdf = pandas.DataFrame(times)\n",
    "timesdf = timesdf.sort_values(by=\"nodes\").reset_index(drop=True).copy()\n",
    "timesdf"
   ]
  },
  {
   "cell_type": "code",
   "execution_count": 96,
   "id": "bea14a0b",
   "metadata": {},
   "outputs": [
    {
     "data": {
      "text/html": [
       "<div>\n",
       "<style scoped>\n",
       "    .dataframe tbody tr th:only-of-type {\n",
       "        vertical-align: middle;\n",
       "    }\n",
       "\n",
       "    .dataframe tbody tr th {\n",
       "        vertical-align: top;\n",
       "    }\n",
       "\n",
       "    .dataframe thead th {\n",
       "        text-align: right;\n",
       "    }\n",
       "</style>\n",
       "<table border=\"1\" class=\"dataframe\">\n",
       "  <thead>\n",
       "    <tr style=\"text-align: right;\">\n",
       "      <th></th>\n",
       "      <th>nodes</th>\n",
       "      <th>meanruntime</th>\n",
       "      <th>err</th>\n",
       "      <th>throughput_MB_s</th>\n",
       "      <th>throughputspeedup</th>\n",
       "    </tr>\n",
       "  </thead>\n",
       "  <tbody>\n",
       "    <tr>\n",
       "      <th>0</th>\n",
       "      <td>1</td>\n",
       "      <td>30.10</td>\n",
       "      <td>1.21</td>\n",
       "      <td>3964</td>\n",
       "      <td>1.000000</td>\n",
       "    </tr>\n",
       "    <tr>\n",
       "      <th>1</th>\n",
       "      <td>2</td>\n",
       "      <td>16.11</td>\n",
       "      <td>0.56</td>\n",
       "      <td>7405</td>\n",
       "      <td>1.868063</td>\n",
       "    </tr>\n",
       "    <tr>\n",
       "      <th>2</th>\n",
       "      <td>3</td>\n",
       "      <td>12.14</td>\n",
       "      <td>0.76</td>\n",
       "      <td>9828</td>\n",
       "      <td>2.479314</td>\n",
       "    </tr>\n",
       "    <tr>\n",
       "      <th>3</th>\n",
       "      <td>4</td>\n",
       "      <td>10.25</td>\n",
       "      <td>0.99</td>\n",
       "      <td>11644</td>\n",
       "      <td>2.937437</td>\n",
       "    </tr>\n",
       "    <tr>\n",
       "      <th>4</th>\n",
       "      <td>5</td>\n",
       "      <td>9.72</td>\n",
       "      <td>1.09</td>\n",
       "      <td>12270</td>\n",
       "      <td>3.095358</td>\n",
       "    </tr>\n",
       "    <tr>\n",
       "      <th>5</th>\n",
       "      <td>6</td>\n",
       "      <td>8.85</td>\n",
       "      <td>0.92</td>\n",
       "      <td>13484</td>\n",
       "      <td>3.401615</td>\n",
       "    </tr>\n",
       "    <tr>\n",
       "      <th>6</th>\n",
       "      <td>7</td>\n",
       "      <td>6.93</td>\n",
       "      <td>0.04</td>\n",
       "      <td>17223</td>\n",
       "      <td>4.344854</td>\n",
       "    </tr>\n",
       "  </tbody>\n",
       "</table>\n",
       "</div>"
      ],
      "text/plain": [
       "   nodes  meanruntime   err  throughput_MB_s  throughputspeedup\n",
       "0      1        30.10  1.21             3964           1.000000\n",
       "1      2        16.11  0.56             7405           1.868063\n",
       "2      3        12.14  0.76             9828           2.479314\n",
       "3      4        10.25  0.99            11644           2.937437\n",
       "4      5         9.72  1.09            12270           3.095358\n",
       "5      6         8.85  0.92            13484           3.401615\n",
       "6      7         6.93  0.04            17223           4.344854"
      ]
     },
     "execution_count": 96,
     "metadata": {},
     "output_type": "execute_result"
    }
   ],
   "source": [
    "throughput_1node = timesdf[\"throughput_MB_s\"][0]\n",
    "timesdf[\"throughputspeedup\"] = timesdf[\"throughput_MB_s\"] / throughput_1node\n",
    "timesdf"
   ]
  },
  {
   "cell_type": "code",
   "execution_count": 49,
   "id": "4ac64bc2",
   "metadata": {},
   "outputs": [
    {
     "data": {
      "text/plain": [
       "<matplotlib.legend.Legend at 0x7f11ce0fec10>"
      ]
     },
     "execution_count": 49,
     "metadata": {},
     "output_type": "execute_result"
    },
    {
     "data": {
      "image/png": "[encoded data removed]",
      "text/plain": [
       "<Figure size 720x720 with 1 Axes>"
      ]
     },
     "metadata": {
      "needs_background": "light"
     },
     "output_type": "display_data"
    }
   ],
   "source": [
    "pyplot.figure(figsize=[10,10])\n",
    "pyplot.plot(timesdf[\"nodes\"], timesdf[\"meanruntime\"], label=\"Average runtime\", marker=\"o\")\n",
    "pyplot.xlabel(\"nodes\")\n",
    "pyplot.ylabel(\"Runtime [s]\")\n",
    "pyplot.legend()"
   ]
  },
  {
   "cell_type": "code",
   "execution_count": 104,
   "id": "fdc525ce",
   "metadata": {},
   "outputs": [
    {
     "data": {
      "text/plain": [
       "7.0588235294117645"
      ]
     },
     "execution_count": 104,
     "metadata": {},
     "output_type": "execute_result"
    }
   ],
   "source": [
    "120 / 17"
   ]
  },
  {
   "cell_type": "code",
   "execution_count": null,
   "id": "feddd509",
   "metadata": {},
   "outputs": [],
   "source": []
  }
 ],
 "metadata": {
  "kernelspec": {
   "display_name": "Python 3",
   "language": "python",
   "name": "python3"
  },
  "language_info": {
   "codemirror_mode": {
    "name": "ipython",
    "version": 3
   },
   "file_extension": ".py",
   "mimetype": "text/x-python",
   "name": "python",
   "nbconvert_exporter": "python",
   "pygments_lexer": "ipython3",
   "version": "3.9.7"
  }
 },
 "nbformat": 4,
 "nbformat_minor": 5
}
