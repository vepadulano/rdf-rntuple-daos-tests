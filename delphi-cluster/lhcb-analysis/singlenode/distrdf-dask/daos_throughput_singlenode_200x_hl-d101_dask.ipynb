{
 "cells": [
  {
   "cell_type": "code",
   "execution_count": 2,
   "id": "845f877b",
   "metadata": {},
   "outputs": [
    {
     "name": "stdout",
     "output_type": "stream",
     "text": [
      "Welcome to JupyROOT 6.27/01\n"
     ]
    }
   ],
   "source": [
    "import pandas\n",
    "import numpy\n",
    "from matplotlib import pyplot\n",
    "import os\n",
    "import ROOT"
   ]
  },
  {
   "cell_type": "code",
   "execution_count": 23,
   "id": "e5f78053",
   "metadata": {},
   "outputs": [
    {
     "data": {
      "text/html": [
       "<div>\n",
       "<style scoped>\n",
       "    .dataframe tbody tr th:only-of-type {\n",
       "        vertical-align: middle;\n",
       "    }\n",
       "\n",
       "    .dataframe tbody tr th {\n",
       "        vertical-align: top;\n",
       "    }\n",
       "\n",
       "    .dataframe thead th {\n",
       "        text-align: right;\n",
       "    }\n",
       "</style>\n",
       "<table border=\"1\" class=\"dataframe\">\n",
       "  <thead>\n",
       "    <tr style=\"text-align: right;\">\n",
       "      <th></th>\n",
       "      <th>cores</th>\n",
       "      <th>mean</th>\n",
       "      <th>meanerr</th>\n",
       "      <th>throughput_GB_s</th>\n",
       "    </tr>\n",
       "  </thead>\n",
       "  <tbody>\n",
       "    <tr>\n",
       "      <th>0</th>\n",
       "      <td>1</td>\n",
       "      <td>394.00</td>\n",
       "      <td>0.00</td>\n",
       "      <td>0.573303</td>\n",
       "    </tr>\n",
       "    <tr>\n",
       "      <th>1</th>\n",
       "      <td>2</td>\n",
       "      <td>197.00</td>\n",
       "      <td>0.00</td>\n",
       "      <td>1.146607</td>\n",
       "    </tr>\n",
       "    <tr>\n",
       "      <th>2</th>\n",
       "      <td>4</td>\n",
       "      <td>100.70</td>\n",
       "      <td>0.57</td>\n",
       "      <td>2.243084</td>\n",
       "    </tr>\n",
       "    <tr>\n",
       "      <th>3</th>\n",
       "      <td>6</td>\n",
       "      <td>70.83</td>\n",
       "      <td>0.64</td>\n",
       "      <td>3.188987</td>\n",
       "    </tr>\n",
       "    <tr>\n",
       "      <th>4</th>\n",
       "      <td>8</td>\n",
       "      <td>54.38</td>\n",
       "      <td>0.59</td>\n",
       "      <td>4.154107</td>\n",
       "    </tr>\n",
       "    <tr>\n",
       "      <th>5</th>\n",
       "      <td>10</td>\n",
       "      <td>43.53</td>\n",
       "      <td>0.48</td>\n",
       "      <td>5.189175</td>\n",
       "    </tr>\n",
       "    <tr>\n",
       "      <th>6</th>\n",
       "      <td>12</td>\n",
       "      <td>36.20</td>\n",
       "      <td>0.27</td>\n",
       "      <td>6.240184</td>\n",
       "    </tr>\n",
       "    <tr>\n",
       "      <th>7</th>\n",
       "      <td>14</td>\n",
       "      <td>30.81</td>\n",
       "      <td>0.15</td>\n",
       "      <td>7.332224</td>\n",
       "    </tr>\n",
       "    <tr>\n",
       "      <th>8</th>\n",
       "      <td>16</td>\n",
       "      <td>27.96</td>\n",
       "      <td>0.18</td>\n",
       "      <td>8.079864</td>\n",
       "    </tr>\n",
       "  </tbody>\n",
       "</table>\n",
       "</div>"
      ],
      "text/plain": [
       "   cores    mean  meanerr  throughput_GB_s\n",
       "0      1  394.00     0.00         0.573303\n",
       "1      2  197.00     0.00         1.146607\n",
       "2      4  100.70     0.57         2.243084\n",
       "3      6   70.83     0.64         3.188987\n",
       "4      8   54.38     0.59         4.154107\n",
       "5     10   43.53     0.48         5.189175\n",
       "6     12   36.20     0.27         6.240184\n",
       "7     14   30.81     0.15         7.332224\n",
       "8     16   27.96     0.18         8.079864"
      ]
     },
     "execution_count": 23,
     "metadata": {},
     "output_type": "execute_result"
    }
   ],
   "source": [
    "times = {\"cores\":[],\"mean\":[],\"meanerr\":[],\"throughput_GB_s\":[]}\n",
    "timedir = \"dask-singlenode-200x-20211130/appruntimes\"\n",
    "\n",
    "readsize = 225881515200\n",
    "for f in os.listdir(timedir):\n",
    "    array = numpy.genfromtxt(timedir+\"/\"+f, skip_header=1)\n",
    "    nodes = f.split(\"_\")[5].replace(\"cores.csv\",\"\")\n",
    "    time_mean = numpy.mean(array)\n",
    "    times[\"cores\"].append(int(nodes))\n",
    "    times[\"mean\"].append(round(time_mean, 2))\n",
    "    times[\"meanerr\"].append(round(numpy.std(array)/numpy.sqrt(len(array)), 2))\n",
    "    times[\"throughput_GB_s\"].append(readsize/time_mean/pow(10, 9))\n",
    "\n",
    "timesdf = pandas.DataFrame(times)\n",
    "timesdf = timesdf.sort_values(by=\"cores\").reset_index(drop=True).copy()\n",
    "timesdf"
   ]
  },
  {
   "cell_type": "code",
   "execution_count": 24,
   "id": "0153d0c6",
   "metadata": {
    "scrolled": true
   },
   "outputs": [
    {
     "data": {
      "text/html": [
       "<div>\n",
       "<style scoped>\n",
       "    .dataframe tbody tr th:only-of-type {\n",
       "        vertical-align: middle;\n",
       "    }\n",
       "\n",
       "    .dataframe tbody tr th {\n",
       "        vertical-align: top;\n",
       "    }\n",
       "\n",
       "    .dataframe thead th {\n",
       "        text-align: right;\n",
       "    }\n",
       "</style>\n",
       "<table border=\"1\" class=\"dataframe\">\n",
       "  <thead>\n",
       "    <tr style=\"text-align: right;\">\n",
       "      <th></th>\n",
       "      <th>cores</th>\n",
       "      <th>mean</th>\n",
       "      <th>meanerr</th>\n",
       "      <th>throughput_GB_s</th>\n",
       "      <th>throughputspeedup</th>\n",
       "    </tr>\n",
       "  </thead>\n",
       "  <tbody>\n",
       "    <tr>\n",
       "      <th>0</th>\n",
       "      <td>1</td>\n",
       "      <td>394.00</td>\n",
       "      <td>0.00</td>\n",
       "      <td>0.573303</td>\n",
       "      <td>1.000000</td>\n",
       "    </tr>\n",
       "    <tr>\n",
       "      <th>1</th>\n",
       "      <td>2</td>\n",
       "      <td>197.00</td>\n",
       "      <td>0.00</td>\n",
       "      <td>1.146607</td>\n",
       "      <td>2.000000</td>\n",
       "    </tr>\n",
       "    <tr>\n",
       "      <th>2</th>\n",
       "      <td>4</td>\n",
       "      <td>100.70</td>\n",
       "      <td>0.57</td>\n",
       "      <td>2.243084</td>\n",
       "      <td>3.912561</td>\n",
       "    </tr>\n",
       "    <tr>\n",
       "      <th>3</th>\n",
       "      <td>6</td>\n",
       "      <td>70.83</td>\n",
       "      <td>0.64</td>\n",
       "      <td>3.188987</td>\n",
       "      <td>5.562478</td>\n",
       "    </tr>\n",
       "    <tr>\n",
       "      <th>4</th>\n",
       "      <td>8</td>\n",
       "      <td>54.38</td>\n",
       "      <td>0.59</td>\n",
       "      <td>4.154107</td>\n",
       "      <td>7.245914</td>\n",
       "    </tr>\n",
       "    <tr>\n",
       "      <th>5</th>\n",
       "      <td>10</td>\n",
       "      <td>43.53</td>\n",
       "      <td>0.48</td>\n",
       "      <td>5.189175</td>\n",
       "      <td>9.051360</td>\n",
       "    </tr>\n",
       "    <tr>\n",
       "      <th>6</th>\n",
       "      <td>12</td>\n",
       "      <td>36.20</td>\n",
       "      <td>0.27</td>\n",
       "      <td>6.240184</td>\n",
       "      <td>10.884611</td>\n",
       "    </tr>\n",
       "    <tr>\n",
       "      <th>7</th>\n",
       "      <td>14</td>\n",
       "      <td>30.81</td>\n",
       "      <td>0.15</td>\n",
       "      <td>7.332224</td>\n",
       "      <td>12.789432</td>\n",
       "    </tr>\n",
       "    <tr>\n",
       "      <th>8</th>\n",
       "      <td>16</td>\n",
       "      <td>27.96</td>\n",
       "      <td>0.18</td>\n",
       "      <td>8.079864</td>\n",
       "      <td>14.093523</td>\n",
       "    </tr>\n",
       "  </tbody>\n",
       "</table>\n",
       "</div>"
      ],
      "text/plain": [
       "   cores    mean  meanerr  throughput_GB_s  throughputspeedup\n",
       "0      1  394.00     0.00         0.573303           1.000000\n",
       "1      2  197.00     0.00         1.146607           2.000000\n",
       "2      4  100.70     0.57         2.243084           3.912561\n",
       "3      6   70.83     0.64         3.188987           5.562478\n",
       "4      8   54.38     0.59         4.154107           7.245914\n",
       "5     10   43.53     0.48         5.189175           9.051360\n",
       "6     12   36.20     0.27         6.240184          10.884611\n",
       "7     14   30.81     0.15         7.332224          12.789432\n",
       "8     16   27.96     0.18         8.079864          14.093523"
      ]
     },
     "execution_count": 24,
     "metadata": {},
     "output_type": "execute_result"
    }
   ],
   "source": [
    "throughput_1node = timesdf[\"throughput_GB_s\"][0]\n",
    "timesdf[\"throughputspeedup\"] = timesdf[\"throughput_GB_s\"] / throughput_1node\n",
    "timesdf"
   ]
  },
  {
   "cell_type": "code",
   "execution_count": 26,
   "id": "f05df533",
   "metadata": {},
   "outputs": [
    {
     "data": {
      "text/plain": [
       "<matplotlib.legend.Legend at 0x7fd47b1f9550>"
      ]
     },
     "execution_count": 26,
     "metadata": {},
     "output_type": "execute_result"
    },
    {
     "data": {
      "image/png": "[encoded data removed]",
      "text/plain": [
       "<Figure size 720x720 with 1 Axes>"
      ]
     },
     "metadata": {
      "needs_background": "light"
     },
     "output_type": "display_data"
    }
   ],
   "source": [
    "pyplot.figure(figsize=[10,10])\n",
    "pyplot.plot(timesdf[\"cores\"], timesdf[\"throughputspeedup\"], label=\"real scaling\", marker=\"o\")\n",
    "pyplot.plot(timesdf[\"cores\"], timesdf[\"cores\"]/timesdf[\"cores\"][0], label=\"ideal scaling\", marker=\"o\")\n",
    "pyplot.xticks(timesdf[\"cores\"])\n",
    "#pyplot.yticks(timesdf[\"cores\"])\n",
    "pyplot.xlabel(\"Cores\")\n",
    "pyplot.ylabel(\"Processing throughput scaling\")\n",
    "pyplot.legend()"
   ]
  },
  {
   "cell_type": "code",
   "execution_count": 27,
   "id": "091b6993",
   "metadata": {},
   "outputs": [
    {
     "name": "stderr",
     "output_type": "stream",
     "text": [
      "No artists with labels found to put in legend.  Note that artists whose label start with an underscore are ignored when legend() is called with no argument.\n"
     ]
    },
    {
     "data": {
      "text/plain": [
       "<matplotlib.legend.Legend at 0x7fd47b10dd60>"
      ]
     },
     "execution_count": 27,
     "metadata": {},
     "output_type": "execute_result"
    },
    {
     "data": {
      "image/png": "[encoded data removed]",
      "text/plain": [
       "<Figure size 720x720 with 1 Axes>"
      ]
     },
     "metadata": {
      "needs_background": "light"
     },
     "output_type": "display_data"
    }
   ],
   "source": [
    "pyplot.figure(figsize=[10,10])\n",
    "pyplot.plot(timesdf[\"cores\"], timesdf[\"throughput_GB_s\"], marker=\"o\")\n",
    "pyplot.xticks(timesdf[\"cores\"])\n",
    "\n",
    "pyplot.xlabel(\"Cores\")\n",
    "pyplot.ylabel(\"Processing Throughput [GB/s]\")\n",
    "pyplot.legend()"
   ]
  },
  {
   "cell_type": "markdown",
   "id": "a4fe440f",
   "metadata": {},
   "source": [
    "# RNTuple read throughput"
   ]
  },
  {
   "cell_type": "code",
   "execution_count": 28,
   "id": "e2f350b1",
   "metadata": {},
   "outputs": [
    {
     "data": {
      "text/html": [
       "<div>\n",
       "<style scoped>\n",
       "    .dataframe tbody tr th:only-of-type {\n",
       "        vertical-align: middle;\n",
       "    }\n",
       "\n",
       "    .dataframe tbody tr th {\n",
       "        vertical-align: top;\n",
       "    }\n",
       "\n",
       "    .dataframe thead th {\n",
       "        text-align: right;\n",
       "    }\n",
       "</style>\n",
       "<table border=\"1\" class=\"dataframe\">\n",
       "  <thead>\n",
       "    <tr style=\"text-align: right;\">\n",
       "      <th></th>\n",
       "      <th>taskruntime</th>\n",
       "      <th>taskreadtime</th>\n",
       "      <th>readthroughput</th>\n",
       "      <th>readpayload</th>\n",
       "      <th>taskid</th>\n",
       "      <th>cores</th>\n",
       "    </tr>\n",
       "  </thead>\n",
       "  <tbody>\n",
       "    <tr>\n",
       "      <th>0</th>\n",
       "      <td>96.210</td>\n",
       "      <td>12148987525</td>\n",
       "      <td>4648</td>\n",
       "      <td>56470378800</td>\n",
       "      <td>3</td>\n",
       "      <td>4</td>\n",
       "    </tr>\n",
       "    <tr>\n",
       "      <th>1</th>\n",
       "      <td>80.618</td>\n",
       "      <td>12167205050</td>\n",
       "      <td>4641</td>\n",
       "      <td>56470378800</td>\n",
       "      <td>2</td>\n",
       "      <td>4</td>\n",
       "    </tr>\n",
       "    <tr>\n",
       "      <th>2</th>\n",
       "      <td>95.590</td>\n",
       "      <td>12087642763</td>\n",
       "      <td>4671</td>\n",
       "      <td>56470378800</td>\n",
       "      <td>2</td>\n",
       "      <td>4</td>\n",
       "    </tr>\n",
       "    <tr>\n",
       "      <th>3</th>\n",
       "      <td>96.187</td>\n",
       "      <td>16547154346</td>\n",
       "      <td>3412</td>\n",
       "      <td>56470378800</td>\n",
       "      <td>2</td>\n",
       "      <td>4</td>\n",
       "    </tr>\n",
       "    <tr>\n",
       "      <th>4</th>\n",
       "      <td>89.071</td>\n",
       "      <td>12013875890</td>\n",
       "      <td>4700</td>\n",
       "      <td>56470378800</td>\n",
       "      <td>2</td>\n",
       "      <td>4</td>\n",
       "    </tr>\n",
       "    <tr>\n",
       "      <th>...</th>\n",
       "      <td>...</td>\n",
       "      <td>...</td>\n",
       "      <td>...</td>\n",
       "      <td>...</td>\n",
       "      <td>...</td>\n",
       "      <td>...</td>\n",
       "    </tr>\n",
       "    <tr>\n",
       "      <th>1325</th>\n",
       "      <td>25.053</td>\n",
       "      <td>7088400659</td>\n",
       "      <td>1991</td>\n",
       "      <td>14117594700</td>\n",
       "      <td>8</td>\n",
       "      <td>16</td>\n",
       "    </tr>\n",
       "    <tr>\n",
       "      <th>1326</th>\n",
       "      <td>25.128</td>\n",
       "      <td>5893196739</td>\n",
       "      <td>2395</td>\n",
       "      <td>14117594700</td>\n",
       "      <td>8</td>\n",
       "      <td>16</td>\n",
       "    </tr>\n",
       "    <tr>\n",
       "      <th>1327</th>\n",
       "      <td>27.186</td>\n",
       "      <td>5750340038</td>\n",
       "      <td>2455</td>\n",
       "      <td>14117594700</td>\n",
       "      <td>8</td>\n",
       "      <td>16</td>\n",
       "    </tr>\n",
       "    <tr>\n",
       "      <th>1328</th>\n",
       "      <td>24.008</td>\n",
       "      <td>5822654297</td>\n",
       "      <td>2424</td>\n",
       "      <td>14117594700</td>\n",
       "      <td>7</td>\n",
       "      <td>16</td>\n",
       "    </tr>\n",
       "    <tr>\n",
       "      <th>1329</th>\n",
       "      <td>26.829</td>\n",
       "      <td>6248472873</td>\n",
       "      <td>2259</td>\n",
       "      <td>14117594700</td>\n",
       "      <td>2</td>\n",
       "      <td>16</td>\n",
       "    </tr>\n",
       "  </tbody>\n",
       "</table>\n",
       "<p>1330 rows × 6 columns</p>\n",
       "</div>"
      ],
      "text/plain": [
       "      taskruntime  taskreadtime  readthroughput  readpayload  taskid  cores\n",
       "0          96.210   12148987525            4648  56470378800       3      4\n",
       "1          80.618   12167205050            4641  56470378800       2      4\n",
       "2          95.590   12087642763            4671  56470378800       2      4\n",
       "3          96.187   16547154346            3412  56470378800       2      4\n",
       "4          89.071   12013875890            4700  56470378800       2      4\n",
       "...           ...           ...             ...          ...     ...    ...\n",
       "1325       25.053    7088400659            1991  14117594700       8     16\n",
       "1326       25.128    5893196739            2395  14117594700       8     16\n",
       "1327       27.186    5750340038            2455  14117594700       8     16\n",
       "1328       24.008    5822654297            2424  14117594700       7     16\n",
       "1329       26.829    6248472873            2259  14117594700       2     16\n",
       "\n",
       "[1330 rows x 6 columns]"
      ]
     },
     "execution_count": 28,
     "metadata": {},
     "output_type": "execute_result"
    }
   ],
   "source": [
    "times = {\"taskid\":[],\"mean\":[],\"meanerr\":[],\"throughput_MB_s\":[]}\n",
    "maindir = \"dask-singlenode-200x-20211130\"\n",
    "timedirs = [timedir for timedir in os.listdir(maindir) if timedir.startswith(\"timeresults\")]\n",
    "\n",
    "dfs = []\n",
    "for timedir in timedirs:\n",
    "    nodes = timedir.split(\"_\")[2].replace(\"cores\",\"\")\n",
    "    chunks = nodes\n",
    "    for f in os.listdir(os.path.join(maindir, timedir)):\n",
    "        df = pandas.read_csv(os.path.join(maindir, timedir, f), header=None, names=[\"taskruntime\",\"taskreadtime\",\"readthroughput\",\"readpayload\"], skiprows=1)\n",
    "        taskid = f.split(\"_\")[1].replace(\"task\",\"\")\n",
    "        df[\"taskid\"] = int(taskid)\n",
    "        df[\"cores\"] = int(nodes)\n",
    "        dfs.append(df)\n",
    "\n",
    "df = pandas.concat(dfs).sort_values(by=\"cores\").reset_index(drop=True)\n",
    "df"
   ]
  },
  {
   "cell_type": "code",
   "execution_count": 29,
   "id": "4663b1d6",
   "metadata": {},
   "outputs": [
    {
     "data": {
      "text/html": [
       "<div>\n",
       "<style scoped>\n",
       "    .dataframe tbody tr th:only-of-type {\n",
       "        vertical-align: middle;\n",
       "    }\n",
       "\n",
       "    .dataframe tbody tr th {\n",
       "        vertical-align: top;\n",
       "    }\n",
       "\n",
       "    .dataframe thead th {\n",
       "        text-align: right;\n",
       "    }\n",
       "</style>\n",
       "<table border=\"1\" class=\"dataframe\">\n",
       "  <thead>\n",
       "    <tr style=\"text-align: right;\">\n",
       "      <th></th>\n",
       "      <th>cores</th>\n",
       "      <th>taskruntime</th>\n",
       "      <th>taskreadtime</th>\n",
       "      <th>readthroughput</th>\n",
       "      <th>readpayload</th>\n",
       "      <th>taskreadtime_s</th>\n",
       "    </tr>\n",
       "  </thead>\n",
       "  <tbody>\n",
       "    <tr>\n",
       "      <th>0</th>\n",
       "      <td>4</td>\n",
       "      <td>96.265658</td>\n",
       "      <td>1.380376e+10</td>\n",
       "      <td>4180.973684</td>\n",
       "      <td>5.647038e+10</td>\n",
       "      <td>13.803763</td>\n",
       "    </tr>\n",
       "    <tr>\n",
       "      <th>1</th>\n",
       "      <td>6</td>\n",
       "      <td>68.264596</td>\n",
       "      <td>1.033118e+10</td>\n",
       "      <td>3701.254386</td>\n",
       "      <td>3.764692e+10</td>\n",
       "      <td>10.331179</td>\n",
       "    </tr>\n",
       "    <tr>\n",
       "      <th>2</th>\n",
       "      <td>8</td>\n",
       "      <td>51.654507</td>\n",
       "      <td>8.279066e+09</td>\n",
       "      <td>3486.217105</td>\n",
       "      <td>2.823519e+10</td>\n",
       "      <td>8.279066</td>\n",
       "    </tr>\n",
       "    <tr>\n",
       "      <th>3</th>\n",
       "      <td>10</td>\n",
       "      <td>39.502826</td>\n",
       "      <td>6.560861e+09</td>\n",
       "      <td>3489.426316</td>\n",
       "      <td>2.258815e+10</td>\n",
       "      <td>6.560861</td>\n",
       "    </tr>\n",
       "    <tr>\n",
       "      <th>4</th>\n",
       "      <td>12</td>\n",
       "      <td>33.218329</td>\n",
       "      <td>6.120893e+09</td>\n",
       "      <td>3126.942982</td>\n",
       "      <td>1.882346e+10</td>\n",
       "      <td>6.120893</td>\n",
       "    </tr>\n",
       "    <tr>\n",
       "      <th>5</th>\n",
       "      <td>14</td>\n",
       "      <td>28.356560</td>\n",
       "      <td>5.858091e+09</td>\n",
       "      <td>2816.296992</td>\n",
       "      <td>1.613439e+10</td>\n",
       "      <td>5.858091</td>\n",
       "    </tr>\n",
       "    <tr>\n",
       "      <th>6</th>\n",
       "      <td>16</td>\n",
       "      <td>25.833944</td>\n",
       "      <td>6.178986e+09</td>\n",
       "      <td>2337.953947</td>\n",
       "      <td>1.411759e+10</td>\n",
       "      <td>6.178986</td>\n",
       "    </tr>\n",
       "  </tbody>\n",
       "</table>\n",
       "</div>"
      ],
      "text/plain": [
       "   cores  taskruntime  taskreadtime  readthroughput   readpayload  \\\n",
       "0      4    96.265658  1.380376e+10     4180.973684  5.647038e+10   \n",
       "1      6    68.264596  1.033118e+10     3701.254386  3.764692e+10   \n",
       "2      8    51.654507  8.279066e+09     3486.217105  2.823519e+10   \n",
       "3     10    39.502826  6.560861e+09     3489.426316  2.258815e+10   \n",
       "4     12    33.218329  6.120893e+09     3126.942982  1.882346e+10   \n",
       "5     14    28.356560  5.858091e+09     2816.296992  1.613439e+10   \n",
       "6     16    25.833944  6.178986e+09     2337.953947  1.411759e+10   \n",
       "\n",
       "   taskreadtime_s  \n",
       "0       13.803763  \n",
       "1       10.331179  \n",
       "2        8.279066  \n",
       "3        6.560861  \n",
       "4        6.120893  \n",
       "5        5.858091  \n",
       "6        6.178986  "
      ]
     },
     "execution_count": 29,
     "metadata": {},
     "output_type": "execute_result"
    }
   ],
   "source": [
    "meantaskthroughput = df.groupby([\"cores\"]).mean()[[\"taskruntime\",\"taskreadtime\",\"readthroughput\",\"readpayload\"]]\n",
    "meantaskthroughput = meantaskthroughput.reset_index().sort_values(\"cores\").reset_index(drop=True)\n",
    "meantaskthroughput[\"taskreadtime_s\"] = meantaskthroughput[\"taskreadtime\"] / pow(10, 9) # nanoseconds\n",
    "meantaskthroughput"
   ]
  },
  {
   "cell_type": "code",
   "execution_count": 30,
   "id": "0145b4c4",
   "metadata": {},
   "outputs": [
    {
     "data": {
      "text/plain": [
       "Text(0, 0.5, 'Average Task Throughput [MB/s]')"
      ]
     },
     "execution_count": 30,
     "metadata": {},
     "output_type": "execute_result"
    },
    {
     "data": {
      "image/png": "[encoded data removed]",
      "text/plain": [
       "<Figure size 720x720 with 1 Axes>"
      ]
     },
     "metadata": {
      "needs_background": "light"
     },
     "output_type": "display_data"
    }
   ],
   "source": [
    "pyplot.figure(figsize=[10,10])\n",
    "pyplot.plot(meantaskthroughput[\"cores\"], meantaskthroughput[\"readthroughput\"], marker=\"o\")\n",
    "pyplot.xlabel(\"Processes\")\n",
    "pyplot.ylabel(\"Average Task Throughput [MB/s]\")"
   ]
  },
  {
   "cell_type": "code",
   "execution_count": 31,
   "id": "30a960eb",
   "metadata": {},
   "outputs": [
    {
     "data": {
      "text/plain": [
       "Text(0, 0.5, 'Time [s]')"
      ]
     },
     "execution_count": 31,
     "metadata": {},
     "output_type": "execute_result"
    },
    {
     "data": {
      "image/png": "[encoded data removed]",
      "text/plain": [
       "<Figure size 720x720 with 1 Axes>"
      ]
     },
     "metadata": {
      "needs_background": "light"
     },
     "output_type": "display_data"
    }
   ],
   "source": [
    "pyplot.figure(figsize=[10,10])\n",
    "pyplot.plot(meantaskthroughput[\"cores\"], meantaskthroughput[\"taskreadtime_s\"], marker=\"o\")\n",
    "pyplot.xlabel(\"Processes\")\n",
    "pyplot.ylabel(\"Time [s]\")"
   ]
  },
  {
   "cell_type": "code",
   "execution_count": 32,
   "id": "c2911c4e",
   "metadata": {},
   "outputs": [
    {
     "data": {
      "text/html": [
       "<div>\n",
       "<style scoped>\n",
       "    .dataframe tbody tr th:only-of-type {\n",
       "        vertical-align: middle;\n",
       "    }\n",
       "\n",
       "    .dataframe tbody tr th {\n",
       "        vertical-align: top;\n",
       "    }\n",
       "\n",
       "    .dataframe thead th {\n",
       "        text-align: right;\n",
       "    }\n",
       "</style>\n",
       "<table border=\"1\" class=\"dataframe\">\n",
       "  <thead>\n",
       "    <tr style=\"text-align: right;\">\n",
       "      <th></th>\n",
       "      <th>cores</th>\n",
       "      <th>readthroughput</th>\n",
       "      <th>readpayload</th>\n",
       "    </tr>\n",
       "  </thead>\n",
       "  <tbody>\n",
       "    <tr>\n",
       "      <th>0</th>\n",
       "      <td>4</td>\n",
       "      <td>16723.894737</td>\n",
       "      <td>2.258815e+11</td>\n",
       "    </tr>\n",
       "    <tr>\n",
       "      <th>1</th>\n",
       "      <td>6</td>\n",
       "      <td>22207.526316</td>\n",
       "      <td>2.258815e+11</td>\n",
       "    </tr>\n",
       "    <tr>\n",
       "      <th>2</th>\n",
       "      <td>8</td>\n",
       "      <td>27889.736842</td>\n",
       "      <td>2.258815e+11</td>\n",
       "    </tr>\n",
       "    <tr>\n",
       "      <th>3</th>\n",
       "      <td>10</td>\n",
       "      <td>34894.263158</td>\n",
       "      <td>2.258815e+11</td>\n",
       "    </tr>\n",
       "    <tr>\n",
       "      <th>4</th>\n",
       "      <td>12</td>\n",
       "      <td>37523.315789</td>\n",
       "      <td>2.258815e+11</td>\n",
       "    </tr>\n",
       "    <tr>\n",
       "      <th>5</th>\n",
       "      <td>14</td>\n",
       "      <td>39428.157895</td>\n",
       "      <td>2.258815e+11</td>\n",
       "    </tr>\n",
       "    <tr>\n",
       "      <th>6</th>\n",
       "      <td>16</td>\n",
       "      <td>37407.263158</td>\n",
       "      <td>2.258815e+11</td>\n",
       "    </tr>\n",
       "  </tbody>\n",
       "</table>\n",
       "</div>"
      ],
      "text/plain": [
       "   cores  readthroughput   readpayload\n",
       "0      4    16723.894737  2.258815e+11\n",
       "1      6    22207.526316  2.258815e+11\n",
       "2      8    27889.736842  2.258815e+11\n",
       "3     10    34894.263158  2.258815e+11\n",
       "4     12    37523.315789  2.258815e+11\n",
       "5     14    39428.157895  2.258815e+11\n",
       "6     16    37407.263158  2.258815e+11"
      ]
     },
     "execution_count": 32,
     "metadata": {},
     "output_type": "execute_result"
    }
   ],
   "source": [
    "sumthroughput = df.groupby([\"cores\",\"taskid\"]).mean()\n",
    "sumthroughput = sumthroughput.reset_index().groupby([\"cores\"]).sum()\n",
    "sumthroughput = sumthroughput.reset_index()\n",
    "sumthroughput[\"totalthroughput\"] = sumthroughput[\"readthroughput\"] / pow(10, 3)\n",
    "sumthroughput[[\"cores\",\"readthroughput\",\"readpayload\"]]"
   ]
  },
  {
   "cell_type": "code",
   "execution_count": 33,
   "id": "228acb75",
   "metadata": {},
   "outputs": [
    {
     "data": {
      "text/plain": [
       "Text(0, 0.5, 'Read Throughput [GB/s]')"
      ]
     },
     "execution_count": 33,
     "metadata": {},
     "output_type": "execute_result"
    },
    {
     "data": {
      "image/png": "[encoded data removed]",
      "text/plain": [
       "<Figure size 720x720 with 1 Axes>"
      ]
     },
     "metadata": {
      "needs_background": "light"
     },
     "output_type": "display_data"
    }
   ],
   "source": [
    "pyplot.figure(figsize=[10,10])\n",
    "pyplot.plot(sumthroughput[\"cores\"], sumthroughput[\"readthroughput\"]/1000, marker=\"o\")\n",
    "pyplot.xlabel(\"Processes\")\n",
    "pyplot.xticks(sumthroughput[\"cores\"])\n",
    "pyplot.ylabel(\"Read Throughput [GB/s]\")"
   ]
  },
  {
   "cell_type": "markdown",
   "id": "d949a5c5",
   "metadata": {},
   "source": [
    "# TGraph"
   ]
  },
  {
   "cell_type": "code",
   "execution_count": 41,
   "id": "6aea7c3a",
   "metadata": {},
   "outputs": [
    {
     "name": "stderr",
     "output_type": "stream",
     "text": [
      "Warning in <TCanvas::Constructor>: Deleting canvas with same name: d\n",
      "Info in <TCanvas::Print>: png file distrdf_lhcb_singlenode_processingthroughput.png has been created\n"
     ]
    },
    {
     "data": {
      "image/png": "[encoded data removed]",
      "text/plain": [
       "<IPython.core.display.Image object>"
      ]
     },
     "metadata": {},
     "output_type": "display_data"
    }
   ],
   "source": [
    "runtimegraph = ROOT.TGraph(len(timesdf[\"cores\"]), numpy.array(timesdf[\"cores\"], dtype=float), numpy.array(timesdf[\"throughput_GB_s\"], dtype=float))\n",
    "\n",
    "width = 800\n",
    "height = 800\n",
    "d = ROOT.TCanvas(\"d\", \"\", width, height)\n",
    "\n",
    "runtimegraph.SetTitle(\"\")\n",
    "\n",
    "runtimegraph.GetXaxis().SetTitle(\"Cores\")\n",
    "runtimegraph.GetXaxis().SetTitleSize(0.025)\n",
    "runtimegraph.GetXaxis().SetTitleOffset(1.3)\n",
    "runtimegraph.GetXaxis().SetLabelSize(0)\n",
    "runtimegraph.GetXaxis().SetTickLength(0)\n",
    "\n",
    "runtimegraph.GetYaxis().SetTitle(\"Processing throughput [GB/s]\")\n",
    "runtimegraph.GetYaxis().SetLabelSize(0.03)\n",
    "runtimegraph.GetYaxis().SetTitleSize(0.025)\n",
    "runtimegraph.GetYaxis().SetRangeUser(0, 8.5)\n",
    "\n",
    "runtimegraph.SetMarkerStyle(20)\n",
    "runtimegraph.SetMarkerSize(1)\n",
    "runtimegraph.SetMarkerColor(ROOT.kOrange+1)\n",
    "\n",
    "runtimegraph.SetLineStyle(ROOT.kSolid)\n",
    "# Line color also decides error bar color somehow\n",
    "runtimegraph.SetLineColorAlpha(ROOT.kOrange+1,1)\n",
    "runtimegraph.SetLineWidth(2)\n",
    "runtimegraph.Draw(\"APL\")\n",
    "\n",
    "ymin = runtimegraph.GetHistogram().GetMinimum()\n",
    "ymax = runtimegraph.GetHistogram().GetMaximum()\n",
    "\n",
    "dy = ymax - ymin\n",
    "labels = []\n",
    "ticks = []\n",
    "\n",
    "for i in range(len(timesdf[\"cores\"])):\n",
    "    x = runtimegraph.GetPointX(i)\n",
    "    t = ROOT.TLatex(x, ymin - 0.05 * dy, str(int(x)))\n",
    "    t.SetTextSize(0.03)\n",
    "    t.SetTextFont(42)\n",
    "    t.SetTextAlign(21)\n",
    "    t.Draw()\n",
    "    labels.append(t)\n",
    "    l = ROOT.TLine(x, ymin, x,ymin-0.02*dy)\n",
    "    l.Draw()\n",
    "    ticks.append(l)\n",
    "    \n",
    "d.Draw()\n",
    "d.SaveAs(\"distrdf_lhcb_singlenode_processingthroughput.png\")"
   ]
  },
  {
   "cell_type": "code",
   "execution_count": 44,
   "id": "331abec9",
   "metadata": {},
   "outputs": [
    {
     "name": "stderr",
     "output_type": "stream",
     "text": [
      "Warning in <TCanvas::Constructor>: Deleting canvas with same name: c\n",
      "Info in <TCanvas::Print>: png file distrdf_lhcb_singlenode_processingthroughputspeedup.png has been created\n"
     ]
    },
    {
     "data": {
      "image/png": "[encoded data removed]",
      "text/plain": [
       "<IPython.core.display.Image object>"
      ]
     },
     "metadata": {},
     "output_type": "display_data"
    }
   ],
   "source": [
    "speedupgraph = ROOT.TGraph(len(timesdf[\"cores\"]), numpy.array(timesdf[\"cores\"], dtype=float), numpy.array(timesdf[\"throughputspeedup\"], dtype=float))\n",
    "idealspeedupgraph = ROOT.TGraph(len(timesdf[\"cores\"]), numpy.array(timesdf[\"cores\"], dtype=float), numpy.array(timesdf[\"cores\"], dtype=float))\n",
    "\n",
    "width = 800\n",
    "height = 800\n",
    "c = ROOT.TCanvas(\"c\", \"\", width, height)\n",
    "\n",
    "idealspeedupgraph.SetTitle(\"\")\n",
    "\n",
    "idealspeedupgraph.GetXaxis().SetTitle(\"Cores\")\n",
    "idealspeedupgraph.GetXaxis().SetTitleSize(0.025)\n",
    "idealspeedupgraph.GetXaxis().SetTitleOffset(1.4)\n",
    "idealspeedupgraph.GetXaxis().SetLabelSize(0)\n",
    "idealspeedupgraph.GetXaxis().SetTickLength(0)\n",
    "idealspeedupgraph.GetYaxis().SetTitle(\"Processing throughput scaling\")\n",
    "\n",
    "idealspeedupgraph.GetYaxis().SetTitleSize(0.025)\n",
    "idealspeedupgraph.GetYaxis().SetTitleOffset(1.4)\n",
    "idealspeedupgraph.GetYaxis().SetRangeUser(0, 18)\n",
    "idealspeedupgraph.GetYaxis().SetLabelSize(0.03)\n",
    "\n",
    "idealspeedupgraph.SetMarkerColor(ROOT.kAzure-3)\n",
    "idealspeedupgraph.SetMarkerSize(1)\n",
    "idealspeedupgraph.SetMarkerStyle(20)\n",
    "idealspeedupgraph.SetLineStyle(ROOT.kDashed)\n",
    "idealspeedupgraph.SetLineColorAlpha(ROOT.kAzure-3,1)\n",
    "idealspeedupgraph.SetLineWidth(2)\n",
    "idealspeedupgraph.Draw(\"AL\")\n",
    "\n",
    "ymin = idealspeedupgraph.GetHistogram().GetMinimum()\n",
    "ymax = idealspeedupgraph.GetHistogram().GetMaximum()\n",
    "\n",
    "dy = ymax - ymin\n",
    "xlabels = []\n",
    "xticks = []\n",
    "#ylabels = []\n",
    "#yticks = []\n",
    "\n",
    "for i in range(len(timesdf[\"cores\"])):\n",
    "    x = idealspeedupgraph.GetPointX(i)\n",
    "    y = idealspeedupgraph.GetPointY(i)\n",
    "\n",
    "    xt = ROOT.TLatex(x, -0.9, str(int(x)))\n",
    "    xt.SetTextSize(0.03)\n",
    "    xt.SetTextFont(42)\n",
    "    xt.SetTextAlign(21)\n",
    "    xt.Draw()\n",
    "    xlabels.append(xt)\n",
    "\n",
    "    xl = ROOT.TLine(x, ymin, x,ymin-0.02*dy)\n",
    "    xl.Draw()\n",
    "    xticks.append(xl)\n",
    "\n",
    "speedupgraph.SetMarkerStyle(20)\n",
    "speedupgraph.SetMarkerSize(1)\n",
    "speedupgraph.SetMarkerColor(ROOT.kOrange+1)\n",
    "\n",
    "\n",
    "speedupgraph.SetLineColorAlpha(ROOT.kOrange+1,1)\n",
    "speedupgraph.SetLineWidth(2)\n",
    "\n",
    "speedupgraph.Draw(\"SAME PL\")\n",
    "\n",
    "legend = ROOT.TLegend(0.15,0.8,0.4,0.9)\n",
    "legend.AddEntry(speedupgraph, \"Real scaling\")\n",
    "legend.AddEntry(idealspeedupgraph, \"Ideal scaling\", \"L\")\n",
    "legend.Draw()\n",
    "\n",
    "ROOT.gStyle.SetLegendTextSize(0.025)\n",
    "\n",
    "c.Draw()\n",
    "c.SaveAs(\"distrdf_lhcb_singlenode_processingthroughputspeedup.png\")"
   ]
  },
  {
   "cell_type": "code",
   "execution_count": null,
   "id": "a338eb97",
   "metadata": {},
   "outputs": [],
   "source": []
  },
  {
   "cell_type": "code",
   "execution_count": 150,
   "id": "170e1d5a",
   "metadata": {},
   "outputs": [
    {
     "name": "stderr",
     "output_type": "stream",
     "text": [
      "Warning in <TCanvas::Constructor>: Deleting canvas with same name: d\n",
      "Info in <TCanvas::Print>: png file distrdf_lhcb_singlenode_readthroughput.png has been created\n"
     ]
    },
    {
     "data": {
      "image/png": "[encoded data removed]",
      "text/plain": [
       "<IPython.core.display.Image object>"
      ]
     },
     "metadata": {},
     "output_type": "display_data"
    }
   ],
   "source": [
    "runtimegraph = ROOT.TGraph(len(sumthroughput[\"cores\"]), numpy.array(sumthroughput[\"cores\"], dtype=float), numpy.array(sumthroughput[\"readthroughput\"]/1000, dtype=float))\n",
    "\n",
    "width = 800\n",
    "height = 800\n",
    "d = ROOT.TCanvas(\"d\", \"\", width, height)\n",
    "\n",
    "runtimegraph.SetTitle(\"\")\n",
    "\n",
    "runtimegraph.GetXaxis().SetTitle(\"Cores\")\n",
    "runtimegraph.GetXaxis().SetTitleSize(0.025)\n",
    "runtimegraph.GetXaxis().SetTitleOffset(1.3)\n",
    "runtimegraph.GetXaxis().SetLabelSize(0)\n",
    "runtimegraph.GetXaxis().SetTickLength(0)\n",
    "\n",
    "runtimegraph.GetYaxis().SetTitle(\"Throughput [GB/s]\")\n",
    "runtimegraph.GetYaxis().SetLabelSize(0.03)\n",
    "runtimegraph.GetYaxis().SetTitleSize(0.025)\n",
    "runtimegraph.GetYaxis().SetRangeUser(0, 13)\n",
    "\n",
    "runtimegraph.SetMarkerStyle(20)\n",
    "runtimegraph.SetMarkerSize(1)\n",
    "runtimegraph.SetMarkerColor(ROOT.kOrange+1)\n",
    "\n",
    "runtimegraph.SetLineStyle(ROOT.kSolid)\n",
    "# Line color also decides error bar color somehow\n",
    "runtimegraph.SetLineColorAlpha(ROOT.kOrange+1,1)\n",
    "runtimegraph.SetLineWidth(2)\n",
    "runtimegraph.Draw(\"APL\")\n",
    "\n",
    "ymin = runtimegraph.GetHistogram().GetMinimum()\n",
    "ymax = runtimegraph.GetHistogram().GetMaximum()\n",
    "\n",
    "dy = ymax - ymin\n",
    "labels = []\n",
    "ticks = []\n",
    "\n",
    "for i in range(len(sumthroughput[\"cores\"])):\n",
    "    x = runtimegraph.GetPointX(i)\n",
    "    t = ROOT.TLatex(x, ymin - 0.05 * dy, str(int(x)))\n",
    "    t.SetTextSize(0.03)\n",
    "    t.SetTextFont(42)\n",
    "    t.SetTextAlign(21)\n",
    "    t.Draw()\n",
    "    labels.append(t)\n",
    "    l = ROOT.TLine(x, ymin, x,ymin-0.02*dy)\n",
    "    l.Draw()\n",
    "    ticks.append(l)\n",
    "    \n",
    "d.Draw()\n",
    "d.SaveAs(\"distrdf_lhcb_singlenode_readthroughput.png\")"
   ]
  },
  {
   "cell_type": "code",
   "execution_count": null,
   "id": "18a24c4b",
   "metadata": {},
   "outputs": [],
   "source": []
  }
 ],
 "metadata": {
  "kernelspec": {
   "display_name": "Python 3 (ipykernel)",
   "language": "python",
   "name": "python3"
  },
  "language_info": {
   "codemirror_mode": {
    "name": "ipython",
    "version": 3
   },
   "file_extension": ".py",
   "mimetype": "text/x-python",
   "name": "python",
   "nbconvert_exporter": "python",
   "pygments_lexer": "ipython3",
   "version": "3.9.7"
  }
 },
 "nbformat": 4,
 "nbformat_minor": 5
}
