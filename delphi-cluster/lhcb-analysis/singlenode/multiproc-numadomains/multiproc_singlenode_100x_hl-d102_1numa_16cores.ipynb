{
 "cells": [
  {
   "cell_type": "code",
   "execution_count": 12,
   "id": "845f877b",
   "metadata": {},
   "outputs": [],
   "source": [
    "import pandas\n",
    "import numpy\n",
    "from matplotlib import pyplot\n",
    "import os\n",
    "import ROOT"
   ]
  },
  {
   "cell_type": "code",
   "execution_count": 13,
   "id": "e5f78053",
   "metadata": {},
   "outputs": [
    {
     "data": {
      "text/html": [
       "<div>\n",
       "<style scoped>\n",
       "    .dataframe tbody tr th:only-of-type {\n",
       "        vertical-align: middle;\n",
       "    }\n",
       "\n",
       "    .dataframe tbody tr th {\n",
       "        vertical-align: top;\n",
       "    }\n",
       "\n",
       "    .dataframe thead th {\n",
       "        text-align: right;\n",
       "    }\n",
       "</style>\n",
       "<table border=\"1\" class=\"dataframe\">\n",
       "  <thead>\n",
       "    <tr style=\"text-align: right;\">\n",
       "      <th></th>\n",
       "      <th>cores</th>\n",
       "      <th>mean</th>\n",
       "      <th>meanerr</th>\n",
       "      <th>throughput_GB_s</th>\n",
       "    </tr>\n",
       "  </thead>\n",
       "  <tbody>\n",
       "    <tr>\n",
       "      <th>0</th>\n",
       "      <td>1</td>\n",
       "      <td>162.65</td>\n",
       "      <td>1.67</td>\n",
       "      <td>0.694383</td>\n",
       "    </tr>\n",
       "    <tr>\n",
       "      <th>1</th>\n",
       "      <td>2</td>\n",
       "      <td>92.25</td>\n",
       "      <td>1.24</td>\n",
       "      <td>1.224346</td>\n",
       "    </tr>\n",
       "    <tr>\n",
       "      <th>2</th>\n",
       "      <td>4</td>\n",
       "      <td>51.03</td>\n",
       "      <td>0.42</td>\n",
       "      <td>2.213281</td>\n",
       "    </tr>\n",
       "    <tr>\n",
       "      <th>3</th>\n",
       "      <td>6</td>\n",
       "      <td>36.57</td>\n",
       "      <td>0.34</td>\n",
       "      <td>3.088532</td>\n",
       "    </tr>\n",
       "    <tr>\n",
       "      <th>4</th>\n",
       "      <td>8</td>\n",
       "      <td>28.82</td>\n",
       "      <td>0.43</td>\n",
       "      <td>3.919467</td>\n",
       "    </tr>\n",
       "    <tr>\n",
       "      <th>5</th>\n",
       "      <td>10</td>\n",
       "      <td>32.86</td>\n",
       "      <td>0.39</td>\n",
       "      <td>3.436715</td>\n",
       "    </tr>\n",
       "    <tr>\n",
       "      <th>6</th>\n",
       "      <td>12</td>\n",
       "      <td>28.04</td>\n",
       "      <td>0.19</td>\n",
       "      <td>4.027589</td>\n",
       "    </tr>\n",
       "    <tr>\n",
       "      <th>7</th>\n",
       "      <td>14</td>\n",
       "      <td>25.21</td>\n",
       "      <td>0.22</td>\n",
       "      <td>4.480235</td>\n",
       "    </tr>\n",
       "    <tr>\n",
       "      <th>8</th>\n",
       "      <td>16</td>\n",
       "      <td>22.89</td>\n",
       "      <td>0.10</td>\n",
       "      <td>4.933922</td>\n",
       "    </tr>\n",
       "  </tbody>\n",
       "</table>\n",
       "</div>"
      ],
      "text/plain": [
       "   cores    mean  meanerr  throughput_GB_s\n",
       "0      1  162.65     1.67         0.694383\n",
       "1      2   92.25     1.24         1.224346\n",
       "2      4   51.03     0.42         2.213281\n",
       "3      6   36.57     0.34         3.088532\n",
       "4      8   28.82     0.43         3.919467\n",
       "5     10   32.86     0.39         3.436715\n",
       "6     12   28.04     0.19         4.027589\n",
       "7     14   25.21     0.22         4.480235\n",
       "8     16   22.89     0.10         4.933922"
      ]
     },
     "execution_count": 13,
     "metadata": {},
     "output_type": "execute_result"
    }
   ],
   "source": [
    "times = {\"cores\":[],\"mean\":[],\"meanerr\":[],\"throughput_GB_s\":[]}\n",
    "timedir = \"hl-d102-20211111-1numanode-16cores/appruntimes\"\n",
    "datasetsize = 157400503680\n",
    "readpercent = 0.7949011466389114\n",
    "readsize = 112940757600\n",
    "for f in os.listdir(timedir):\n",
    "    array = numpy.genfromtxt(timedir+\"/\"+f, skip_header=1)\n",
    "    nodes = f.split(\"_\")[4].replace(\"cores.csv\",\"\")\n",
    "    time_mean = numpy.mean(array)\n",
    "    times[\"cores\"].append(int(nodes))\n",
    "    times[\"mean\"].append(round(time_mean, 2))\n",
    "    times[\"meanerr\"].append(round(numpy.std(array)/numpy.sqrt(len(array)), 2))\n",
    "    times[\"throughput_GB_s\"].append(readsize/time_mean/pow(10, 9))\n",
    "    \n",
    "timesdf = pandas.DataFrame(times)\n",
    "timesdf = timesdf.sort_values(by=\"cores\").reset_index(drop=True).copy()\n",
    "timesdf"
   ]
  },
  {
   "cell_type": "code",
   "execution_count": 14,
   "id": "0153d0c6",
   "metadata": {
    "scrolled": true
   },
   "outputs": [
    {
     "data": {
      "text/html": [
       "<div>\n",
       "<style scoped>\n",
       "    .dataframe tbody tr th:only-of-type {\n",
       "        vertical-align: middle;\n",
       "    }\n",
       "\n",
       "    .dataframe tbody tr th {\n",
       "        vertical-align: top;\n",
       "    }\n",
       "\n",
       "    .dataframe thead th {\n",
       "        text-align: right;\n",
       "    }\n",
       "</style>\n",
       "<table border=\"1\" class=\"dataframe\">\n",
       "  <thead>\n",
       "    <tr style=\"text-align: right;\">\n",
       "      <th></th>\n",
       "      <th>cores</th>\n",
       "      <th>mean</th>\n",
       "      <th>meanerr</th>\n",
       "      <th>throughput_GB_s</th>\n",
       "      <th>throughputspeedup</th>\n",
       "    </tr>\n",
       "  </thead>\n",
       "  <tbody>\n",
       "    <tr>\n",
       "      <th>0</th>\n",
       "      <td>1</td>\n",
       "      <td>162.65</td>\n",
       "      <td>1.67</td>\n",
       "      <td>0.694383</td>\n",
       "      <td>1.000000</td>\n",
       "    </tr>\n",
       "    <tr>\n",
       "      <th>1</th>\n",
       "      <td>2</td>\n",
       "      <td>92.25</td>\n",
       "      <td>1.24</td>\n",
       "      <td>1.224346</td>\n",
       "      <td>1.763215</td>\n",
       "    </tr>\n",
       "    <tr>\n",
       "      <th>2</th>\n",
       "      <td>4</td>\n",
       "      <td>51.03</td>\n",
       "      <td>0.42</td>\n",
       "      <td>2.213281</td>\n",
       "      <td>3.187407</td>\n",
       "    </tr>\n",
       "    <tr>\n",
       "      <th>3</th>\n",
       "      <td>6</td>\n",
       "      <td>36.57</td>\n",
       "      <td>0.34</td>\n",
       "      <td>3.088532</td>\n",
       "      <td>4.447881</td>\n",
       "    </tr>\n",
       "    <tr>\n",
       "      <th>4</th>\n",
       "      <td>8</td>\n",
       "      <td>28.82</td>\n",
       "      <td>0.43</td>\n",
       "      <td>3.919467</td>\n",
       "      <td>5.644533</td>\n",
       "    </tr>\n",
       "    <tr>\n",
       "      <th>5</th>\n",
       "      <td>10</td>\n",
       "      <td>32.86</td>\n",
       "      <td>0.39</td>\n",
       "      <td>3.436715</td>\n",
       "      <td>4.949308</td>\n",
       "    </tr>\n",
       "    <tr>\n",
       "      <th>6</th>\n",
       "      <td>12</td>\n",
       "      <td>28.04</td>\n",
       "      <td>0.19</td>\n",
       "      <td>4.027589</td>\n",
       "      <td>5.800242</td>\n",
       "    </tr>\n",
       "    <tr>\n",
       "      <th>7</th>\n",
       "      <td>14</td>\n",
       "      <td>25.21</td>\n",
       "      <td>0.22</td>\n",
       "      <td>4.480235</td>\n",
       "      <td>6.452111</td>\n",
       "    </tr>\n",
       "    <tr>\n",
       "      <th>8</th>\n",
       "      <td>16</td>\n",
       "      <td>22.89</td>\n",
       "      <td>0.10</td>\n",
       "      <td>4.933922</td>\n",
       "      <td>7.105477</td>\n",
       "    </tr>\n",
       "  </tbody>\n",
       "</table>\n",
       "</div>"
      ],
      "text/plain": [
       "   cores    mean  meanerr  throughput_GB_s  throughputspeedup\n",
       "0      1  162.65     1.67         0.694383           1.000000\n",
       "1      2   92.25     1.24         1.224346           1.763215\n",
       "2      4   51.03     0.42         2.213281           3.187407\n",
       "3      6   36.57     0.34         3.088532           4.447881\n",
       "4      8   28.82     0.43         3.919467           5.644533\n",
       "5     10   32.86     0.39         3.436715           4.949308\n",
       "6     12   28.04     0.19         4.027589           5.800242\n",
       "7     14   25.21     0.22         4.480235           6.452111\n",
       "8     16   22.89     0.10         4.933922           7.105477"
      ]
     },
     "execution_count": 14,
     "metadata": {},
     "output_type": "execute_result"
    }
   ],
   "source": [
    "throughput_1node = timesdf[\"throughput_GB_s\"][0]\n",
    "timesdf[\"throughputspeedup\"] = timesdf[\"throughput_GB_s\"] / throughput_1node\n",
    "timesdf"
   ]
  },
  {
   "cell_type": "code",
   "execution_count": 15,
   "id": "f05df533",
   "metadata": {},
   "outputs": [
    {
     "data": {
      "text/plain": [
       "<matplotlib.legend.Legend at 0x7fe002e971f0>"
      ]
     },
     "execution_count": 15,
     "metadata": {},
     "output_type": "execute_result"
    },
    {
     "data": {
      "image/png": "[encoded data removed]",
      "text/plain": [
       "<Figure size 720x720 with 1 Axes>"
      ]
     },
     "metadata": {
      "needs_background": "light"
     },
     "output_type": "display_data"
    }
   ],
   "source": [
    "pyplot.figure(figsize=[10,10])\n",
    "pyplot.plot(timesdf[\"cores\"], timesdf[\"throughputspeedup\"], label=\"throughput speedup (150GB)\", marker=\"o\")\n",
    "pyplot.plot(timesdf[\"cores\"], timesdf[\"cores\"], label=\"ideal speedup\", marker=\"o\")\n",
    "pyplot.xticks(timesdf[\"cores\"])\n",
    "pyplot.yticks(timesdf[\"cores\"])\n",
    "pyplot.xlabel(\"Cores\")\n",
    "pyplot.ylabel(\"Throughput increase\")\n",
    "pyplot.legend()"
   ]
  },
  {
   "cell_type": "code",
   "execution_count": 16,
   "id": "091b6993",
   "metadata": {},
   "outputs": [
    {
     "name": "stderr",
     "output_type": "stream",
     "text": [
      "No handles with labels found to put in legend.\n"
     ]
    },
    {
     "data": {
      "text/plain": [
       "<matplotlib.legend.Legend at 0x7fe002e6d970>"
      ]
     },
     "execution_count": 16,
     "metadata": {},
     "output_type": "execute_result"
    },
    {
     "data": {
      "image/png": "[encoded data removed]",
      "text/plain": [
       "<Figure size 720x720 with 1 Axes>"
      ]
     },
     "metadata": {
      "needs_background": "light"
     },
     "output_type": "display_data"
    }
   ],
   "source": [
    "pyplot.figure(figsize=[10,10])\n",
    "pyplot.plot(timesdf[\"cores\"], timesdf[\"throughput_GB_s\"], marker=\"o\")\n",
    "pyplot.xticks(timesdf[\"cores\"])\n",
    "\n",
    "pyplot.xlabel(\"Cores\")\n",
    "pyplot.ylabel(\"Throughput [GB/s]\")\n",
    "pyplot.legend()"
   ]
  },
  {
   "cell_type": "markdown",
   "id": "a4fe440f",
   "metadata": {},
   "source": [
    "# RNTuple read throughput"
   ]
  },
  {
   "cell_type": "code",
   "execution_count": 17,
   "id": "e2f350b1",
   "metadata": {},
   "outputs": [
    {
     "data": {
      "text/html": [
       "<div>\n",
       "<style scoped>\n",
       "    .dataframe tbody tr th:only-of-type {\n",
       "        vertical-align: middle;\n",
       "    }\n",
       "\n",
       "    .dataframe tbody tr th {\n",
       "        vertical-align: top;\n",
       "    }\n",
       "\n",
       "    .dataframe thead th {\n",
       "        text-align: right;\n",
       "    }\n",
       "</style>\n",
       "<table border=\"1\" class=\"dataframe\">\n",
       "  <thead>\n",
       "    <tr style=\"text-align: right;\">\n",
       "      <th></th>\n",
       "      <th>taskruntime</th>\n",
       "      <th>taskreadtime</th>\n",
       "      <th>readthroughput</th>\n",
       "      <th>readpayload</th>\n",
       "      <th>taskid</th>\n",
       "      <th>cores</th>\n",
       "    </tr>\n",
       "  </thead>\n",
       "  <tbody>\n",
       "    <tr>\n",
       "      <th>0</th>\n",
       "      <td>169.351</td>\n",
       "      <td>168930509358</td>\n",
       "      <td>668</td>\n",
       "      <td>112940757600</td>\n",
       "      <td>0</td>\n",
       "      <td>1</td>\n",
       "    </tr>\n",
       "    <tr>\n",
       "      <th>1</th>\n",
       "      <td>171.742</td>\n",
       "      <td>171324371080</td>\n",
       "      <td>659</td>\n",
       "      <td>112940757600</td>\n",
       "      <td>0</td>\n",
       "      <td>1</td>\n",
       "    </tr>\n",
       "    <tr>\n",
       "      <th>2</th>\n",
       "      <td>161.024</td>\n",
       "      <td>160613378290</td>\n",
       "      <td>703</td>\n",
       "      <td>112940757600</td>\n",
       "      <td>0</td>\n",
       "      <td>1</td>\n",
       "    </tr>\n",
       "    <tr>\n",
       "      <th>3</th>\n",
       "      <td>160.539</td>\n",
       "      <td>160121267253</td>\n",
       "      <td>705</td>\n",
       "      <td>112940757600</td>\n",
       "      <td>0</td>\n",
       "      <td>1</td>\n",
       "    </tr>\n",
       "    <tr>\n",
       "      <th>4</th>\n",
       "      <td>157.825</td>\n",
       "      <td>157411980811</td>\n",
       "      <td>717</td>\n",
       "      <td>112940757600</td>\n",
       "      <td>0</td>\n",
       "      <td>1</td>\n",
       "    </tr>\n",
       "    <tr>\n",
       "      <th>...</th>\n",
       "      <td>...</td>\n",
       "      <td>...</td>\n",
       "      <td>...</td>\n",
       "      <td>...</td>\n",
       "      <td>...</td>\n",
       "      <td>...</td>\n",
       "    </tr>\n",
       "    <tr>\n",
       "      <th>652</th>\n",
       "      <td>21.319</td>\n",
       "      <td>20918031658</td>\n",
       "      <td>337</td>\n",
       "      <td>7058797416</td>\n",
       "      <td>15</td>\n",
       "      <td>16</td>\n",
       "    </tr>\n",
       "    <tr>\n",
       "      <th>653</th>\n",
       "      <td>22.843</td>\n",
       "      <td>22417775244</td>\n",
       "      <td>314</td>\n",
       "      <td>7058797416</td>\n",
       "      <td>15</td>\n",
       "      <td>16</td>\n",
       "    </tr>\n",
       "    <tr>\n",
       "      <th>654</th>\n",
       "      <td>21.335</td>\n",
       "      <td>20904318412</td>\n",
       "      <td>337</td>\n",
       "      <td>7058797416</td>\n",
       "      <td>15</td>\n",
       "      <td>16</td>\n",
       "    </tr>\n",
       "    <tr>\n",
       "      <th>655</th>\n",
       "      <td>22.501</td>\n",
       "      <td>22076344748</td>\n",
       "      <td>319</td>\n",
       "      <td>7058797416</td>\n",
       "      <td>15</td>\n",
       "      <td>16</td>\n",
       "    </tr>\n",
       "    <tr>\n",
       "      <th>656</th>\n",
       "      <td>21.106</td>\n",
       "      <td>20695520962</td>\n",
       "      <td>341</td>\n",
       "      <td>7058797416</td>\n",
       "      <td>15</td>\n",
       "      <td>16</td>\n",
       "    </tr>\n",
       "  </tbody>\n",
       "</table>\n",
       "<p>657 rows × 6 columns</p>\n",
       "</div>"
      ],
      "text/plain": [
       "     taskruntime  taskreadtime  readthroughput   readpayload  taskid  cores\n",
       "0        169.351  168930509358             668  112940757600       0      1\n",
       "1        171.742  171324371080             659  112940757600       0      1\n",
       "2        161.024  160613378290             703  112940757600       0      1\n",
       "3        160.539  160121267253             705  112940757600       0      1\n",
       "4        157.825  157411980811             717  112940757600       0      1\n",
       "..           ...           ...             ...           ...     ...    ...\n",
       "652       21.319   20918031658             337    7058797416      15     16\n",
       "653       22.843   22417775244             314    7058797416      15     16\n",
       "654       21.335   20904318412             337    7058797416      15     16\n",
       "655       22.501   22076344748             319    7058797416      15     16\n",
       "656       21.106   20695520962             341    7058797416      15     16\n",
       "\n",
       "[657 rows x 6 columns]"
      ]
     },
     "execution_count": 17,
     "metadata": {},
     "output_type": "execute_result"
    }
   ],
   "source": [
    "times = {\"taskid\":[],\"mean\":[],\"meanerr\":[],\"throughput_MB_s\":[]}\n",
    "maindir = \"hl-d102-20211111-1numanode-16cores\"\n",
    "timedirs = [timedir for timedir in os.listdir(maindir) if timedir.startswith(\"timeresults\")]\n",
    "\n",
    "dfs = []\n",
    "for timedir in timedirs:\n",
    "    cores = timedir.split(\"_\")[2].replace(\"processes\",\"\")\n",
    "    chunks = cores\n",
    "    for f in os.listdir(os.path.join(maindir, timedir)):\n",
    "        df = pandas.read_csv(os.path.join(maindir, timedir, f), header=None, names=[\"taskruntime\",\"taskreadtime\",\"readthroughput\",\"readpayload\"], skiprows=1)\n",
    "        taskid = f.split(\"_\")[2].replace(\"process\",\"\").replace(\".txt\",\"\")\n",
    "        df[\"taskid\"] = int(taskid)\n",
    "        df[\"cores\"] = int(cores)\n",
    "        dfs.append(df)\n",
    "\n",
    "df = pandas.concat(dfs).sort_values(by=[\"cores\",\"taskid\"]).reset_index(drop=True)\n",
    "df"
   ]
  },
  {
   "cell_type": "code",
   "execution_count": 18,
   "id": "4663b1d6",
   "metadata": {},
   "outputs": [
    {
     "data": {
      "text/html": [
       "<div>\n",
       "<style scoped>\n",
       "    .dataframe tbody tr th:only-of-type {\n",
       "        vertical-align: middle;\n",
       "    }\n",
       "\n",
       "    .dataframe tbody tr th {\n",
       "        vertical-align: top;\n",
       "    }\n",
       "\n",
       "    .dataframe thead th {\n",
       "        text-align: right;\n",
       "    }\n",
       "</style>\n",
       "<table border=\"1\" class=\"dataframe\">\n",
       "  <thead>\n",
       "    <tr style=\"text-align: right;\">\n",
       "      <th></th>\n",
       "      <th>cores</th>\n",
       "      <th>taskruntime</th>\n",
       "      <th>taskreadtime</th>\n",
       "      <th>readthroughput</th>\n",
       "      <th>readpayload</th>\n",
       "      <th>taskreadtime_s</th>\n",
       "    </tr>\n",
       "  </thead>\n",
       "  <tbody>\n",
       "    <tr>\n",
       "      <th>0</th>\n",
       "      <td>1</td>\n",
       "      <td>162.497556</td>\n",
       "      <td>1.620820e+11</td>\n",
       "      <td>697.000000</td>\n",
       "      <td>1.129408e+11</td>\n",
       "      <td>162.081978</td>\n",
       "    </tr>\n",
       "    <tr>\n",
       "      <th>1</th>\n",
       "      <td>2</td>\n",
       "      <td>90.781278</td>\n",
       "      <td>9.049408e+10</td>\n",
       "      <td>624.388889</td>\n",
       "      <td>5.647038e+10</td>\n",
       "      <td>90.494085</td>\n",
       "    </tr>\n",
       "    <tr>\n",
       "      <th>2</th>\n",
       "      <td>4</td>\n",
       "      <td>49.125861</td>\n",
       "      <td>4.888425e+10</td>\n",
       "      <td>578.416667</td>\n",
       "      <td>2.823519e+10</td>\n",
       "      <td>48.884245</td>\n",
       "    </tr>\n",
       "    <tr>\n",
       "      <th>3</th>\n",
       "      <td>6</td>\n",
       "      <td>34.879648</td>\n",
       "      <td>3.460627e+10</td>\n",
       "      <td>544.166667</td>\n",
       "      <td>1.882346e+10</td>\n",
       "      <td>34.606266</td>\n",
       "    </tr>\n",
       "    <tr>\n",
       "      <th>4</th>\n",
       "      <td>8</td>\n",
       "      <td>26.727111</td>\n",
       "      <td>2.646901e+10</td>\n",
       "      <td>535.347222</td>\n",
       "      <td>1.411759e+10</td>\n",
       "      <td>26.469006</td>\n",
       "    </tr>\n",
       "    <tr>\n",
       "      <th>5</th>\n",
       "      <td>10</td>\n",
       "      <td>25.974533</td>\n",
       "      <td>2.563613e+10</td>\n",
       "      <td>454.877778</td>\n",
       "      <td>1.129408e+10</td>\n",
       "      <td>25.636135</td>\n",
       "    </tr>\n",
       "    <tr>\n",
       "      <th>6</th>\n",
       "      <td>12</td>\n",
       "      <td>23.663500</td>\n",
       "      <td>2.331739e+10</td>\n",
       "      <td>419.222222</td>\n",
       "      <td>9.411730e+09</td>\n",
       "      <td>23.317388</td>\n",
       "    </tr>\n",
       "    <tr>\n",
       "      <th>7</th>\n",
       "      <td>14</td>\n",
       "      <td>22.871524</td>\n",
       "      <td>2.246296e+10</td>\n",
       "      <td>366.238095</td>\n",
       "      <td>8.067197e+09</td>\n",
       "      <td>22.462956</td>\n",
       "    </tr>\n",
       "    <tr>\n",
       "      <th>8</th>\n",
       "      <td>16</td>\n",
       "      <td>21.566375</td>\n",
       "      <td>2.114611e+10</td>\n",
       "      <td>334.055556</td>\n",
       "      <td>7.058797e+09</td>\n",
       "      <td>21.146114</td>\n",
       "    </tr>\n",
       "  </tbody>\n",
       "</table>\n",
       "</div>"
      ],
      "text/plain": [
       "   cores  taskruntime  taskreadtime  readthroughput   readpayload  \\\n",
       "0      1   162.497556  1.620820e+11      697.000000  1.129408e+11   \n",
       "1      2    90.781278  9.049408e+10      624.388889  5.647038e+10   \n",
       "2      4    49.125861  4.888425e+10      578.416667  2.823519e+10   \n",
       "3      6    34.879648  3.460627e+10      544.166667  1.882346e+10   \n",
       "4      8    26.727111  2.646901e+10      535.347222  1.411759e+10   \n",
       "5     10    25.974533  2.563613e+10      454.877778  1.129408e+10   \n",
       "6     12    23.663500  2.331739e+10      419.222222  9.411730e+09   \n",
       "7     14    22.871524  2.246296e+10      366.238095  8.067197e+09   \n",
       "8     16    21.566375  2.114611e+10      334.055556  7.058797e+09   \n",
       "\n",
       "   taskreadtime_s  \n",
       "0      162.081978  \n",
       "1       90.494085  \n",
       "2       48.884245  \n",
       "3       34.606266  \n",
       "4       26.469006  \n",
       "5       25.636135  \n",
       "6       23.317388  \n",
       "7       22.462956  \n",
       "8       21.146114  "
      ]
     },
     "execution_count": 18,
     "metadata": {},
     "output_type": "execute_result"
    }
   ],
   "source": [
    "meantaskthroughput = df.groupby([\"cores\"]).mean()[[\"taskruntime\",\"taskreadtime\",\"readthroughput\",\"readpayload\"]]\n",
    "meantaskthroughput = meantaskthroughput.reset_index().sort_values(\"cores\").reset_index(drop=True)\n",
    "meantaskthroughput[\"taskreadtime_s\"] = meantaskthroughput[\"taskreadtime\"] / pow(10, 9)\n",
    "meantaskthroughput"
   ]
  },
  {
   "cell_type": "code",
   "execution_count": 19,
   "id": "0145b4c4",
   "metadata": {},
   "outputs": [
    {
     "data": {
      "text/plain": [
       "Text(0, 0.5, 'Throughput [MB/s]')"
      ]
     },
     "execution_count": 19,
     "metadata": {},
     "output_type": "execute_result"
    },
    {
     "data": {
      "image/png": "[encoded data removed]",
      "text/plain": [
       "<Figure size 720x720 with 1 Axes>"
      ]
     },
     "metadata": {
      "needs_background": "light"
     },
     "output_type": "display_data"
    }
   ],
   "source": [
    "pyplot.figure(figsize=[10,10])\n",
    "pyplot.plot(meantaskthroughput[\"cores\"], meantaskthroughput[\"readthroughput\"], marker=\"o\")\n",
    "pyplot.xlabel(\"Processes\")\n",
    "pyplot.ylabel(\"Throughput [MB/s]\")"
   ]
  },
  {
   "cell_type": "code",
   "execution_count": 20,
   "id": "30a960eb",
   "metadata": {},
   "outputs": [
    {
     "data": {
      "text/plain": [
       "Text(0, 0.5, 'Time [s]')"
      ]
     },
     "execution_count": 20,
     "metadata": {},
     "output_type": "execute_result"
    },
    {
     "data": {
      "image/png": "[encoded data removed]",
      "text/plain": [
       "<Figure size 720x720 with 1 Axes>"
      ]
     },
     "metadata": {
      "needs_background": "light"
     },
     "output_type": "display_data"
    }
   ],
   "source": [
    "pyplot.figure(figsize=[10,10])\n",
    "pyplot.plot(meantaskthroughput[\"cores\"], meantaskthroughput[\"taskreadtime_s\"], marker=\"o\")\n",
    "pyplot.xlabel(\"Processes\")\n",
    "pyplot.ylabel(\"Time [s]\")"
   ]
  },
  {
   "cell_type": "code",
   "execution_count": 21,
   "id": "c2911c4e",
   "metadata": {},
   "outputs": [
    {
     "data": {
      "text/html": [
       "<div>\n",
       "<style scoped>\n",
       "    .dataframe tbody tr th:only-of-type {\n",
       "        vertical-align: middle;\n",
       "    }\n",
       "\n",
       "    .dataframe tbody tr th {\n",
       "        vertical-align: top;\n",
       "    }\n",
       "\n",
       "    .dataframe thead th {\n",
       "        text-align: right;\n",
       "    }\n",
       "</style>\n",
       "<table border=\"1\" class=\"dataframe\">\n",
       "  <thead>\n",
       "    <tr style=\"text-align: right;\">\n",
       "      <th></th>\n",
       "      <th>cores</th>\n",
       "      <th>taskid</th>\n",
       "      <th>taskruntime</th>\n",
       "      <th>taskreadtime</th>\n",
       "      <th>readthroughput</th>\n",
       "      <th>readpayload</th>\n",
       "      <th>totalthroughput</th>\n",
       "      <th>readthroughputspeedup</th>\n",
       "    </tr>\n",
       "  </thead>\n",
       "  <tbody>\n",
       "    <tr>\n",
       "      <th>0</th>\n",
       "      <td>1</td>\n",
       "      <td>0</td>\n",
       "      <td>162.497556</td>\n",
       "      <td>1.620820e+11</td>\n",
       "      <td>697.000000</td>\n",
       "      <td>1.129408e+11</td>\n",
       "      <td>0.680664</td>\n",
       "      <td>1.000000</td>\n",
       "    </tr>\n",
       "    <tr>\n",
       "      <th>1</th>\n",
       "      <td>2</td>\n",
       "      <td>1</td>\n",
       "      <td>181.562556</td>\n",
       "      <td>1.809882e+11</td>\n",
       "      <td>1248.777778</td>\n",
       "      <td>1.129408e+11</td>\n",
       "      <td>1.219510</td>\n",
       "      <td>1.791647</td>\n",
       "    </tr>\n",
       "    <tr>\n",
       "      <th>2</th>\n",
       "      <td>4</td>\n",
       "      <td>6</td>\n",
       "      <td>196.503444</td>\n",
       "      <td>1.955370e+11</td>\n",
       "      <td>2313.666667</td>\n",
       "      <td>1.129408e+11</td>\n",
       "      <td>2.259440</td>\n",
       "      <td>3.319464</td>\n",
       "    </tr>\n",
       "    <tr>\n",
       "      <th>3</th>\n",
       "      <td>6</td>\n",
       "      <td>15</td>\n",
       "      <td>209.277889</td>\n",
       "      <td>2.076376e+11</td>\n",
       "      <td>3265.000000</td>\n",
       "      <td>1.129408e+11</td>\n",
       "      <td>3.188477</td>\n",
       "      <td>4.684362</td>\n",
       "    </tr>\n",
       "    <tr>\n",
       "      <th>4</th>\n",
       "      <td>8</td>\n",
       "      <td>28</td>\n",
       "      <td>213.816889</td>\n",
       "      <td>2.117520e+11</td>\n",
       "      <td>4282.777778</td>\n",
       "      <td>1.129408e+11</td>\n",
       "      <td>4.182400</td>\n",
       "      <td>6.144588</td>\n",
       "    </tr>\n",
       "    <tr>\n",
       "      <th>5</th>\n",
       "      <td>10</td>\n",
       "      <td>45</td>\n",
       "      <td>259.745333</td>\n",
       "      <td>2.563613e+11</td>\n",
       "      <td>4548.777778</td>\n",
       "      <td>1.129408e+11</td>\n",
       "      <td>4.442166</td>\n",
       "      <td>6.526223</td>\n",
       "    </tr>\n",
       "    <tr>\n",
       "      <th>6</th>\n",
       "      <td>12</td>\n",
       "      <td>66</td>\n",
       "      <td>283.962000</td>\n",
       "      <td>2.798087e+11</td>\n",
       "      <td>5030.666667</td>\n",
       "      <td>1.129408e+11</td>\n",
       "      <td>4.912760</td>\n",
       "      <td>7.217599</td>\n",
       "    </tr>\n",
       "    <tr>\n",
       "      <th>7</th>\n",
       "      <td>14</td>\n",
       "      <td>91</td>\n",
       "      <td>320.201333</td>\n",
       "      <td>3.144814e+11</td>\n",
       "      <td>5127.333333</td>\n",
       "      <td>1.129408e+11</td>\n",
       "      <td>5.007161</td>\n",
       "      <td>7.356289</td>\n",
       "    </tr>\n",
       "    <tr>\n",
       "      <th>8</th>\n",
       "      <td>16</td>\n",
       "      <td>120</td>\n",
       "      <td>345.062000</td>\n",
       "      <td>3.383378e+11</td>\n",
       "      <td>5344.888889</td>\n",
       "      <td>1.129408e+11</td>\n",
       "      <td>5.219618</td>\n",
       "      <td>7.668420</td>\n",
       "    </tr>\n",
       "  </tbody>\n",
       "</table>\n",
       "</div>"
      ],
      "text/plain": [
       "   cores  taskid  taskruntime  taskreadtime  readthroughput   readpayload  \\\n",
       "0      1       0   162.497556  1.620820e+11      697.000000  1.129408e+11   \n",
       "1      2       1   181.562556  1.809882e+11     1248.777778  1.129408e+11   \n",
       "2      4       6   196.503444  1.955370e+11     2313.666667  1.129408e+11   \n",
       "3      6      15   209.277889  2.076376e+11     3265.000000  1.129408e+11   \n",
       "4      8      28   213.816889  2.117520e+11     4282.777778  1.129408e+11   \n",
       "5     10      45   259.745333  2.563613e+11     4548.777778  1.129408e+11   \n",
       "6     12      66   283.962000  2.798087e+11     5030.666667  1.129408e+11   \n",
       "7     14      91   320.201333  3.144814e+11     5127.333333  1.129408e+11   \n",
       "8     16     120   345.062000  3.383378e+11     5344.888889  1.129408e+11   \n",
       "\n",
       "   totalthroughput  readthroughputspeedup  \n",
       "0         0.680664               1.000000  \n",
       "1         1.219510               1.791647  \n",
       "2         2.259440               3.319464  \n",
       "3         3.188477               4.684362  \n",
       "4         4.182400               6.144588  \n",
       "5         4.442166               6.526223  \n",
       "6         4.912760               7.217599  \n",
       "7         5.007161               7.356289  \n",
       "8         5.219618               7.668420  "
      ]
     },
     "execution_count": 21,
     "metadata": {},
     "output_type": "execute_result"
    }
   ],
   "source": [
    "sumthroughput = df.groupby([\"cores\",\"taskid\"]).mean()\n",
    "sumthroughput = sumthroughput.reset_index().groupby([\"cores\"]).sum()\n",
    "sumthroughput = sumthroughput.reset_index()\n",
    "sumthroughput[\"totalthroughput\"] = sumthroughput[\"readthroughput\"] / 1024\n",
    "sumthroughput[\"readthroughputspeedup\"] = sumthroughput[\"readthroughput\"] / sumthroughput[\"readthroughput\"][0]\n",
    "sumthroughput"
   ]
  },
  {
   "cell_type": "code",
   "execution_count": 22,
   "id": "228acb75",
   "metadata": {},
   "outputs": [
    {
     "data": {
      "text/plain": [
       "Text(0, 0.5, 'Throughput [GB/s]')"
      ]
     },
     "execution_count": 22,
     "metadata": {},
     "output_type": "execute_result"
    },
    {
     "data": {
      "image/png": "[encoded data removed]",
      "text/plain": [
       "<Figure size 720x720 with 1 Axes>"
      ]
     },
     "metadata": {
      "needs_background": "light"
     },
     "output_type": "display_data"
    }
   ],
   "source": [
    "pyplot.figure(figsize=[10,10])\n",
    "pyplot.plot(sumthroughput[\"cores\"], sumthroughput[\"readthroughput\"]/1000, marker=\"o\")\n",
    "pyplot.xlabel(\"Processes\")\n",
    "pyplot.ylabel(\"Throughput [GB/s]\")"
   ]
  },
  {
   "cell_type": "code",
   "execution_count": 76,
   "id": "453eb7e8",
   "metadata": {},
   "outputs": [
    {
     "data": {
      "text/plain": [
       "Text(0, 0.5, 'Throughput increase')"
      ]
     },
     "execution_count": 76,
     "metadata": {},
     "output_type": "execute_result"
    },
    {
     "data": {
      "image/png": "[encoded data removed]",
      "text/plain": [
       "<Figure size 720x720 with 1 Axes>"
      ]
     },
     "metadata": {
      "needs_background": "light"
     },
     "output_type": "display_data"
    }
   ],
   "source": [
    "pyplot.figure(figsize=[10,10])\n",
    "pyplot.plot(sumthroughput[\"cores\"], sumthroughput[\"readthroughputspeedup\"], marker=\"o\")\n",
    "pyplot.plot(sumthroughput[\"cores\"], sumthroughput[\"cores\"], marker=\"o\")\n",
    "pyplot.xlabel(\"Processes\")\n",
    "pyplot.ylabel(\"Throughput increase\")"
   ]
  },
  {
   "cell_type": "markdown",
   "id": "d949a5c5",
   "metadata": {},
   "source": [
    "# TGraph"
   ]
  },
  {
   "cell_type": "code",
   "execution_count": 151,
   "id": "6aea7c3a",
   "metadata": {},
   "outputs": [
    {
     "name": "stderr",
     "output_type": "stream",
     "text": [
      "Warning in <TCanvas::Constructor>: Deleting canvas with same name: d\n",
      "Info in <TCanvas::Print>: png file distrdf_lhcb_singlenode_processingthroughput.png has been created\n"
     ]
    },
    {
     "data": {
      "image/png": "[encoded data removed]",
      "text/plain": [
       "<IPython.core.display.Image object>"
      ]
     },
     "metadata": {},
     "output_type": "display_data"
    }
   ],
   "source": [
    "runtimegraph = ROOT.TGraph(len(timesdf[\"cores\"]), numpy.array(timesdf[\"cores\"], dtype=float), numpy.array(timesdf[\"throughput_GB_s\"], dtype=float))\n",
    "\n",
    "width = 800\n",
    "height = 800\n",
    "d = ROOT.TCanvas(\"d\", \"\", width, height)\n",
    "\n",
    "runtimegraph.SetTitle(\"\")\n",
    "\n",
    "runtimegraph.GetXaxis().SetTitle(\"Cores\")\n",
    "runtimegraph.GetXaxis().SetTitleSize(0.025)\n",
    "runtimegraph.GetXaxis().SetTitleOffset(1.3)\n",
    "runtimegraph.GetXaxis().SetLabelSize(0)\n",
    "runtimegraph.GetXaxis().SetTickLength(0)\n",
    "\n",
    "runtimegraph.GetYaxis().SetTitle(\"Throughput [GB/s]\")\n",
    "runtimegraph.GetYaxis().SetLabelSize(0.03)\n",
    "runtimegraph.GetYaxis().SetTitleSize(0.025)\n",
    "runtimegraph.GetYaxis().SetRangeUser(0, 7)\n",
    "\n",
    "runtimegraph.SetMarkerStyle(20)\n",
    "runtimegraph.SetMarkerSize(1)\n",
    "runtimegraph.SetMarkerColor(ROOT.kOrange+1)\n",
    "\n",
    "runtimegraph.SetLineStyle(ROOT.kSolid)\n",
    "# Line color also decides error bar color somehow\n",
    "runtimegraph.SetLineColorAlpha(ROOT.kOrange+1,1)\n",
    "runtimegraph.SetLineWidth(2)\n",
    "runtimegraph.Draw(\"APL\")\n",
    "\n",
    "ymin = runtimegraph.GetHistogram().GetMinimum()\n",
    "ymax = runtimegraph.GetHistogram().GetMaximum()\n",
    "\n",
    "dy = ymax - ymin\n",
    "labels = []\n",
    "ticks = []\n",
    "\n",
    "for i in range(5):\n",
    "    x = runtimegraph.GetPointX(i)\n",
    "    t = ROOT.TLatex(x, ymin - 0.05 * dy, str(int(x)))\n",
    "    t.SetTextSize(0.03)\n",
    "    t.SetTextFont(42)\n",
    "    t.SetTextAlign(21)\n",
    "    t.Draw()\n",
    "    labels.append(t)\n",
    "    l = ROOT.TLine(x, ymin, x,ymin-0.02*dy)\n",
    "    l.Draw()\n",
    "    ticks.append(l)\n",
    "    \n",
    "d.Draw()\n",
    "d.SaveAs(\"distrdf_lhcb_singlenode_processingthroughput.png\")"
   ]
  },
  {
   "cell_type": "code",
   "execution_count": 149,
   "id": "331abec9",
   "metadata": {},
   "outputs": [
    {
     "name": "stderr",
     "output_type": "stream",
     "text": [
      "Warning in <TCanvas::Constructor>: Deleting canvas with same name: c\n",
      "Info in <TCanvas::Print>: png file distrdf_lhcb_singlenode_processingthroughputspeedup.png has been created\n"
     ]
    },
    {
     "data": {
      "image/png": "[encoded data removed]",
      "text/plain": [
       "<IPython.core.display.Image object>"
      ]
     },
     "metadata": {},
     "output_type": "display_data"
    }
   ],
   "source": [
    "speedupgraph = ROOT.TGraph(len(timesdf[\"cores\"]), numpy.array(timesdf[\"cores\"], dtype=float), numpy.array(timesdf[\"throughputspeedup\"], dtype=float))\n",
    "idealspeedupgraph = ROOT.TGraph(len(timesdf[\"cores\"]), numpy.array(timesdf[\"cores\"], dtype=float), numpy.array(timesdf[\"cores\"], dtype=float))\n",
    "\n",
    "width = 800\n",
    "height = 800\n",
    "c = ROOT.TCanvas(\"c\", \"\", width, height)\n",
    "\n",
    "idealspeedupgraph.SetTitle(\"\")\n",
    "\n",
    "idealspeedupgraph.GetXaxis().SetTitle(\"Nodes\")\n",
    "idealspeedupgraph.GetXaxis().SetTitleSize(0.025)\n",
    "idealspeedupgraph.GetXaxis().SetTitleOffset(1.4)\n",
    "idealspeedupgraph.GetXaxis().SetLabelSize(0)\n",
    "idealspeedupgraph.GetXaxis().SetTickLength(0)\n",
    "idealspeedupgraph.GetYaxis().SetTitle(\"Throughput increase\")\n",
    "\n",
    "idealspeedupgraph.GetYaxis().SetTitleSize(0.025)\n",
    "idealspeedupgraph.GetYaxis().SetTitleOffset(1.4)\n",
    "idealspeedupgraph.GetYaxis().SetRangeUser(0, 17)\n",
    "idealspeedupgraph.GetYaxis().SetLabelSize(0.03)\n",
    "\n",
    "idealspeedupgraph.SetMarkerColor(ROOT.kAzure-3)\n",
    "idealspeedupgraph.SetMarkerSize(1)\n",
    "idealspeedupgraph.SetMarkerStyle(20)\n",
    "idealspeedupgraph.SetLineStyle(ROOT.kDashed)\n",
    "idealspeedupgraph.SetLineColorAlpha(ROOT.kAzure-3,1)\n",
    "idealspeedupgraph.SetLineWidth(2)\n",
    "idealspeedupgraph.Draw(\"AL\")\n",
    "\n",
    "ymin = idealspeedupgraph.GetHistogram().GetMinimum()\n",
    "ymax = idealspeedupgraph.GetHistogram().GetMaximum()\n",
    "\n",
    "dy = ymax - ymin\n",
    "xlabels = []\n",
    "xticks = []\n",
    "#ylabels = []\n",
    "#yticks = []\n",
    "\n",
    "for i in range(len(timesdf[\"cores\"])):\n",
    "    x = idealspeedupgraph.GetPointX(i)\n",
    "    y = idealspeedupgraph.GetPointY(i)\n",
    "\n",
    "    xt = ROOT.TLatex(x, -0.9, str(int(x)))\n",
    "    xt.SetTextSize(0.03)\n",
    "    xt.SetTextFont(42)\n",
    "    xt.SetTextAlign(21)\n",
    "    xt.Draw()\n",
    "    xlabels.append(xt)\n",
    "\n",
    "    xl = ROOT.TLine(x, ymin, x,ymin-0.02*dy)\n",
    "    xl.Draw()\n",
    "    xticks.append(xl)\n",
    "\n",
    "speedupgraph.SetMarkerStyle(20)\n",
    "speedupgraph.SetMarkerSize(1)\n",
    "speedupgraph.SetMarkerColor(ROOT.kOrange+1)\n",
    "\n",
    "\n",
    "speedupgraph.SetLineColorAlpha(ROOT.kOrange+1,1)\n",
    "speedupgraph.SetLineWidth(2)\n",
    "\n",
    "speedupgraph.Draw(\"SAME PL\")\n",
    "\n",
    "legend = ROOT.TLegend(0.15,0.8,0.4,0.9)\n",
    "legend.AddEntry(speedupgraph, \"Real throughput increase\")\n",
    "legend.AddEntry(idealspeedupgraph, \"Linear increase\", \"L\")\n",
    "legend.Draw()\n",
    "\n",
    "c.Draw()\n",
    "c.SaveAs(\"distrdf_lhcb_singlenode_processingthroughputspeedup.png\")"
   ]
  },
  {
   "cell_type": "code",
   "execution_count": null,
   "id": "a338eb97",
   "metadata": {},
   "outputs": [],
   "source": []
  },
  {
   "cell_type": "code",
   "execution_count": 150,
   "id": "170e1d5a",
   "metadata": {},
   "outputs": [
    {
     "name": "stderr",
     "output_type": "stream",
     "text": [
      "Warning in <TCanvas::Constructor>: Deleting canvas with same name: d\n",
      "Info in <TCanvas::Print>: png file distrdf_lhcb_singlenode_readthroughput.png has been created\n"
     ]
    },
    {
     "data": {
      "image/png": "[encoded data removed]",
      "text/plain": [
       "<IPython.core.display.Image object>"
      ]
     },
     "metadata": {},
     "output_type": "display_data"
    }
   ],
   "source": [
    "runtimegraph = ROOT.TGraph(len(sumthroughput[\"cores\"]), numpy.array(sumthroughput[\"cores\"], dtype=float), numpy.array(sumthroughput[\"readthroughput\"]/1000, dtype=float))\n",
    "\n",
    "width = 800\n",
    "height = 800\n",
    "d = ROOT.TCanvas(\"d\", \"\", width, height)\n",
    "\n",
    "runtimegraph.SetTitle(\"\")\n",
    "\n",
    "runtimegraph.GetXaxis().SetTitle(\"Cores\")\n",
    "runtimegraph.GetXaxis().SetTitleSize(0.025)\n",
    "runtimegraph.GetXaxis().SetTitleOffset(1.3)\n",
    "runtimegraph.GetXaxis().SetLabelSize(0)\n",
    "runtimegraph.GetXaxis().SetTickLength(0)\n",
    "\n",
    "runtimegraph.GetYaxis().SetTitle(\"Throughput [GB/s]\")\n",
    "runtimegraph.GetYaxis().SetLabelSize(0.03)\n",
    "runtimegraph.GetYaxis().SetTitleSize(0.025)\n",
    "runtimegraph.GetYaxis().SetRangeUser(0, 13)\n",
    "\n",
    "runtimegraph.SetMarkerStyle(20)\n",
    "runtimegraph.SetMarkerSize(1)\n",
    "runtimegraph.SetMarkerColor(ROOT.kOrange+1)\n",
    "\n",
    "runtimegraph.SetLineStyle(ROOT.kSolid)\n",
    "# Line color also decides error bar color somehow\n",
    "runtimegraph.SetLineColorAlpha(ROOT.kOrange+1,1)\n",
    "runtimegraph.SetLineWidth(2)\n",
    "runtimegraph.Draw(\"APL\")\n",
    "\n",
    "ymin = runtimegraph.GetHistogram().GetMinimum()\n",
    "ymax = runtimegraph.GetHistogram().GetMaximum()\n",
    "\n",
    "dy = ymax - ymin\n",
    "labels = []\n",
    "ticks = []\n",
    "\n",
    "for i in range(len(sumthroughput[\"cores\"])):\n",
    "    x = runtimegraph.GetPointX(i)\n",
    "    t = ROOT.TLatex(x, ymin - 0.05 * dy, str(int(x)))\n",
    "    t.SetTextSize(0.03)\n",
    "    t.SetTextFont(42)\n",
    "    t.SetTextAlign(21)\n",
    "    t.Draw()\n",
    "    labels.append(t)\n",
    "    l = ROOT.TLine(x, ymin, x,ymin-0.02*dy)\n",
    "    l.Draw()\n",
    "    ticks.append(l)\n",
    "    \n",
    "d.Draw()\n",
    "d.SaveAs(\"distrdf_lhcb_singlenode_readthroughput.png\")"
   ]
  },
  {
   "cell_type": "code",
   "execution_count": null,
   "id": "18a24c4b",
   "metadata": {},
   "outputs": [],
   "source": []
  }
 ],
 "metadata": {
  "kernelspec": {
   "display_name": "Python 3",
   "language": "python",
   "name": "python3"
  },
  "language_info": {
   "codemirror_mode": {
    "name": "ipython",
    "version": 3
   },
   "file_extension": ".py",
   "mimetype": "text/x-python",
   "name": "python",
   "nbconvert_exporter": "python",
   "pygments_lexer": "ipython3",
   "version": "3.9.7"
  }
 },
 "nbformat": 4,
 "nbformat_minor": 5
}
