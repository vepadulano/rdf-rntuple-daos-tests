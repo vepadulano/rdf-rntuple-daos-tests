{
 "cells": [
  {
   "cell_type": "code",
   "execution_count": 27,
   "id": "845f877b",
   "metadata": {},
   "outputs": [],
   "source": [
    "import pandas\n",
    "import numpy\n",
    "from matplotlib import pyplot\n",
    "import os\n",
    "import ROOT"
   ]
  },
  {
   "cell_type": "code",
   "execution_count": 28,
   "id": "e5f78053",
   "metadata": {},
   "outputs": [
    {
     "data": {
      "text/html": [
       "<div>\n",
       "<style scoped>\n",
       "    .dataframe tbody tr th:only-of-type {\n",
       "        vertical-align: middle;\n",
       "    }\n",
       "\n",
       "    .dataframe tbody tr th {\n",
       "        vertical-align: top;\n",
       "    }\n",
       "\n",
       "    .dataframe thead th {\n",
       "        text-align: right;\n",
       "    }\n",
       "</style>\n",
       "<table border=\"1\" class=\"dataframe\">\n",
       "  <thead>\n",
       "    <tr style=\"text-align: right;\">\n",
       "      <th></th>\n",
       "      <th>cores</th>\n",
       "      <th>mean</th>\n",
       "      <th>meanerr</th>\n",
       "      <th>throughput_GB_s</th>\n",
       "    </tr>\n",
       "  </thead>\n",
       "  <tbody>\n",
       "    <tr>\n",
       "      <th>0</th>\n",
       "      <td>1</td>\n",
       "      <td>164.30</td>\n",
       "      <td>1.06</td>\n",
       "      <td>0.687417</td>\n",
       "    </tr>\n",
       "    <tr>\n",
       "      <th>1</th>\n",
       "      <td>2</td>\n",
       "      <td>93.89</td>\n",
       "      <td>1.11</td>\n",
       "      <td>1.202888</td>\n",
       "    </tr>\n",
       "    <tr>\n",
       "      <th>2</th>\n",
       "      <td>4</td>\n",
       "      <td>50.26</td>\n",
       "      <td>1.13</td>\n",
       "      <td>2.247160</td>\n",
       "    </tr>\n",
       "    <tr>\n",
       "      <th>3</th>\n",
       "      <td>6</td>\n",
       "      <td>36.90</td>\n",
       "      <td>0.30</td>\n",
       "      <td>3.060753</td>\n",
       "    </tr>\n",
       "    <tr>\n",
       "      <th>4</th>\n",
       "      <td>8</td>\n",
       "      <td>28.37</td>\n",
       "      <td>0.31</td>\n",
       "      <td>3.980790</td>\n",
       "    </tr>\n",
       "    <tr>\n",
       "      <th>5</th>\n",
       "      <td>10</td>\n",
       "      <td>24.09</td>\n",
       "      <td>0.26</td>\n",
       "      <td>4.688370</td>\n",
       "    </tr>\n",
       "    <tr>\n",
       "      <th>6</th>\n",
       "      <td>12</td>\n",
       "      <td>20.52</td>\n",
       "      <td>0.16</td>\n",
       "      <td>5.502625</td>\n",
       "    </tr>\n",
       "    <tr>\n",
       "      <th>7</th>\n",
       "      <td>14</td>\n",
       "      <td>19.24</td>\n",
       "      <td>0.13</td>\n",
       "      <td>5.871288</td>\n",
       "    </tr>\n",
       "    <tr>\n",
       "      <th>8</th>\n",
       "      <td>16</td>\n",
       "      <td>17.25</td>\n",
       "      <td>0.25</td>\n",
       "      <td>6.547122</td>\n",
       "    </tr>\n",
       "  </tbody>\n",
       "</table>\n",
       "</div>"
      ],
      "text/plain": [
       "   cores    mean  meanerr  throughput_GB_s\n",
       "0      1  164.30     1.06         0.687417\n",
       "1      2   93.89     1.11         1.202888\n",
       "2      4   50.26     1.13         2.247160\n",
       "3      6   36.90     0.30         3.060753\n",
       "4      8   28.37     0.31         3.980790\n",
       "5     10   24.09     0.26         4.688370\n",
       "6     12   20.52     0.16         5.502625\n",
       "7     14   19.24     0.13         5.871288\n",
       "8     16   17.25     0.25         6.547122"
      ]
     },
     "execution_count": 28,
     "metadata": {},
     "output_type": "execute_result"
    }
   ],
   "source": [
    "times = {\"cores\":[],\"mean\":[],\"meanerr\":[],\"throughput_GB_s\":[]}\n",
    "timedir = \"hl-d102-20211111-2numanode-16cores/appruntimes\"\n",
    "datasetsize = 157400503680\n",
    "readpercent = 0.7949011466389114\n",
    "readsize = 112940757600\n",
    "for f in os.listdir(timedir):\n",
    "    array = numpy.genfromtxt(timedir+\"/\"+f, skip_header=1)\n",
    "    nodes = f.split(\"_\")[4].replace(\"cores.csv\",\"\")\n",
    "    time_mean = numpy.mean(array)\n",
    "    times[\"cores\"].append(int(nodes))\n",
    "    times[\"mean\"].append(round(time_mean, 2))\n",
    "    times[\"meanerr\"].append(round(numpy.std(array)/numpy.sqrt(len(array)), 2))\n",
    "    times[\"throughput_GB_s\"].append(readsize/time_mean/pow(10, 9))\n",
    "    \n",
    "timesdf = pandas.DataFrame(times)\n",
    "timesdf = timesdf.sort_values(by=\"cores\").reset_index(drop=True).copy()\n",
    "timesdf"
   ]
  },
  {
   "cell_type": "code",
   "execution_count": 29,
   "id": "0153d0c6",
   "metadata": {
    "scrolled": true
   },
   "outputs": [
    {
     "data": {
      "text/html": [
       "<div>\n",
       "<style scoped>\n",
       "    .dataframe tbody tr th:only-of-type {\n",
       "        vertical-align: middle;\n",
       "    }\n",
       "\n",
       "    .dataframe tbody tr th {\n",
       "        vertical-align: top;\n",
       "    }\n",
       "\n",
       "    .dataframe thead th {\n",
       "        text-align: right;\n",
       "    }\n",
       "</style>\n",
       "<table border=\"1\" class=\"dataframe\">\n",
       "  <thead>\n",
       "    <tr style=\"text-align: right;\">\n",
       "      <th></th>\n",
       "      <th>cores</th>\n",
       "      <th>mean</th>\n",
       "      <th>meanerr</th>\n",
       "      <th>throughput_GB_s</th>\n",
       "      <th>throughputspeedup</th>\n",
       "    </tr>\n",
       "  </thead>\n",
       "  <tbody>\n",
       "    <tr>\n",
       "      <th>0</th>\n",
       "      <td>1</td>\n",
       "      <td>164.30</td>\n",
       "      <td>1.06</td>\n",
       "      <td>0.687417</td>\n",
       "      <td>1.000000</td>\n",
       "    </tr>\n",
       "    <tr>\n",
       "      <th>1</th>\n",
       "      <td>2</td>\n",
       "      <td>93.89</td>\n",
       "      <td>1.11</td>\n",
       "      <td>1.202888</td>\n",
       "      <td>1.749866</td>\n",
       "    </tr>\n",
       "    <tr>\n",
       "      <th>2</th>\n",
       "      <td>4</td>\n",
       "      <td>50.26</td>\n",
       "      <td>1.13</td>\n",
       "      <td>2.247160</td>\n",
       "      <td>3.268989</td>\n",
       "    </tr>\n",
       "    <tr>\n",
       "      <th>3</th>\n",
       "      <td>6</td>\n",
       "      <td>36.90</td>\n",
       "      <td>0.30</td>\n",
       "      <td>3.060753</td>\n",
       "      <td>4.452539</td>\n",
       "    </tr>\n",
       "    <tr>\n",
       "      <th>4</th>\n",
       "      <td>8</td>\n",
       "      <td>28.37</td>\n",
       "      <td>0.31</td>\n",
       "      <td>3.980790</td>\n",
       "      <td>5.790936</td>\n",
       "    </tr>\n",
       "    <tr>\n",
       "      <th>5</th>\n",
       "      <td>10</td>\n",
       "      <td>24.09</td>\n",
       "      <td>0.26</td>\n",
       "      <td>4.688370</td>\n",
       "      <td>6.820268</td>\n",
       "    </tr>\n",
       "    <tr>\n",
       "      <th>6</th>\n",
       "      <td>12</td>\n",
       "      <td>20.52</td>\n",
       "      <td>0.16</td>\n",
       "      <td>5.502625</td>\n",
       "      <td>8.004780</td>\n",
       "    </tr>\n",
       "    <tr>\n",
       "      <th>7</th>\n",
       "      <td>14</td>\n",
       "      <td>19.24</td>\n",
       "      <td>0.13</td>\n",
       "      <td>5.871288</td>\n",
       "      <td>8.541083</td>\n",
       "    </tr>\n",
       "    <tr>\n",
       "      <th>8</th>\n",
       "      <td>16</td>\n",
       "      <td>17.25</td>\n",
       "      <td>0.25</td>\n",
       "      <td>6.547122</td>\n",
       "      <td>9.524231</td>\n",
       "    </tr>\n",
       "  </tbody>\n",
       "</table>\n",
       "</div>"
      ],
      "text/plain": [
       "   cores    mean  meanerr  throughput_GB_s  throughputspeedup\n",
       "0      1  164.30     1.06         0.687417           1.000000\n",
       "1      2   93.89     1.11         1.202888           1.749866\n",
       "2      4   50.26     1.13         2.247160           3.268989\n",
       "3      6   36.90     0.30         3.060753           4.452539\n",
       "4      8   28.37     0.31         3.980790           5.790936\n",
       "5     10   24.09     0.26         4.688370           6.820268\n",
       "6     12   20.52     0.16         5.502625           8.004780\n",
       "7     14   19.24     0.13         5.871288           8.541083\n",
       "8     16   17.25     0.25         6.547122           9.524231"
      ]
     },
     "execution_count": 29,
     "metadata": {},
     "output_type": "execute_result"
    }
   ],
   "source": [
    "throughput_1node = timesdf[\"throughput_GB_s\"][0]\n",
    "timesdf[\"throughputspeedup\"] = timesdf[\"throughput_GB_s\"] / throughput_1node\n",
    "timesdf"
   ]
  },
  {
   "cell_type": "code",
   "execution_count": 30,
   "id": "f05df533",
   "metadata": {},
   "outputs": [
    {
     "data": {
      "text/plain": [
       "<matplotlib.legend.Legend at 0x7f8a10c48f40>"
      ]
     },
     "execution_count": 30,
     "metadata": {},
     "output_type": "execute_result"
    },
    {
     "data": {
      "image/png": "[encoded data removed]",
      "text/plain": [
       "<Figure size 720x720 with 1 Axes>"
      ]
     },
     "metadata": {
      "needs_background": "light"
     },
     "output_type": "display_data"
    }
   ],
   "source": [
    "pyplot.figure(figsize=[10,10])\n",
    "pyplot.plot(timesdf[\"cores\"], timesdf[\"throughputspeedup\"], label=\"throughput speedup (150GB)\", marker=\"o\")\n",
    "pyplot.plot(timesdf[\"cores\"], timesdf[\"cores\"], label=\"ideal speedup\", marker=\"o\")\n",
    "pyplot.xticks(timesdf[\"cores\"])\n",
    "pyplot.yticks(timesdf[\"cores\"])\n",
    "pyplot.xlabel(\"Cores\")\n",
    "pyplot.ylabel(\"Throughput increase\")\n",
    "pyplot.legend()"
   ]
  },
  {
   "cell_type": "code",
   "execution_count": 31,
   "id": "091b6993",
   "metadata": {},
   "outputs": [
    {
     "name": "stderr",
     "output_type": "stream",
     "text": [
      "No handles with labels found to put in legend.\n"
     ]
    },
    {
     "data": {
      "text/plain": [
       "<matplotlib.legend.Legend at 0x7f8a10c3cfa0>"
      ]
     },
     "execution_count": 31,
     "metadata": {},
     "output_type": "execute_result"
    },
    {
     "data": {
      "image/png": "[encoded data removed]",
      "text/plain": [
       "<Figure size 720x720 with 1 Axes>"
      ]
     },
     "metadata": {
      "needs_background": "light"
     },
     "output_type": "display_data"
    }
   ],
   "source": [
    "pyplot.figure(figsize=[10,10])\n",
    "pyplot.plot(timesdf[\"cores\"], timesdf[\"throughput_GB_s\"], marker=\"o\")\n",
    "pyplot.xticks(timesdf[\"cores\"])\n",
    "\n",
    "pyplot.xlabel(\"Cores\")\n",
    "pyplot.ylabel(\"Throughput [GB/s]\")\n",
    "pyplot.legend()"
   ]
  },
  {
   "cell_type": "markdown",
   "id": "a4fe440f",
   "metadata": {},
   "source": [
    "# RNTuple read throughput"
   ]
  },
  {
   "cell_type": "code",
   "execution_count": 38,
   "id": "e2f350b1",
   "metadata": {},
   "outputs": [
    {
     "data": {
      "text/html": [
       "<div>\n",
       "<style scoped>\n",
       "    .dataframe tbody tr th:only-of-type {\n",
       "        vertical-align: middle;\n",
       "    }\n",
       "\n",
       "    .dataframe tbody tr th {\n",
       "        vertical-align: top;\n",
       "    }\n",
       "\n",
       "    .dataframe thead th {\n",
       "        text-align: right;\n",
       "    }\n",
       "</style>\n",
       "<table border=\"1\" class=\"dataframe\">\n",
       "  <thead>\n",
       "    <tr style=\"text-align: right;\">\n",
       "      <th></th>\n",
       "      <th>taskruntime</th>\n",
       "      <th>taskreadtime</th>\n",
       "      <th>readthroughput</th>\n",
       "      <th>readpayload</th>\n",
       "      <th>taskid</th>\n",
       "      <th>cores</th>\n",
       "    </tr>\n",
       "  </thead>\n",
       "  <tbody>\n",
       "    <tr>\n",
       "      <th>0</th>\n",
       "      <td>169.601</td>\n",
       "      <td>169187085080</td>\n",
       "      <td>667</td>\n",
       "      <td>112940757600</td>\n",
       "      <td>0</td>\n",
       "      <td>1</td>\n",
       "    </tr>\n",
       "    <tr>\n",
       "      <th>1</th>\n",
       "      <td>166.143</td>\n",
       "      <td>165730957555</td>\n",
       "      <td>681</td>\n",
       "      <td>112940757600</td>\n",
       "      <td>0</td>\n",
       "      <td>1</td>\n",
       "    </tr>\n",
       "    <tr>\n",
       "      <th>2</th>\n",
       "      <td>161.724</td>\n",
       "      <td>161314809786</td>\n",
       "      <td>700</td>\n",
       "      <td>112940757600</td>\n",
       "      <td>0</td>\n",
       "      <td>1</td>\n",
       "    </tr>\n",
       "    <tr>\n",
       "      <th>3</th>\n",
       "      <td>161.252</td>\n",
       "      <td>160846804013</td>\n",
       "      <td>702</td>\n",
       "      <td>112940757600</td>\n",
       "      <td>0</td>\n",
       "      <td>1</td>\n",
       "    </tr>\n",
       "    <tr>\n",
       "      <th>4</th>\n",
       "      <td>166.843</td>\n",
       "      <td>166429663967</td>\n",
       "      <td>678</td>\n",
       "      <td>112940757600</td>\n",
       "      <td>0</td>\n",
       "      <td>1</td>\n",
       "    </tr>\n",
       "    <tr>\n",
       "      <th>...</th>\n",
       "      <td>...</td>\n",
       "      <td>...</td>\n",
       "      <td>...</td>\n",
       "      <td>...</td>\n",
       "      <td>...</td>\n",
       "      <td>...</td>\n",
       "    </tr>\n",
       "    <tr>\n",
       "      <th>652</th>\n",
       "      <td>16.969</td>\n",
       "      <td>16702364694</td>\n",
       "      <td>422</td>\n",
       "      <td>7058797416</td>\n",
       "      <td>15</td>\n",
       "      <td>16</td>\n",
       "    </tr>\n",
       "    <tr>\n",
       "      <th>653</th>\n",
       "      <td>15.774</td>\n",
       "      <td>15511742689</td>\n",
       "      <td>455</td>\n",
       "      <td>7058797416</td>\n",
       "      <td>15</td>\n",
       "      <td>16</td>\n",
       "    </tr>\n",
       "    <tr>\n",
       "      <th>654</th>\n",
       "      <td>16.301</td>\n",
       "      <td>16040895860</td>\n",
       "      <td>440</td>\n",
       "      <td>7058797416</td>\n",
       "      <td>15</td>\n",
       "      <td>16</td>\n",
       "    </tr>\n",
       "    <tr>\n",
       "      <th>655</th>\n",
       "      <td>15.503</td>\n",
       "      <td>15237375797</td>\n",
       "      <td>463</td>\n",
       "      <td>7058797416</td>\n",
       "      <td>15</td>\n",
       "      <td>16</td>\n",
       "    </tr>\n",
       "    <tr>\n",
       "      <th>656</th>\n",
       "      <td>15.370</td>\n",
       "      <td>15107051541</td>\n",
       "      <td>467</td>\n",
       "      <td>7058797416</td>\n",
       "      <td>15</td>\n",
       "      <td>16</td>\n",
       "    </tr>\n",
       "  </tbody>\n",
       "</table>\n",
       "<p>657 rows × 6 columns</p>\n",
       "</div>"
      ],
      "text/plain": [
       "     taskruntime  taskreadtime  readthroughput   readpayload  taskid  cores\n",
       "0        169.601  169187085080             667  112940757600       0      1\n",
       "1        166.143  165730957555             681  112940757600       0      1\n",
       "2        161.724  161314809786             700  112940757600       0      1\n",
       "3        161.252  160846804013             702  112940757600       0      1\n",
       "4        166.843  166429663967             678  112940757600       0      1\n",
       "..           ...           ...             ...           ...     ...    ...\n",
       "652       16.969   16702364694             422    7058797416      15     16\n",
       "653       15.774   15511742689             455    7058797416      15     16\n",
       "654       16.301   16040895860             440    7058797416      15     16\n",
       "655       15.503   15237375797             463    7058797416      15     16\n",
       "656       15.370   15107051541             467    7058797416      15     16\n",
       "\n",
       "[657 rows x 6 columns]"
      ]
     },
     "execution_count": 38,
     "metadata": {},
     "output_type": "execute_result"
    }
   ],
   "source": [
    "times = {\"taskid\":[],\"mean\":[],\"meanerr\":[],\"throughput_MB_s\":[]}\n",
    "maindir = \"hl-d102-20211111-2numanode-16cores\"\n",
    "timedirs = [timedir for timedir in os.listdir(maindir) if timedir.startswith(\"timeresults\")]\n",
    "\n",
    "dfs = []\n",
    "for timedir in timedirs:\n",
    "    cores = timedir.split(\"_\")[2].replace(\"processes\",\"\")\n",
    "    chunks = cores\n",
    "    for f in os.listdir(os.path.join(maindir, timedir)):\n",
    "        df = pandas.read_csv(os.path.join(maindir, timedir, f), header=None, names=[\"taskruntime\",\"taskreadtime\",\"readthroughput\",\"readpayload\"], skiprows=1)\n",
    "        taskid = f.split(\"_\")[2].replace(\"process\",\"\").replace(\".txt\",\"\")\n",
    "        df[\"taskid\"] = int(taskid)\n",
    "        df[\"cores\"] = int(cores)\n",
    "        dfs.append(df)\n",
    "\n",
    "df = pandas.concat(dfs).sort_values(by=[\"cores\",\"taskid\"]).reset_index(drop=True)\n",
    "df"
   ]
  },
  {
   "cell_type": "code",
   "execution_count": 39,
   "id": "4663b1d6",
   "metadata": {},
   "outputs": [
    {
     "data": {
      "text/html": [
       "<div>\n",
       "<style scoped>\n",
       "    .dataframe tbody tr th:only-of-type {\n",
       "        vertical-align: middle;\n",
       "    }\n",
       "\n",
       "    .dataframe tbody tr th {\n",
       "        vertical-align: top;\n",
       "    }\n",
       "\n",
       "    .dataframe thead th {\n",
       "        text-align: right;\n",
       "    }\n",
       "</style>\n",
       "<table border=\"1\" class=\"dataframe\">\n",
       "  <thead>\n",
       "    <tr style=\"text-align: right;\">\n",
       "      <th></th>\n",
       "      <th>cores</th>\n",
       "      <th>taskruntime</th>\n",
       "      <th>taskreadtime</th>\n",
       "      <th>readthroughput</th>\n",
       "      <th>readpayload</th>\n",
       "      <th>taskreadtime_s</th>\n",
       "    </tr>\n",
       "  </thead>\n",
       "  <tbody>\n",
       "    <tr>\n",
       "      <th>0</th>\n",
       "      <td>1</td>\n",
       "      <td>164.144556</td>\n",
       "      <td>1.637340e+11</td>\n",
       "      <td>689.666667</td>\n",
       "      <td>1.129408e+11</td>\n",
       "      <td>163.734003</td>\n",
       "    </tr>\n",
       "    <tr>\n",
       "      <th>1</th>\n",
       "      <td>2</td>\n",
       "      <td>92.688611</td>\n",
       "      <td>9.240390e+10</td>\n",
       "      <td>611.500000</td>\n",
       "      <td>5.647038e+10</td>\n",
       "      <td>92.403896</td>\n",
       "    </tr>\n",
       "    <tr>\n",
       "      <th>2</th>\n",
       "      <td>4</td>\n",
       "      <td>46.217250</td>\n",
       "      <td>4.597689e+10</td>\n",
       "      <td>620.277778</td>\n",
       "      <td>2.823519e+10</td>\n",
       "      <td>45.976895</td>\n",
       "    </tr>\n",
       "    <tr>\n",
       "      <th>3</th>\n",
       "      <td>6</td>\n",
       "      <td>35.080796</td>\n",
       "      <td>3.481184e+10</td>\n",
       "      <td>541.166667</td>\n",
       "      <td>1.882346e+10</td>\n",
       "      <td>34.811844</td>\n",
       "    </tr>\n",
       "    <tr>\n",
       "      <th>4</th>\n",
       "      <td>8</td>\n",
       "      <td>26.521111</td>\n",
       "      <td>2.626184e+10</td>\n",
       "      <td>539.861111</td>\n",
       "      <td>1.411759e+10</td>\n",
       "      <td>26.261839</td>\n",
       "    </tr>\n",
       "    <tr>\n",
       "      <th>5</th>\n",
       "      <td>10</td>\n",
       "      <td>22.323422</td>\n",
       "      <td>2.205095e+10</td>\n",
       "      <td>513.644444</td>\n",
       "      <td>1.129408e+10</td>\n",
       "      <td>22.050947</td>\n",
       "    </tr>\n",
       "    <tr>\n",
       "      <th>6</th>\n",
       "      <td>12</td>\n",
       "      <td>18.971611</td>\n",
       "      <td>1.872502e+10</td>\n",
       "      <td>503.296296</td>\n",
       "      <td>9.411730e+09</td>\n",
       "      <td>18.725020</td>\n",
       "    </tr>\n",
       "    <tr>\n",
       "      <th>7</th>\n",
       "      <td>14</td>\n",
       "      <td>17.543825</td>\n",
       "      <td>1.726832e+10</td>\n",
       "      <td>468.253968</td>\n",
       "      <td>8.067197e+09</td>\n",
       "      <td>17.268319</td>\n",
       "    </tr>\n",
       "    <tr>\n",
       "      <th>8</th>\n",
       "      <td>16</td>\n",
       "      <td>15.996924</td>\n",
       "      <td>1.572611e+10</td>\n",
       "      <td>450.784722</td>\n",
       "      <td>7.058797e+09</td>\n",
       "      <td>15.726110</td>\n",
       "    </tr>\n",
       "  </tbody>\n",
       "</table>\n",
       "</div>"
      ],
      "text/plain": [
       "   cores  taskruntime  taskreadtime  readthroughput   readpayload  \\\n",
       "0      1   164.144556  1.637340e+11      689.666667  1.129408e+11   \n",
       "1      2    92.688611  9.240390e+10      611.500000  5.647038e+10   \n",
       "2      4    46.217250  4.597689e+10      620.277778  2.823519e+10   \n",
       "3      6    35.080796  3.481184e+10      541.166667  1.882346e+10   \n",
       "4      8    26.521111  2.626184e+10      539.861111  1.411759e+10   \n",
       "5     10    22.323422  2.205095e+10      513.644444  1.129408e+10   \n",
       "6     12    18.971611  1.872502e+10      503.296296  9.411730e+09   \n",
       "7     14    17.543825  1.726832e+10      468.253968  8.067197e+09   \n",
       "8     16    15.996924  1.572611e+10      450.784722  7.058797e+09   \n",
       "\n",
       "   taskreadtime_s  \n",
       "0      163.734003  \n",
       "1       92.403896  \n",
       "2       45.976895  \n",
       "3       34.811844  \n",
       "4       26.261839  \n",
       "5       22.050947  \n",
       "6       18.725020  \n",
       "7       17.268319  \n",
       "8       15.726110  "
      ]
     },
     "execution_count": 39,
     "metadata": {},
     "output_type": "execute_result"
    }
   ],
   "source": [
    "meantaskthroughput = df.groupby([\"cores\"]).mean()[[\"taskruntime\",\"taskreadtime\",\"readthroughput\",\"readpayload\"]]\n",
    "meantaskthroughput = meantaskthroughput.reset_index().sort_values(\"cores\").reset_index(drop=True)\n",
    "meantaskthroughput[\"taskreadtime_s\"] = meantaskthroughput[\"taskreadtime\"] / pow(10, 9)\n",
    "meantaskthroughput"
   ]
  },
  {
   "cell_type": "code",
   "execution_count": 40,
   "id": "0145b4c4",
   "metadata": {},
   "outputs": [
    {
     "data": {
      "text/plain": [
       "Text(0, 0.5, 'Throughput [MB/s]')"
      ]
     },
     "execution_count": 40,
     "metadata": {},
     "output_type": "execute_result"
    },
    {
     "data": {
      "image/png": "[encoded data removed]",
      "text/plain": [
       "<Figure size 720x720 with 1 Axes>"
      ]
     },
     "metadata": {
      "needs_background": "light"
     },
     "output_type": "display_data"
    }
   ],
   "source": [
    "pyplot.figure(figsize=[10,10])\n",
    "pyplot.plot(meantaskthroughput[\"cores\"], meantaskthroughput[\"readthroughput\"], marker=\"o\")\n",
    "pyplot.xlabel(\"Processes\")\n",
    "pyplot.ylabel(\"Throughput [MB/s]\")"
   ]
  },
  {
   "cell_type": "code",
   "execution_count": 41,
   "id": "30a960eb",
   "metadata": {},
   "outputs": [
    {
     "data": {
      "text/plain": [
       "Text(0, 0.5, 'Time [s]')"
      ]
     },
     "execution_count": 41,
     "metadata": {},
     "output_type": "execute_result"
    },
    {
     "data": {
      "image/png": "[encoded data removed]",
      "text/plain": [
       "<Figure size 720x720 with 1 Axes>"
      ]
     },
     "metadata": {
      "needs_background": "light"
     },
     "output_type": "display_data"
    }
   ],
   "source": [
    "pyplot.figure(figsize=[10,10])\n",
    "pyplot.plot(meantaskthroughput[\"cores\"], meantaskthroughput[\"taskreadtime_s\"], marker=\"o\")\n",
    "pyplot.xlabel(\"Processes\")\n",
    "pyplot.ylabel(\"Time [s]\")"
   ]
  },
  {
   "cell_type": "code",
   "execution_count": 42,
   "id": "c2911c4e",
   "metadata": {},
   "outputs": [
    {
     "data": {
      "text/html": [
       "<div>\n",
       "<style scoped>\n",
       "    .dataframe tbody tr th:only-of-type {\n",
       "        vertical-align: middle;\n",
       "    }\n",
       "\n",
       "    .dataframe tbody tr th {\n",
       "        vertical-align: top;\n",
       "    }\n",
       "\n",
       "    .dataframe thead th {\n",
       "        text-align: right;\n",
       "    }\n",
       "</style>\n",
       "<table border=\"1\" class=\"dataframe\">\n",
       "  <thead>\n",
       "    <tr style=\"text-align: right;\">\n",
       "      <th></th>\n",
       "      <th>cores</th>\n",
       "      <th>taskid</th>\n",
       "      <th>taskruntime</th>\n",
       "      <th>taskreadtime</th>\n",
       "      <th>readthroughput</th>\n",
       "      <th>readpayload</th>\n",
       "      <th>totalthroughput</th>\n",
       "      <th>readthroughputspeedup</th>\n",
       "    </tr>\n",
       "  </thead>\n",
       "  <tbody>\n",
       "    <tr>\n",
       "      <th>0</th>\n",
       "      <td>1</td>\n",
       "      <td>0</td>\n",
       "      <td>164.144556</td>\n",
       "      <td>1.637340e+11</td>\n",
       "      <td>689.666667</td>\n",
       "      <td>1.129408e+11</td>\n",
       "      <td>0.673503</td>\n",
       "      <td>1.000000</td>\n",
       "    </tr>\n",
       "    <tr>\n",
       "      <th>1</th>\n",
       "      <td>2</td>\n",
       "      <td>1</td>\n",
       "      <td>185.377222</td>\n",
       "      <td>1.848078e+11</td>\n",
       "      <td>1223.000000</td>\n",
       "      <td>1.129408e+11</td>\n",
       "      <td>1.194336</td>\n",
       "      <td>1.773320</td>\n",
       "    </tr>\n",
       "    <tr>\n",
       "      <th>2</th>\n",
       "      <td>4</td>\n",
       "      <td>6</td>\n",
       "      <td>184.869000</td>\n",
       "      <td>1.839076e+11</td>\n",
       "      <td>2481.111111</td>\n",
       "      <td>1.129408e+11</td>\n",
       "      <td>2.422960</td>\n",
       "      <td>3.597551</td>\n",
       "    </tr>\n",
       "    <tr>\n",
       "      <th>3</th>\n",
       "      <td>6</td>\n",
       "      <td>15</td>\n",
       "      <td>210.484778</td>\n",
       "      <td>2.088711e+11</td>\n",
       "      <td>3247.000000</td>\n",
       "      <td>1.129408e+11</td>\n",
       "      <td>3.170898</td>\n",
       "      <td>4.708072</td>\n",
       "    </tr>\n",
       "    <tr>\n",
       "      <th>4</th>\n",
       "      <td>8</td>\n",
       "      <td>28</td>\n",
       "      <td>212.168889</td>\n",
       "      <td>2.100947e+11</td>\n",
       "      <td>4318.888889</td>\n",
       "      <td>1.129408e+11</td>\n",
       "      <td>4.217665</td>\n",
       "      <td>6.262285</td>\n",
       "    </tr>\n",
       "    <tr>\n",
       "      <th>5</th>\n",
       "      <td>10</td>\n",
       "      <td>45</td>\n",
       "      <td>223.234222</td>\n",
       "      <td>2.205095e+11</td>\n",
       "      <td>5136.444444</td>\n",
       "      <td>1.129408e+11</td>\n",
       "      <td>5.016059</td>\n",
       "      <td>7.447720</td>\n",
       "    </tr>\n",
       "    <tr>\n",
       "      <th>6</th>\n",
       "      <td>12</td>\n",
       "      <td>66</td>\n",
       "      <td>227.659333</td>\n",
       "      <td>2.247002e+11</td>\n",
       "      <td>6039.555556</td>\n",
       "      <td>1.129408e+11</td>\n",
       "      <td>5.898003</td>\n",
       "      <td>8.757210</td>\n",
       "    </tr>\n",
       "    <tr>\n",
       "      <th>7</th>\n",
       "      <td>14</td>\n",
       "      <td>91</td>\n",
       "      <td>245.613556</td>\n",
       "      <td>2.417565e+11</td>\n",
       "      <td>6555.555556</td>\n",
       "      <td>1.129408e+11</td>\n",
       "      <td>6.401910</td>\n",
       "      <td>9.505397</td>\n",
       "    </tr>\n",
       "    <tr>\n",
       "      <th>8</th>\n",
       "      <td>16</td>\n",
       "      <td>120</td>\n",
       "      <td>255.950778</td>\n",
       "      <td>2.516178e+11</td>\n",
       "      <td>7212.555556</td>\n",
       "      <td>1.129408e+11</td>\n",
       "      <td>7.043511</td>\n",
       "      <td>10.458031</td>\n",
       "    </tr>\n",
       "  </tbody>\n",
       "</table>\n",
       "</div>"
      ],
      "text/plain": [
       "   cores  taskid  taskruntime  taskreadtime  readthroughput   readpayload  \\\n",
       "0      1       0   164.144556  1.637340e+11      689.666667  1.129408e+11   \n",
       "1      2       1   185.377222  1.848078e+11     1223.000000  1.129408e+11   \n",
       "2      4       6   184.869000  1.839076e+11     2481.111111  1.129408e+11   \n",
       "3      6      15   210.484778  2.088711e+11     3247.000000  1.129408e+11   \n",
       "4      8      28   212.168889  2.100947e+11     4318.888889  1.129408e+11   \n",
       "5     10      45   223.234222  2.205095e+11     5136.444444  1.129408e+11   \n",
       "6     12      66   227.659333  2.247002e+11     6039.555556  1.129408e+11   \n",
       "7     14      91   245.613556  2.417565e+11     6555.555556  1.129408e+11   \n",
       "8     16     120   255.950778  2.516178e+11     7212.555556  1.129408e+11   \n",
       "\n",
       "   totalthroughput  readthroughputspeedup  \n",
       "0         0.673503               1.000000  \n",
       "1         1.194336               1.773320  \n",
       "2         2.422960               3.597551  \n",
       "3         3.170898               4.708072  \n",
       "4         4.217665               6.262285  \n",
       "5         5.016059               7.447720  \n",
       "6         5.898003               8.757210  \n",
       "7         6.401910               9.505397  \n",
       "8         7.043511              10.458031  "
      ]
     },
     "execution_count": 42,
     "metadata": {},
     "output_type": "execute_result"
    }
   ],
   "source": [
    "sumthroughput = df.groupby([\"cores\",\"taskid\"]).mean()\n",
    "sumthroughput = sumthroughput.reset_index().groupby([\"cores\"]).sum()\n",
    "sumthroughput = sumthroughput.reset_index()\n",
    "sumthroughput[\"totalthroughput\"] = sumthroughput[\"readthroughput\"] / 1024\n",
    "sumthroughput[\"readthroughputspeedup\"] = sumthroughput[\"readthroughput\"] / sumthroughput[\"readthroughput\"][0]\n",
    "sumthroughput"
   ]
  },
  {
   "cell_type": "code",
   "execution_count": 43,
   "id": "228acb75",
   "metadata": {},
   "outputs": [
    {
     "data": {
      "text/plain": [
       "Text(0, 0.5, 'Throughput [GB/s]')"
      ]
     },
     "execution_count": 43,
     "metadata": {},
     "output_type": "execute_result"
    },
    {
     "data": {
      "image/png": "[encoded data removed]",
      "text/plain": [
       "<Figure size 720x720 with 1 Axes>"
      ]
     },
     "metadata": {
      "needs_background": "light"
     },
     "output_type": "display_data"
    }
   ],
   "source": [
    "pyplot.figure(figsize=[10,10])\n",
    "pyplot.plot(sumthroughput[\"cores\"], sumthroughput[\"readthroughput\"]/1000, marker=\"o\")\n",
    "pyplot.xlabel(\"Processes\")\n",
    "pyplot.ylabel(\"Throughput [GB/s]\")"
   ]
  },
  {
   "cell_type": "code",
   "execution_count": 44,
   "id": "453eb7e8",
   "metadata": {},
   "outputs": [
    {
     "data": {
      "text/plain": [
       "Text(0, 0.5, 'Throughput increase')"
      ]
     },
     "execution_count": 44,
     "metadata": {},
     "output_type": "execute_result"
    },
    {
     "data": {
      "image/png": "[encoded data removed]",
      "text/plain": [
       "<Figure size 720x720 with 1 Axes>"
      ]
     },
     "metadata": {
      "needs_background": "light"
     },
     "output_type": "display_data"
    }
   ],
   "source": [
    "pyplot.figure(figsize=[10,10])\n",
    "pyplot.plot(sumthroughput[\"cores\"], sumthroughput[\"readthroughputspeedup\"], marker=\"o\")\n",
    "pyplot.plot(sumthroughput[\"cores\"], sumthroughput[\"cores\"], marker=\"o\")\n",
    "pyplot.xlabel(\"Processes\")\n",
    "pyplot.ylabel(\"Throughput increase\")"
   ]
  },
  {
   "cell_type": "markdown",
   "id": "d949a5c5",
   "metadata": {},
   "source": [
    "# TGraph"
   ]
  },
  {
   "cell_type": "code",
   "execution_count": 25,
   "id": "6aea7c3a",
   "metadata": {},
   "outputs": [
    {
     "name": "stderr",
     "output_type": "stream",
     "text": [
      "Info in <TCanvas::Print>: png file distrdf_lhcb_singlenode_processingthroughput.png has been created\n"
     ]
    },
    {
     "data": {
      "image/png": "[encoded data removed]",
      "text/plain": [
       "<IPython.core.display.Image object>"
      ]
     },
     "metadata": {},
     "output_type": "display_data"
    }
   ],
   "source": [
    "runtimegraph = ROOT.TGraph(len(timesdf[\"cores\"]), numpy.array(timesdf[\"cores\"], dtype=float), numpy.array(timesdf[\"throughput_GB_s\"], dtype=float))\n",
    "\n",
    "width = 800\n",
    "height = 800\n",
    "d = ROOT.TCanvas(\"d\", \"\", width, height)\n",
    "\n",
    "runtimegraph.SetTitle(\"\")\n",
    "\n",
    "runtimegraph.GetXaxis().SetTitle(\"Cores\")\n",
    "runtimegraph.GetXaxis().SetTitleSize(0.025)\n",
    "runtimegraph.GetXaxis().SetTitleOffset(1.3)\n",
    "runtimegraph.GetXaxis().SetLabelSize(0)\n",
    "runtimegraph.GetXaxis().SetTickLength(0)\n",
    "\n",
    "runtimegraph.GetYaxis().SetTitle(\"Throughput [GB/s]\")\n",
    "runtimegraph.GetYaxis().SetLabelSize(0.03)\n",
    "runtimegraph.GetYaxis().SetTitleSize(0.025)\n",
    "runtimegraph.GetYaxis().SetRangeUser(0, 7)\n",
    "\n",
    "runtimegraph.SetMarkerStyle(20)\n",
    "runtimegraph.SetMarkerSize(1)\n",
    "runtimegraph.SetMarkerColor(ROOT.kOrange+1)\n",
    "\n",
    "runtimegraph.SetLineStyle(ROOT.kSolid)\n",
    "# Line color also decides error bar color somehow\n",
    "runtimegraph.SetLineColorAlpha(ROOT.kOrange+1,1)\n",
    "runtimegraph.SetLineWidth(2)\n",
    "runtimegraph.Draw(\"APL\")\n",
    "\n",
    "ymin = runtimegraph.GetHistogram().GetMinimum()\n",
    "ymax = runtimegraph.GetHistogram().GetMaximum()\n",
    "\n",
    "dy = ymax - ymin\n",
    "labels = []\n",
    "ticks = []\n",
    "\n",
    "for i in range(5):\n",
    "    x = runtimegraph.GetPointX(i)\n",
    "    t = ROOT.TLatex(x, ymin - 0.05 * dy, str(int(x)))\n",
    "    t.SetTextSize(0.03)\n",
    "    t.SetTextFont(42)\n",
    "    t.SetTextAlign(21)\n",
    "    t.Draw()\n",
    "    labels.append(t)\n",
    "    l = ROOT.TLine(x, ymin, x,ymin-0.02*dy)\n",
    "    l.Draw()\n",
    "    ticks.append(l)\n",
    "    \n",
    "d.Draw()\n",
    "d.SaveAs(\"distrdf_lhcb_singlenode_processingthroughput.png\")"
   ]
  },
  {
   "cell_type": "code",
   "execution_count": 26,
   "id": "331abec9",
   "metadata": {},
   "outputs": [
    {
     "name": "stderr",
     "output_type": "stream",
     "text": [
      "Info in <TCanvas::Print>: png file distrdf_lhcb_singlenode_processingthroughputspeedup.png has been created\n"
     ]
    },
    {
     "data": {
      "image/png": "[encoded data removed]",
      "text/plain": [
       "<IPython.core.display.Image object>"
      ]
     },
     "metadata": {},
     "output_type": "display_data"
    }
   ],
   "source": [
    "speedupgraph = ROOT.TGraph(len(timesdf[\"cores\"]), numpy.array(timesdf[\"cores\"], dtype=float), numpy.array(timesdf[\"throughputspeedup\"], dtype=float))\n",
    "idealspeedupgraph = ROOT.TGraph(len(timesdf[\"cores\"]), numpy.array(timesdf[\"cores\"], dtype=float), numpy.array(timesdf[\"cores\"], dtype=float))\n",
    "\n",
    "width = 800\n",
    "height = 800\n",
    "c = ROOT.TCanvas(\"c\", \"\", width, height)\n",
    "\n",
    "idealspeedupgraph.SetTitle(\"\")\n",
    "\n",
    "idealspeedupgraph.GetXaxis().SetTitle(\"Nodes\")\n",
    "idealspeedupgraph.GetXaxis().SetTitleSize(0.025)\n",
    "idealspeedupgraph.GetXaxis().SetTitleOffset(1.4)\n",
    "idealspeedupgraph.GetXaxis().SetLabelSize(0)\n",
    "idealspeedupgraph.GetXaxis().SetTickLength(0)\n",
    "idealspeedupgraph.GetYaxis().SetTitle(\"Throughput increase\")\n",
    "\n",
    "idealspeedupgraph.GetYaxis().SetTitleSize(0.025)\n",
    "idealspeedupgraph.GetYaxis().SetTitleOffset(1.4)\n",
    "idealspeedupgraph.GetYaxis().SetRangeUser(0, 17)\n",
    "idealspeedupgraph.GetYaxis().SetLabelSize(0.03)\n",
    "\n",
    "idealspeedupgraph.SetMarkerColor(ROOT.kAzure-3)\n",
    "idealspeedupgraph.SetMarkerSize(1)\n",
    "idealspeedupgraph.SetMarkerStyle(20)\n",
    "idealspeedupgraph.SetLineStyle(ROOT.kDashed)\n",
    "idealspeedupgraph.SetLineColorAlpha(ROOT.kAzure-3,1)\n",
    "idealspeedupgraph.SetLineWidth(2)\n",
    "idealspeedupgraph.Draw(\"AL\")\n",
    "\n",
    "ymin = idealspeedupgraph.GetHistogram().GetMinimum()\n",
    "ymax = idealspeedupgraph.GetHistogram().GetMaximum()\n",
    "\n",
    "dy = ymax - ymin\n",
    "xlabels = []\n",
    "xticks = []\n",
    "#ylabels = []\n",
    "#yticks = []\n",
    "\n",
    "for i in range(len(timesdf[\"cores\"])):\n",
    "    x = idealspeedupgraph.GetPointX(i)\n",
    "    y = idealspeedupgraph.GetPointY(i)\n",
    "\n",
    "    xt = ROOT.TLatex(x, -0.9, str(int(x)))\n",
    "    xt.SetTextSize(0.03)\n",
    "    xt.SetTextFont(42)\n",
    "    xt.SetTextAlign(21)\n",
    "    xt.Draw()\n",
    "    xlabels.append(xt)\n",
    "\n",
    "    xl = ROOT.TLine(x, ymin, x,ymin-0.02*dy)\n",
    "    xl.Draw()\n",
    "    xticks.append(xl)\n",
    "\n",
    "speedupgraph.SetMarkerStyle(20)\n",
    "speedupgraph.SetMarkerSize(1)\n",
    "speedupgraph.SetMarkerColor(ROOT.kOrange+1)\n",
    "\n",
    "\n",
    "speedupgraph.SetLineColorAlpha(ROOT.kOrange+1,1)\n",
    "speedupgraph.SetLineWidth(2)\n",
    "\n",
    "speedupgraph.Draw(\"SAME PL\")\n",
    "\n",
    "legend = ROOT.TLegend(0.15,0.8,0.4,0.9)\n",
    "legend.AddEntry(speedupgraph, \"Real throughput increase\")\n",
    "legend.AddEntry(idealspeedupgraph, \"Linear increase\", \"L\")\n",
    "legend.Draw()\n",
    "\n",
    "c.Draw()\n",
    "c.SaveAs(\"distrdf_lhcb_singlenode_processingthroughputspeedup.png\")"
   ]
  },
  {
   "cell_type": "code",
   "execution_count": null,
   "id": "a338eb97",
   "metadata": {},
   "outputs": [],
   "source": []
  },
  {
   "cell_type": "code",
   "execution_count": 150,
   "id": "170e1d5a",
   "metadata": {},
   "outputs": [
    {
     "name": "stderr",
     "output_type": "stream",
     "text": [
      "Warning in <TCanvas::Constructor>: Deleting canvas with same name: d\n",
      "Info in <TCanvas::Print>: png file distrdf_lhcb_singlenode_readthroughput.png has been created\n"
     ]
    },
    {
     "data": {
      "image/png": "[encoded data removed]",
      "text/plain": [
       "<IPython.core.display.Image object>"
      ]
     },
     "metadata": {},
     "output_type": "display_data"
    }
   ],
   "source": [
    "runtimegraph = ROOT.TGraph(len(sumthroughput[\"cores\"]), numpy.array(sumthroughput[\"cores\"], dtype=float), numpy.array(sumthroughput[\"readthroughput\"]/1000, dtype=float))\n",
    "\n",
    "width = 800\n",
    "height = 800\n",
    "d = ROOT.TCanvas(\"d\", \"\", width, height)\n",
    "\n",
    "runtimegraph.SetTitle(\"\")\n",
    "\n",
    "runtimegraph.GetXaxis().SetTitle(\"Cores\")\n",
    "runtimegraph.GetXaxis().SetTitleSize(0.025)\n",
    "runtimegraph.GetXaxis().SetTitleOffset(1.3)\n",
    "runtimegraph.GetXaxis().SetLabelSize(0)\n",
    "runtimegraph.GetXaxis().SetTickLength(0)\n",
    "\n",
    "runtimegraph.GetYaxis().SetTitle(\"Throughput [GB/s]\")\n",
    "runtimegraph.GetYaxis().SetLabelSize(0.03)\n",
    "runtimegraph.GetYaxis().SetTitleSize(0.025)\n",
    "runtimegraph.GetYaxis().SetRangeUser(0, 13)\n",
    "\n",
    "runtimegraph.SetMarkerStyle(20)\n",
    "runtimegraph.SetMarkerSize(1)\n",
    "runtimegraph.SetMarkerColor(ROOT.kOrange+1)\n",
    "\n",
    "runtimegraph.SetLineStyle(ROOT.kSolid)\n",
    "# Line color also decides error bar color somehow\n",
    "runtimegraph.SetLineColorAlpha(ROOT.kOrange+1,1)\n",
    "runtimegraph.SetLineWidth(2)\n",
    "runtimegraph.Draw(\"APL\")\n",
    "\n",
    "ymin = runtimegraph.GetHistogram().GetMinimum()\n",
    "ymax = runtimegraph.GetHistogram().GetMaximum()\n",
    "\n",
    "dy = ymax - ymin\n",
    "labels = []\n",
    "ticks = []\n",
    "\n",
    "for i in range(len(sumthroughput[\"cores\"])):\n",
    "    x = runtimegraph.GetPointX(i)\n",
    "    t = ROOT.TLatex(x, ymin - 0.05 * dy, str(int(x)))\n",
    "    t.SetTextSize(0.03)\n",
    "    t.SetTextFont(42)\n",
    "    t.SetTextAlign(21)\n",
    "    t.Draw()\n",
    "    labels.append(t)\n",
    "    l = ROOT.TLine(x, ymin, x,ymin-0.02*dy)\n",
    "    l.Draw()\n",
    "    ticks.append(l)\n",
    "    \n",
    "d.Draw()\n",
    "d.SaveAs(\"distrdf_lhcb_singlenode_readthroughput.png\")"
   ]
  },
  {
   "cell_type": "code",
   "execution_count": null,
   "id": "18a24c4b",
   "metadata": {},
   "outputs": [],
   "source": []
  }
 ],
 "metadata": {
  "kernelspec": {
   "display_name": "Python 3",
   "language": "python",
   "name": "python3"
  },
  "language_info": {
   "codemirror_mode": {
    "name": "ipython",
    "version": 3
   },
   "file_extension": ".py",
   "mimetype": "text/x-python",
   "name": "python",
   "nbconvert_exporter": "python",
   "pygments_lexer": "ipython3",
   "version": "3.9.7"
  }
 },
 "nbformat": 4,
 "nbformat_minor": 5
}
