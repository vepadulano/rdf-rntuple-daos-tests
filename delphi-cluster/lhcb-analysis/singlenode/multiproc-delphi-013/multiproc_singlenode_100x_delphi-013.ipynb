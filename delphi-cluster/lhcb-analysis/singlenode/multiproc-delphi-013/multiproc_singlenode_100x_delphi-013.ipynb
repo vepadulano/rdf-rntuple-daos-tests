{
 "cells": [
  {
   "cell_type": "code",
   "execution_count": 1,
   "id": "845f877b",
   "metadata": {},
   "outputs": [
    {
     "name": "stdout",
     "output_type": "stream",
     "text": [
      "Welcome to JupyROOT 6.24/06\n"
     ]
    }
   ],
   "source": [
    "import pandas\n",
    "import numpy\n",
    "from matplotlib import pyplot\n",
    "import os\n",
    "import ROOT"
   ]
  },
  {
   "cell_type": "code",
   "execution_count": 58,
   "id": "e5f78053",
   "metadata": {},
   "outputs": [
    {
     "data": {
      "text/html": [
       "<div>\n",
       "<style scoped>\n",
       "    .dataframe tbody tr th:only-of-type {\n",
       "        vertical-align: middle;\n",
       "    }\n",
       "\n",
       "    .dataframe tbody tr th {\n",
       "        vertical-align: top;\n",
       "    }\n",
       "\n",
       "    .dataframe thead th {\n",
       "        text-align: right;\n",
       "    }\n",
       "</style>\n",
       "<table border=\"1\" class=\"dataframe\">\n",
       "  <thead>\n",
       "    <tr style=\"text-align: right;\">\n",
       "      <th></th>\n",
       "      <th>cores</th>\n",
       "      <th>mean</th>\n",
       "      <th>meanerr</th>\n",
       "      <th>throughput_GB_s</th>\n",
       "    </tr>\n",
       "  </thead>\n",
       "  <tbody>\n",
       "    <tr>\n",
       "      <th>0</th>\n",
       "      <td>1</td>\n",
       "      <td>187.94</td>\n",
       "      <td>1.64</td>\n",
       "      <td>0.600935</td>\n",
       "    </tr>\n",
       "    <tr>\n",
       "      <th>1</th>\n",
       "      <td>2</td>\n",
       "      <td>97.27</td>\n",
       "      <td>1.37</td>\n",
       "      <td>1.161057</td>\n",
       "    </tr>\n",
       "    <tr>\n",
       "      <th>2</th>\n",
       "      <td>4</td>\n",
       "      <td>50.14</td>\n",
       "      <td>0.26</td>\n",
       "      <td>2.252668</td>\n",
       "    </tr>\n",
       "    <tr>\n",
       "      <th>3</th>\n",
       "      <td>8</td>\n",
       "      <td>26.38</td>\n",
       "      <td>0.09</td>\n",
       "      <td>4.282006</td>\n",
       "    </tr>\n",
       "    <tr>\n",
       "      <th>4</th>\n",
       "      <td>16</td>\n",
       "      <td>14.68</td>\n",
       "      <td>0.19</td>\n",
       "      <td>7.693279</td>\n",
       "    </tr>\n",
       "    <tr>\n",
       "      <th>5</th>\n",
       "      <td>24</td>\n",
       "      <td>11.36</td>\n",
       "      <td>0.15</td>\n",
       "      <td>9.940510</td>\n",
       "    </tr>\n",
       "    <tr>\n",
       "      <th>6</th>\n",
       "      <td>32</td>\n",
       "      <td>9.78</td>\n",
       "      <td>0.03</td>\n",
       "      <td>11.546036</td>\n",
       "    </tr>\n",
       "  </tbody>\n",
       "</table>\n",
       "</div>"
      ],
      "text/plain": [
       "   cores    mean  meanerr  throughput_GB_s\n",
       "0      1  187.94     1.64         0.600935\n",
       "1      2   97.27     1.37         1.161057\n",
       "2      4   50.14     0.26         2.252668\n",
       "3      8   26.38     0.09         4.282006\n",
       "4     16   14.68     0.19         7.693279\n",
       "5     24   11.36     0.15         9.940510\n",
       "6     32    9.78     0.03        11.546036"
      ]
     },
     "execution_count": 58,
     "metadata": {},
     "output_type": "execute_result"
    }
   ],
   "source": [
    "times = {\"cores\":[],\"mean\":[],\"meanerr\":[],\"throughput_GB_s\":[]}\n",
    "timedir = \"delphi-013-multiproc-20211111-1numanodes/appruntimes\"\n",
    "datasetsize = 157400503680\n",
    "readpercent = 0.7949011466389114\n",
    "readsize = 112940757600\n",
    "for f in os.listdir(timedir):\n",
    "    array = numpy.genfromtxt(timedir+\"/\"+f, skip_header=1)\n",
    "    nodes = f.split(\"_\")[4].replace(\"cores.csv\",\"\")\n",
    "    time_mean = numpy.mean(array)\n",
    "    times[\"cores\"].append(int(nodes))\n",
    "    times[\"mean\"].append(round(time_mean, 2))\n",
    "    times[\"meanerr\"].append(round(numpy.std(array)/numpy.sqrt(len(array)), 2))\n",
    "    times[\"throughput_GB_s\"].append(readsize/time_mean/pow(10, 9))\n",
    "    \n",
    "timesdf = pandas.DataFrame(times)\n",
    "timesdf = timesdf.sort_values(by=\"cores\").reset_index(drop=True).copy()\n",
    "timesdf"
   ]
  },
  {
   "cell_type": "code",
   "execution_count": 59,
   "id": "0153d0c6",
   "metadata": {
    "scrolled": true
   },
   "outputs": [
    {
     "data": {
      "text/html": [
       "<div>\n",
       "<style scoped>\n",
       "    .dataframe tbody tr th:only-of-type {\n",
       "        vertical-align: middle;\n",
       "    }\n",
       "\n",
       "    .dataframe tbody tr th {\n",
       "        vertical-align: top;\n",
       "    }\n",
       "\n",
       "    .dataframe thead th {\n",
       "        text-align: right;\n",
       "    }\n",
       "</style>\n",
       "<table border=\"1\" class=\"dataframe\">\n",
       "  <thead>\n",
       "    <tr style=\"text-align: right;\">\n",
       "      <th></th>\n",
       "      <th>cores</th>\n",
       "      <th>mean</th>\n",
       "      <th>meanerr</th>\n",
       "      <th>throughput_GB_s</th>\n",
       "      <th>throughputspeedup</th>\n",
       "    </tr>\n",
       "  </thead>\n",
       "  <tbody>\n",
       "    <tr>\n",
       "      <th>0</th>\n",
       "      <td>1</td>\n",
       "      <td>187.94</td>\n",
       "      <td>1.64</td>\n",
       "      <td>0.600935</td>\n",
       "      <td>1.000000</td>\n",
       "    </tr>\n",
       "    <tr>\n",
       "      <th>1</th>\n",
       "      <td>2</td>\n",
       "      <td>97.27</td>\n",
       "      <td>1.37</td>\n",
       "      <td>1.161057</td>\n",
       "      <td>1.932083</td>\n",
       "    </tr>\n",
       "    <tr>\n",
       "      <th>2</th>\n",
       "      <td>4</td>\n",
       "      <td>50.14</td>\n",
       "      <td>0.26</td>\n",
       "      <td>2.252668</td>\n",
       "      <td>3.748604</td>\n",
       "    </tr>\n",
       "    <tr>\n",
       "      <th>3</th>\n",
       "      <td>8</td>\n",
       "      <td>26.38</td>\n",
       "      <td>0.09</td>\n",
       "      <td>4.282006</td>\n",
       "      <td>7.125570</td>\n",
       "    </tr>\n",
       "    <tr>\n",
       "      <th>4</th>\n",
       "      <td>16</td>\n",
       "      <td>14.68</td>\n",
       "      <td>0.19</td>\n",
       "      <td>7.693279</td>\n",
       "      <td>12.802178</td>\n",
       "    </tr>\n",
       "    <tr>\n",
       "      <th>5</th>\n",
       "      <td>24</td>\n",
       "      <td>11.36</td>\n",
       "      <td>0.15</td>\n",
       "      <td>9.940510</td>\n",
       "      <td>16.541734</td>\n",
       "    </tr>\n",
       "    <tr>\n",
       "      <th>6</th>\n",
       "      <td>32</td>\n",
       "      <td>9.78</td>\n",
       "      <td>0.03</td>\n",
       "      <td>11.546036</td>\n",
       "      <td>19.213447</td>\n",
       "    </tr>\n",
       "  </tbody>\n",
       "</table>\n",
       "</div>"
      ],
      "text/plain": [
       "   cores    mean  meanerr  throughput_GB_s  throughputspeedup\n",
       "0      1  187.94     1.64         0.600935           1.000000\n",
       "1      2   97.27     1.37         1.161057           1.932083\n",
       "2      4   50.14     0.26         2.252668           3.748604\n",
       "3      8   26.38     0.09         4.282006           7.125570\n",
       "4     16   14.68     0.19         7.693279          12.802178\n",
       "5     24   11.36     0.15         9.940510          16.541734\n",
       "6     32    9.78     0.03        11.546036          19.213447"
      ]
     },
     "execution_count": 59,
     "metadata": {},
     "output_type": "execute_result"
    }
   ],
   "source": [
    "throughput_1node = timesdf[\"throughput_GB_s\"][0]\n",
    "timesdf[\"throughputspeedup\"] = timesdf[\"throughput_GB_s\"] / throughput_1node\n",
    "timesdf"
   ]
  },
  {
   "cell_type": "code",
   "execution_count": 60,
   "id": "f05df533",
   "metadata": {},
   "outputs": [
    {
     "data": {
      "text/plain": [
       "<matplotlib.legend.Legend at 0x7f9513c1b760>"
      ]
     },
     "execution_count": 60,
     "metadata": {},
     "output_type": "execute_result"
    },
    {
     "data": {
      "image/png": "[encoded data removed]",
      "text/plain": [
       "<Figure size 720x720 with 1 Axes>"
      ]
     },
     "metadata": {
      "needs_background": "light"
     },
     "output_type": "display_data"
    }
   ],
   "source": [
    "pyplot.figure(figsize=[10,10])\n",
    "pyplot.plot(timesdf[\"cores\"], timesdf[\"throughputspeedup\"], label=\"throughput speedup (150GB)\", marker=\"o\")\n",
    "pyplot.plot(timesdf[\"cores\"], timesdf[\"cores\"], label=\"ideal speedup\", marker=\"o\")\n",
    "pyplot.xticks(timesdf[\"cores\"])\n",
    "pyplot.yticks(timesdf[\"cores\"])\n",
    "pyplot.xlabel(\"Cores\")\n",
    "pyplot.ylabel(\"Throughput increase\")\n",
    "pyplot.legend()"
   ]
  },
  {
   "cell_type": "code",
   "execution_count": 61,
   "id": "091b6993",
   "metadata": {},
   "outputs": [
    {
     "name": "stderr",
     "output_type": "stream",
     "text": [
      "No handles with labels found to put in legend.\n"
     ]
    },
    {
     "data": {
      "text/plain": [
       "<matplotlib.legend.Legend at 0x7f9513b81c10>"
      ]
     },
     "execution_count": 61,
     "metadata": {},
     "output_type": "execute_result"
    },
    {
     "data": {
      "image/png": "[encoded data removed]",
      "text/plain": [
       "<Figure size 720x720 with 1 Axes>"
      ]
     },
     "metadata": {
      "needs_background": "light"
     },
     "output_type": "display_data"
    }
   ],
   "source": [
    "pyplot.figure(figsize=[10,10])\n",
    "pyplot.plot(timesdf[\"cores\"], timesdf[\"throughput_GB_s\"], marker=\"o\")\n",
    "pyplot.xticks(timesdf[\"cores\"])\n",
    "\n",
    "pyplot.xlabel(\"Cores\")\n",
    "pyplot.ylabel(\"Throughput [GB/s]\")\n",
    "pyplot.legend()"
   ]
  },
  {
   "cell_type": "markdown",
   "id": "a4fe440f",
   "metadata": {},
   "source": [
    "# RNTuple read throughput"
   ]
  },
  {
   "cell_type": "code",
   "execution_count": 9,
   "id": "e2f350b1",
   "metadata": {},
   "outputs": [
    {
     "data": {
      "text/html": [
       "<div>\n",
       "<style scoped>\n",
       "    .dataframe tbody tr th:only-of-type {\n",
       "        vertical-align: middle;\n",
       "    }\n",
       "\n",
       "    .dataframe tbody tr th {\n",
       "        vertical-align: top;\n",
       "    }\n",
       "\n",
       "    .dataframe thead th {\n",
       "        text-align: right;\n",
       "    }\n",
       "</style>\n",
       "<table border=\"1\" class=\"dataframe\">\n",
       "  <thead>\n",
       "    <tr style=\"text-align: right;\">\n",
       "      <th></th>\n",
       "      <th>taskruntime</th>\n",
       "      <th>taskreadtime</th>\n",
       "      <th>readthroughput</th>\n",
       "      <th>readpayload</th>\n",
       "      <th>taskid</th>\n",
       "      <th>cores</th>\n",
       "    </tr>\n",
       "  </thead>\n",
       "  <tbody>\n",
       "    <tr>\n",
       "      <th>0</th>\n",
       "      <td>184.640</td>\n",
       "      <td>184318446887</td>\n",
       "      <td>612</td>\n",
       "      <td>112940757600</td>\n",
       "      <td>0</td>\n",
       "      <td>1</td>\n",
       "    </tr>\n",
       "    <tr>\n",
       "      <th>1</th>\n",
       "      <td>192.726</td>\n",
       "      <td>192401402004</td>\n",
       "      <td>587</td>\n",
       "      <td>112940757600</td>\n",
       "      <td>0</td>\n",
       "      <td>1</td>\n",
       "    </tr>\n",
       "    <tr>\n",
       "      <th>2</th>\n",
       "      <td>181.695</td>\n",
       "      <td>181371010594</td>\n",
       "      <td>622</td>\n",
       "      <td>112940757600</td>\n",
       "      <td>0</td>\n",
       "      <td>1</td>\n",
       "    </tr>\n",
       "    <tr>\n",
       "      <th>3</th>\n",
       "      <td>191.328</td>\n",
       "      <td>191004198339</td>\n",
       "      <td>591</td>\n",
       "      <td>112940757600</td>\n",
       "      <td>0</td>\n",
       "      <td>1</td>\n",
       "    </tr>\n",
       "    <tr>\n",
       "      <th>4</th>\n",
       "      <td>183.998</td>\n",
       "      <td>183673270268</td>\n",
       "      <td>614</td>\n",
       "      <td>112940757600</td>\n",
       "      <td>0</td>\n",
       "      <td>1</td>\n",
       "    </tr>\n",
       "    <tr>\n",
       "      <th>...</th>\n",
       "      <td>...</td>\n",
       "      <td>...</td>\n",
       "      <td>...</td>\n",
       "      <td>...</td>\n",
       "      <td>...</td>\n",
       "      <td>...</td>\n",
       "    </tr>\n",
       "    <tr>\n",
       "      <th>2650</th>\n",
       "      <td>5.849</td>\n",
       "      <td>5668222467</td>\n",
       "      <td>311</td>\n",
       "      <td>1764699288</td>\n",
       "      <td>63</td>\n",
       "      <td>64</td>\n",
       "    </tr>\n",
       "    <tr>\n",
       "      <th>2651</th>\n",
       "      <td>5.894</td>\n",
       "      <td>5716767276</td>\n",
       "      <td>308</td>\n",
       "      <td>1764699288</td>\n",
       "      <td>63</td>\n",
       "      <td>64</td>\n",
       "    </tr>\n",
       "    <tr>\n",
       "      <th>2652</th>\n",
       "      <td>5.623</td>\n",
       "      <td>5438441006</td>\n",
       "      <td>324</td>\n",
       "      <td>1764699288</td>\n",
       "      <td>63</td>\n",
       "      <td>64</td>\n",
       "    </tr>\n",
       "    <tr>\n",
       "      <th>2653</th>\n",
       "      <td>6.070</td>\n",
       "      <td>5881681210</td>\n",
       "      <td>300</td>\n",
       "      <td>1764699288</td>\n",
       "      <td>63</td>\n",
       "      <td>64</td>\n",
       "    </tr>\n",
       "    <tr>\n",
       "      <th>2654</th>\n",
       "      <td>6.286</td>\n",
       "      <td>6098611814</td>\n",
       "      <td>289</td>\n",
       "      <td>1764699288</td>\n",
       "      <td>63</td>\n",
       "      <td>64</td>\n",
       "    </tr>\n",
       "  </tbody>\n",
       "</table>\n",
       "<p>2655 rows × 6 columns</p>\n",
       "</div>"
      ],
      "text/plain": [
       "      taskruntime  taskreadtime  readthroughput   readpayload  taskid  cores\n",
       "0         184.640  184318446887             612  112940757600       0      1\n",
       "1         192.726  192401402004             587  112940757600       0      1\n",
       "2         181.695  181371010594             622  112940757600       0      1\n",
       "3         191.328  191004198339             591  112940757600       0      1\n",
       "4         183.998  183673270268             614  112940757600       0      1\n",
       "...           ...           ...             ...           ...     ...    ...\n",
       "2650        5.849    5668222467             311    1764699288      63     64\n",
       "2651        5.894    5716767276             308    1764699288      63     64\n",
       "2652        5.623    5438441006             324    1764699288      63     64\n",
       "2653        6.070    5881681210             300    1764699288      63     64\n",
       "2654        6.286    6098611814             289    1764699288      63     64\n",
       "\n",
       "[2655 rows x 6 columns]"
      ]
     },
     "execution_count": 9,
     "metadata": {},
     "output_type": "execute_result"
    }
   ],
   "source": [
    "times = {\"taskid\":[],\"mean\":[],\"meanerr\":[],\"throughput_MB_s\":[]}\n",
    "maindir = \"delphi-013-multiproc-20211111-2numanodes\"\n",
    "timedirs = [timedir for timedir in os.listdir(maindir) if timedir.startswith(\"timeresults\")]\n",
    "\n",
    "dfs = []\n",
    "for timedir in timedirs:\n",
    "    cores = timedir.split(\"_\")[2].replace(\"processes\",\"\")\n",
    "    chunks = cores\n",
    "    for f in os.listdir(os.path.join(maindir, timedir)):\n",
    "        df = pandas.read_csv(os.path.join(maindir, timedir, f), header=None, names=[\"taskruntime\",\"taskreadtime\",\"readthroughput\",\"readpayload\"], skiprows=1)\n",
    "        taskid = f.split(\"_\")[2].replace(\"process\",\"\").replace(\".txt\",\"\")\n",
    "        df[\"taskid\"] = int(taskid)\n",
    "        df[\"cores\"] = int(cores)\n",
    "        dfs.append(df)\n",
    "\n",
    "df = pandas.concat(dfs).sort_values(by=[\"cores\",\"taskid\"]).reset_index(drop=True)\n",
    "df"
   ]
  },
  {
   "cell_type": "code",
   "execution_count": 10,
   "id": "4663b1d6",
   "metadata": {},
   "outputs": [
    {
     "data": {
      "text/html": [
       "<div>\n",
       "<style scoped>\n",
       "    .dataframe tbody tr th:only-of-type {\n",
       "        vertical-align: middle;\n",
       "    }\n",
       "\n",
       "    .dataframe tbody tr th {\n",
       "        vertical-align: top;\n",
       "    }\n",
       "\n",
       "    .dataframe thead th {\n",
       "        text-align: right;\n",
       "    }\n",
       "</style>\n",
       "<table border=\"1\" class=\"dataframe\">\n",
       "  <thead>\n",
       "    <tr style=\"text-align: right;\">\n",
       "      <th></th>\n",
       "      <th>cores</th>\n",
       "      <th>taskruntime</th>\n",
       "      <th>taskreadtime</th>\n",
       "      <th>readthroughput</th>\n",
       "      <th>readpayload</th>\n",
       "      <th>taskreadtime_s</th>\n",
       "    </tr>\n",
       "  </thead>\n",
       "  <tbody>\n",
       "    <tr>\n",
       "      <th>0</th>\n",
       "      <td>1</td>\n",
       "      <td>187.273444</td>\n",
       "      <td>1.869466e+11</td>\n",
       "      <td>603.888889</td>\n",
       "      <td>1.129408e+11</td>\n",
       "      <td>186.946578</td>\n",
       "    </tr>\n",
       "    <tr>\n",
       "      <th>1</th>\n",
       "      <td>2</td>\n",
       "      <td>94.695667</td>\n",
       "      <td>9.448075e+10</td>\n",
       "      <td>597.888889</td>\n",
       "      <td>5.647038e+10</td>\n",
       "      <td>94.480747</td>\n",
       "    </tr>\n",
       "    <tr>\n",
       "      <th>2</th>\n",
       "      <td>4</td>\n",
       "      <td>48.840972</td>\n",
       "      <td>4.865761e+10</td>\n",
       "      <td>580.305556</td>\n",
       "      <td>2.823519e+10</td>\n",
       "      <td>48.657613</td>\n",
       "    </tr>\n",
       "    <tr>\n",
       "      <th>3</th>\n",
       "      <td>8</td>\n",
       "      <td>25.253347</td>\n",
       "      <td>2.506187e+10</td>\n",
       "      <td>563.250000</td>\n",
       "      <td>1.411759e+10</td>\n",
       "      <td>25.061866</td>\n",
       "    </tr>\n",
       "    <tr>\n",
       "      <th>4</th>\n",
       "      <td>16</td>\n",
       "      <td>13.845375</td>\n",
       "      <td>1.364533e+10</td>\n",
       "      <td>517.111111</td>\n",
       "      <td>7.058797e+09</td>\n",
       "      <td>13.645331</td>\n",
       "    </tr>\n",
       "    <tr>\n",
       "      <th>5</th>\n",
       "      <td>24</td>\n",
       "      <td>10.311245</td>\n",
       "      <td>1.013701e+10</td>\n",
       "      <td>464.319444</td>\n",
       "      <td>4.705865e+09</td>\n",
       "      <td>10.137010</td>\n",
       "    </tr>\n",
       "    <tr>\n",
       "      <th>6</th>\n",
       "      <td>32</td>\n",
       "      <td>9.125438</td>\n",
       "      <td>8.935930e+09</td>\n",
       "      <td>394.770833</td>\n",
       "      <td>3.529399e+09</td>\n",
       "      <td>8.935930</td>\n",
       "    </tr>\n",
       "    <tr>\n",
       "      <th>7</th>\n",
       "      <td>40</td>\n",
       "      <td>7.334539</td>\n",
       "      <td>7.126944e+09</td>\n",
       "      <td>398.772222</td>\n",
       "      <td>2.823519e+09</td>\n",
       "      <td>7.126944</td>\n",
       "    </tr>\n",
       "    <tr>\n",
       "      <th>8</th>\n",
       "      <td>48</td>\n",
       "      <td>6.360824</td>\n",
       "      <td>6.156525e+09</td>\n",
       "      <td>383.648148</td>\n",
       "      <td>2.352932e+09</td>\n",
       "      <td>6.156525</td>\n",
       "    </tr>\n",
       "    <tr>\n",
       "      <th>9</th>\n",
       "      <td>56</td>\n",
       "      <td>5.972567</td>\n",
       "      <td>5.785785e+09</td>\n",
       "      <td>348.607143</td>\n",
       "      <td>2.016799e+09</td>\n",
       "      <td>5.785785</td>\n",
       "    </tr>\n",
       "    <tr>\n",
       "      <th>10</th>\n",
       "      <td>64</td>\n",
       "      <td>5.860682</td>\n",
       "      <td>5.674445e+09</td>\n",
       "      <td>310.918403</td>\n",
       "      <td>1.764699e+09</td>\n",
       "      <td>5.674445</td>\n",
       "    </tr>\n",
       "  </tbody>\n",
       "</table>\n",
       "</div>"
      ],
      "text/plain": [
       "    cores  taskruntime  taskreadtime  readthroughput   readpayload  \\\n",
       "0       1   187.273444  1.869466e+11      603.888889  1.129408e+11   \n",
       "1       2    94.695667  9.448075e+10      597.888889  5.647038e+10   \n",
       "2       4    48.840972  4.865761e+10      580.305556  2.823519e+10   \n",
       "3       8    25.253347  2.506187e+10      563.250000  1.411759e+10   \n",
       "4      16    13.845375  1.364533e+10      517.111111  7.058797e+09   \n",
       "5      24    10.311245  1.013701e+10      464.319444  4.705865e+09   \n",
       "6      32     9.125438  8.935930e+09      394.770833  3.529399e+09   \n",
       "7      40     7.334539  7.126944e+09      398.772222  2.823519e+09   \n",
       "8      48     6.360824  6.156525e+09      383.648148  2.352932e+09   \n",
       "9      56     5.972567  5.785785e+09      348.607143  2.016799e+09   \n",
       "10     64     5.860682  5.674445e+09      310.918403  1.764699e+09   \n",
       "\n",
       "    taskreadtime_s  \n",
       "0       186.946578  \n",
       "1        94.480747  \n",
       "2        48.657613  \n",
       "3        25.061866  \n",
       "4        13.645331  \n",
       "5        10.137010  \n",
       "6         8.935930  \n",
       "7         7.126944  \n",
       "8         6.156525  \n",
       "9         5.785785  \n",
       "10        5.674445  "
      ]
     },
     "execution_count": 10,
     "metadata": {},
     "output_type": "execute_result"
    }
   ],
   "source": [
    "meantaskthroughput = df.groupby([\"cores\"]).mean()[[\"taskruntime\",\"taskreadtime\",\"readthroughput\",\"readpayload\"]]\n",
    "meantaskthroughput = meantaskthroughput.reset_index().sort_values(\"cores\").reset_index(drop=True)\n",
    "meantaskthroughput[\"taskreadtime_s\"] = meantaskthroughput[\"taskreadtime\"] / pow(10, 9)\n",
    "meantaskthroughput"
   ]
  },
  {
   "cell_type": "code",
   "execution_count": 11,
   "id": "0145b4c4",
   "metadata": {},
   "outputs": [
    {
     "data": {
      "text/plain": [
       "Text(0, 0.5, 'Throughput [MB/s]')"
      ]
     },
     "execution_count": 11,
     "metadata": {},
     "output_type": "execute_result"
    },
    {
     "data": {
      "image/png": "[encoded data removed]",
      "text/plain": [
       "<Figure size 720x720 with 1 Axes>"
      ]
     },
     "metadata": {
      "needs_background": "light"
     },
     "output_type": "display_data"
    }
   ],
   "source": [
    "pyplot.figure(figsize=[10,10])\n",
    "pyplot.plot(meantaskthroughput[\"cores\"], meantaskthroughput[\"readthroughput\"], marker=\"o\")\n",
    "pyplot.xlabel(\"Processes\")\n",
    "pyplot.ylabel(\"Throughput [MB/s]\")"
   ]
  },
  {
   "cell_type": "code",
   "execution_count": 12,
   "id": "30a960eb",
   "metadata": {},
   "outputs": [
    {
     "data": {
      "text/plain": [
       "Text(0, 0.5, 'Time [s]')"
      ]
     },
     "execution_count": 12,
     "metadata": {},
     "output_type": "execute_result"
    },
    {
     "data": {
      "image/png": "[encoded data removed]",
      "text/plain": [
       "<Figure size 720x720 with 1 Axes>"
      ]
     },
     "metadata": {
      "needs_background": "light"
     },
     "output_type": "display_data"
    }
   ],
   "source": [
    "pyplot.figure(figsize=[10,10])\n",
    "pyplot.plot(meantaskthroughput[\"cores\"], meantaskthroughput[\"taskreadtime_s\"], marker=\"o\")\n",
    "pyplot.xlabel(\"Processes\")\n",
    "pyplot.ylabel(\"Time [s]\")"
   ]
  },
  {
   "cell_type": "code",
   "execution_count": 13,
   "id": "c2911c4e",
   "metadata": {},
   "outputs": [
    {
     "data": {
      "text/html": [
       "<div>\n",
       "<style scoped>\n",
       "    .dataframe tbody tr th:only-of-type {\n",
       "        vertical-align: middle;\n",
       "    }\n",
       "\n",
       "    .dataframe tbody tr th {\n",
       "        vertical-align: top;\n",
       "    }\n",
       "\n",
       "    .dataframe thead th {\n",
       "        text-align: right;\n",
       "    }\n",
       "</style>\n",
       "<table border=\"1\" class=\"dataframe\">\n",
       "  <thead>\n",
       "    <tr style=\"text-align: right;\">\n",
       "      <th></th>\n",
       "      <th>cores</th>\n",
       "      <th>taskid</th>\n",
       "      <th>taskruntime</th>\n",
       "      <th>taskreadtime</th>\n",
       "      <th>readthroughput</th>\n",
       "      <th>readpayload</th>\n",
       "      <th>totalthroughput</th>\n",
       "      <th>readthroughputspeedup</th>\n",
       "    </tr>\n",
       "  </thead>\n",
       "  <tbody>\n",
       "    <tr>\n",
       "      <th>0</th>\n",
       "      <td>1</td>\n",
       "      <td>0</td>\n",
       "      <td>187.273444</td>\n",
       "      <td>1.869466e+11</td>\n",
       "      <td>603.888889</td>\n",
       "      <td>1.129408e+11</td>\n",
       "      <td>0.589735</td>\n",
       "      <td>1.000000</td>\n",
       "    </tr>\n",
       "    <tr>\n",
       "      <th>1</th>\n",
       "      <td>2</td>\n",
       "      <td>1</td>\n",
       "      <td>189.391333</td>\n",
       "      <td>1.889615e+11</td>\n",
       "      <td>1195.777778</td>\n",
       "      <td>1.129408e+11</td>\n",
       "      <td>1.167752</td>\n",
       "      <td>1.980129</td>\n",
       "    </tr>\n",
       "    <tr>\n",
       "      <th>2</th>\n",
       "      <td>4</td>\n",
       "      <td>6</td>\n",
       "      <td>195.363889</td>\n",
       "      <td>1.946305e+11</td>\n",
       "      <td>2321.222222</td>\n",
       "      <td>1.129408e+11</td>\n",
       "      <td>2.266819</td>\n",
       "      <td>3.843790</td>\n",
       "    </tr>\n",
       "    <tr>\n",
       "      <th>3</th>\n",
       "      <td>8</td>\n",
       "      <td>28</td>\n",
       "      <td>202.026778</td>\n",
       "      <td>2.004949e+11</td>\n",
       "      <td>4506.000000</td>\n",
       "      <td>1.129408e+11</td>\n",
       "      <td>4.400391</td>\n",
       "      <td>7.461638</td>\n",
       "    </tr>\n",
       "    <tr>\n",
       "      <th>4</th>\n",
       "      <td>16</td>\n",
       "      <td>120</td>\n",
       "      <td>221.526000</td>\n",
       "      <td>2.183253e+11</td>\n",
       "      <td>8273.777778</td>\n",
       "      <td>1.129408e+11</td>\n",
       "      <td>8.079861</td>\n",
       "      <td>13.700828</td>\n",
       "    </tr>\n",
       "    <tr>\n",
       "      <th>5</th>\n",
       "      <td>24</td>\n",
       "      <td>276</td>\n",
       "      <td>247.469889</td>\n",
       "      <td>2.432882e+11</td>\n",
       "      <td>11143.666667</td>\n",
       "      <td>1.129408e+11</td>\n",
       "      <td>10.882487</td>\n",
       "      <td>18.453174</td>\n",
       "    </tr>\n",
       "    <tr>\n",
       "      <th>6</th>\n",
       "      <td>32</td>\n",
       "      <td>496</td>\n",
       "      <td>292.014000</td>\n",
       "      <td>2.859498e+11</td>\n",
       "      <td>12632.666667</td>\n",
       "      <td>1.129408e+11</td>\n",
       "      <td>12.336589</td>\n",
       "      <td>20.918859</td>\n",
       "    </tr>\n",
       "    <tr>\n",
       "      <th>7</th>\n",
       "      <td>40</td>\n",
       "      <td>780</td>\n",
       "      <td>293.381556</td>\n",
       "      <td>2.850778e+11</td>\n",
       "      <td>15950.888889</td>\n",
       "      <td>1.129408e+11</td>\n",
       "      <td>15.577040</td>\n",
       "      <td>26.413615</td>\n",
       "    </tr>\n",
       "    <tr>\n",
       "      <th>8</th>\n",
       "      <td>48</td>\n",
       "      <td>1128</td>\n",
       "      <td>305.319556</td>\n",
       "      <td>2.955132e+11</td>\n",
       "      <td>18415.111111</td>\n",
       "      <td>1.129408e+11</td>\n",
       "      <td>17.983507</td>\n",
       "      <td>30.494204</td>\n",
       "    </tr>\n",
       "    <tr>\n",
       "      <th>9</th>\n",
       "      <td>56</td>\n",
       "      <td>1540</td>\n",
       "      <td>334.463778</td>\n",
       "      <td>3.240040e+11</td>\n",
       "      <td>19522.000000</td>\n",
       "      <td>1.129408e+11</td>\n",
       "      <td>19.064453</td>\n",
       "      <td>32.327139</td>\n",
       "    </tr>\n",
       "    <tr>\n",
       "      <th>10</th>\n",
       "      <td>64</td>\n",
       "      <td>2016</td>\n",
       "      <td>375.083667</td>\n",
       "      <td>3.631645e+11</td>\n",
       "      <td>19898.777778</td>\n",
       "      <td>1.129408e+11</td>\n",
       "      <td>19.432400</td>\n",
       "      <td>32.951058</td>\n",
       "    </tr>\n",
       "  </tbody>\n",
       "</table>\n",
       "</div>"
      ],
      "text/plain": [
       "    cores  taskid  taskruntime  taskreadtime  readthroughput   readpayload  \\\n",
       "0       1       0   187.273444  1.869466e+11      603.888889  1.129408e+11   \n",
       "1       2       1   189.391333  1.889615e+11     1195.777778  1.129408e+11   \n",
       "2       4       6   195.363889  1.946305e+11     2321.222222  1.129408e+11   \n",
       "3       8      28   202.026778  2.004949e+11     4506.000000  1.129408e+11   \n",
       "4      16     120   221.526000  2.183253e+11     8273.777778  1.129408e+11   \n",
       "5      24     276   247.469889  2.432882e+11    11143.666667  1.129408e+11   \n",
       "6      32     496   292.014000  2.859498e+11    12632.666667  1.129408e+11   \n",
       "7      40     780   293.381556  2.850778e+11    15950.888889  1.129408e+11   \n",
       "8      48    1128   305.319556  2.955132e+11    18415.111111  1.129408e+11   \n",
       "9      56    1540   334.463778  3.240040e+11    19522.000000  1.129408e+11   \n",
       "10     64    2016   375.083667  3.631645e+11    19898.777778  1.129408e+11   \n",
       "\n",
       "    totalthroughput  readthroughputspeedup  \n",
       "0          0.589735               1.000000  \n",
       "1          1.167752               1.980129  \n",
       "2          2.266819               3.843790  \n",
       "3          4.400391               7.461638  \n",
       "4          8.079861              13.700828  \n",
       "5         10.882487              18.453174  \n",
       "6         12.336589              20.918859  \n",
       "7         15.577040              26.413615  \n",
       "8         17.983507              30.494204  \n",
       "9         19.064453              32.327139  \n",
       "10        19.432400              32.951058  "
      ]
     },
     "execution_count": 13,
     "metadata": {},
     "output_type": "execute_result"
    }
   ],
   "source": [
    "sumthroughput = df.groupby([\"cores\",\"taskid\"]).mean()\n",
    "sumthroughput = sumthroughput.reset_index().groupby([\"cores\"]).sum()\n",
    "sumthroughput = sumthroughput.reset_index()\n",
    "sumthroughput[\"totalthroughput\"] = sumthroughput[\"readthroughput\"] / 1024\n",
    "sumthroughput[\"readthroughputspeedup\"] = sumthroughput[\"readthroughput\"] / sumthroughput[\"readthroughput\"][0]\n",
    "sumthroughput"
   ]
  },
  {
   "cell_type": "code",
   "execution_count": 14,
   "id": "228acb75",
   "metadata": {},
   "outputs": [
    {
     "data": {
      "text/plain": [
       "Text(0, 0.5, 'Throughput [GB/s]')"
      ]
     },
     "execution_count": 14,
     "metadata": {},
     "output_type": "execute_result"
    },
    {
     "data": {
      "image/png": "[encoded data removed]",
      "text/plain": [
       "<Figure size 720x720 with 1 Axes>"
      ]
     },
     "metadata": {
      "needs_background": "light"
     },
     "output_type": "display_data"
    }
   ],
   "source": [
    "pyplot.figure(figsize=[10,10])\n",
    "pyplot.plot(sumthroughput[\"cores\"], sumthroughput[\"readthroughput\"]/1000, marker=\"o\")\n",
    "pyplot.xlabel(\"Processes\")\n",
    "pyplot.xticks(sumthroughput[\"cores\"])\n",
    "pyplot.ylabel(\"Throughput [GB/s]\")"
   ]
  },
  {
   "cell_type": "code",
   "execution_count": 76,
   "id": "453eb7e8",
   "metadata": {},
   "outputs": [
    {
     "data": {
      "text/plain": [
       "Text(0, 0.5, 'Throughput increase')"
      ]
     },
     "execution_count": 76,
     "metadata": {},
     "output_type": "execute_result"
    },
    {
     "data": {
      "image/png": "[encoded data removed]",
      "text/plain": [
       "<Figure size 720x720 with 1 Axes>"
      ]
     },
     "metadata": {
      "needs_background": "light"
     },
     "output_type": "display_data"
    }
   ],
   "source": [
    "pyplot.figure(figsize=[10,10])\n",
    "pyplot.plot(sumthroughput[\"cores\"], sumthroughput[\"readthroughputspeedup\"], marker=\"o\")\n",
    "pyplot.plot(sumthroughput[\"cores\"], sumthroughput[\"cores\"], marker=\"o\")\n",
    "pyplot.xlabel(\"Processes\")\n",
    "pyplot.ylabel(\"Throughput increase\")"
   ]
  },
  {
   "cell_type": "markdown",
   "id": "d949a5c5",
   "metadata": {},
   "source": [
    "# TGraph"
   ]
  },
  {
   "cell_type": "code",
   "execution_count": 151,
   "id": "6aea7c3a",
   "metadata": {},
   "outputs": [
    {
     "name": "stderr",
     "output_type": "stream",
     "text": [
      "Warning in <TCanvas::Constructor>: Deleting canvas with same name: d\n",
      "Info in <TCanvas::Print>: png file distrdf_lhcb_singlenode_processingthroughput.png has been created\n"
     ]
    },
    {
     "data": {
      "image/png": "[encoded data removed]",
      "text/plain": [
       "<IPython.core.display.Image object>"
      ]
     },
     "metadata": {},
     "output_type": "display_data"
    }
   ],
   "source": [
    "runtimegraph = ROOT.TGraph(len(timesdf[\"cores\"]), numpy.array(timesdf[\"cores\"], dtype=float), numpy.array(timesdf[\"throughput_GB_s\"], dtype=float))\n",
    "\n",
    "width = 800\n",
    "height = 800\n",
    "d = ROOT.TCanvas(\"d\", \"\", width, height)\n",
    "\n",
    "runtimegraph.SetTitle(\"\")\n",
    "\n",
    "runtimegraph.GetXaxis().SetTitle(\"Cores\")\n",
    "runtimegraph.GetXaxis().SetTitleSize(0.025)\n",
    "runtimegraph.GetXaxis().SetTitleOffset(1.3)\n",
    "runtimegraph.GetXaxis().SetLabelSize(0)\n",
    "runtimegraph.GetXaxis().SetTickLength(0)\n",
    "\n",
    "runtimegraph.GetYaxis().SetTitle(\"Throughput [GB/s]\")\n",
    "runtimegraph.GetYaxis().SetLabelSize(0.03)\n",
    "runtimegraph.GetYaxis().SetTitleSize(0.025)\n",
    "runtimegraph.GetYaxis().SetRangeUser(0, 7)\n",
    "\n",
    "runtimegraph.SetMarkerStyle(20)\n",
    "runtimegraph.SetMarkerSize(1)\n",
    "runtimegraph.SetMarkerColor(ROOT.kOrange+1)\n",
    "\n",
    "runtimegraph.SetLineStyle(ROOT.kSolid)\n",
    "# Line color also decides error bar color somehow\n",
    "runtimegraph.SetLineColorAlpha(ROOT.kOrange+1,1)\n",
    "runtimegraph.SetLineWidth(2)\n",
    "runtimegraph.Draw(\"APL\")\n",
    "\n",
    "ymin = runtimegraph.GetHistogram().GetMinimum()\n",
    "ymax = runtimegraph.GetHistogram().GetMaximum()\n",
    "\n",
    "dy = ymax - ymin\n",
    "labels = []\n",
    "ticks = []\n",
    "\n",
    "for i in range(5):\n",
    "    x = runtimegraph.GetPointX(i)\n",
    "    t = ROOT.TLatex(x, ymin - 0.05 * dy, str(int(x)))\n",
    "    t.SetTextSize(0.03)\n",
    "    t.SetTextFont(42)\n",
    "    t.SetTextAlign(21)\n",
    "    t.Draw()\n",
    "    labels.append(t)\n",
    "    l = ROOT.TLine(x, ymin, x,ymin-0.02*dy)\n",
    "    l.Draw()\n",
    "    ticks.append(l)\n",
    "    \n",
    "d.Draw()\n",
    "d.SaveAs(\"distrdf_lhcb_singlenode_processingthroughput.png\")"
   ]
  },
  {
   "cell_type": "code",
   "execution_count": 149,
   "id": "331abec9",
   "metadata": {},
   "outputs": [
    {
     "name": "stderr",
     "output_type": "stream",
     "text": [
      "Warning in <TCanvas::Constructor>: Deleting canvas with same name: c\n",
      "Info in <TCanvas::Print>: png file distrdf_lhcb_singlenode_processingthroughputspeedup.png has been created\n"
     ]
    },
    {
     "data": {
      "image/png": "[encoded data removed]",
      "text/plain": [
       "<IPython.core.display.Image object>"
      ]
     },
     "metadata": {},
     "output_type": "display_data"
    }
   ],
   "source": [
    "speedupgraph = ROOT.TGraph(len(timesdf[\"cores\"]), numpy.array(timesdf[\"cores\"], dtype=float), numpy.array(timesdf[\"throughputspeedup\"], dtype=float))\n",
    "idealspeedupgraph = ROOT.TGraph(len(timesdf[\"cores\"]), numpy.array(timesdf[\"cores\"], dtype=float), numpy.array(timesdf[\"cores\"], dtype=float))\n",
    "\n",
    "width = 800\n",
    "height = 800\n",
    "c = ROOT.TCanvas(\"c\", \"\", width, height)\n",
    "\n",
    "idealspeedupgraph.SetTitle(\"\")\n",
    "\n",
    "idealspeedupgraph.GetXaxis().SetTitle(\"Nodes\")\n",
    "idealspeedupgraph.GetXaxis().SetTitleSize(0.025)\n",
    "idealspeedupgraph.GetXaxis().SetTitleOffset(1.4)\n",
    "idealspeedupgraph.GetXaxis().SetLabelSize(0)\n",
    "idealspeedupgraph.GetXaxis().SetTickLength(0)\n",
    "idealspeedupgraph.GetYaxis().SetTitle(\"Throughput increase\")\n",
    "\n",
    "idealspeedupgraph.GetYaxis().SetTitleSize(0.025)\n",
    "idealspeedupgraph.GetYaxis().SetTitleOffset(1.4)\n",
    "idealspeedupgraph.GetYaxis().SetRangeUser(0, 17)\n",
    "idealspeedupgraph.GetYaxis().SetLabelSize(0.03)\n",
    "\n",
    "idealspeedupgraph.SetMarkerColor(ROOT.kAzure-3)\n",
    "idealspeedupgraph.SetMarkerSize(1)\n",
    "idealspeedupgraph.SetMarkerStyle(20)\n",
    "idealspeedupgraph.SetLineStyle(ROOT.kDashed)\n",
    "idealspeedupgraph.SetLineColorAlpha(ROOT.kAzure-3,1)\n",
    "idealspeedupgraph.SetLineWidth(2)\n",
    "idealspeedupgraph.Draw(\"AL\")\n",
    "\n",
    "ymin = idealspeedupgraph.GetHistogram().GetMinimum()\n",
    "ymax = idealspeedupgraph.GetHistogram().GetMaximum()\n",
    "\n",
    "dy = ymax - ymin\n",
    "xlabels = []\n",
    "xticks = []\n",
    "#ylabels = []\n",
    "#yticks = []\n",
    "\n",
    "for i in range(len(timesdf[\"cores\"])):\n",
    "    x = idealspeedupgraph.GetPointX(i)\n",
    "    y = idealspeedupgraph.GetPointY(i)\n",
    "\n",
    "    xt = ROOT.TLatex(x, -0.9, str(int(x)))\n",
    "    xt.SetTextSize(0.03)\n",
    "    xt.SetTextFont(42)\n",
    "    xt.SetTextAlign(21)\n",
    "    xt.Draw()\n",
    "    xlabels.append(xt)\n",
    "\n",
    "    xl = ROOT.TLine(x, ymin, x,ymin-0.02*dy)\n",
    "    xl.Draw()\n",
    "    xticks.append(xl)\n",
    "\n",
    "speedupgraph.SetMarkerStyle(20)\n",
    "speedupgraph.SetMarkerSize(1)\n",
    "speedupgraph.SetMarkerColor(ROOT.kOrange+1)\n",
    "\n",
    "\n",
    "speedupgraph.SetLineColorAlpha(ROOT.kOrange+1,1)\n",
    "speedupgraph.SetLineWidth(2)\n",
    "\n",
    "speedupgraph.Draw(\"SAME PL\")\n",
    "\n",
    "legend = ROOT.TLegend(0.15,0.8,0.4,0.9)\n",
    "legend.AddEntry(speedupgraph, \"Real throughput increase\")\n",
    "legend.AddEntry(idealspeedupgraph, \"Linear increase\", \"L\")\n",
    "legend.Draw()\n",
    "\n",
    "c.Draw()\n",
    "c.SaveAs(\"distrdf_lhcb_singlenode_processingthroughputspeedup.png\")"
   ]
  },
  {
   "cell_type": "code",
   "execution_count": null,
   "id": "a338eb97",
   "metadata": {},
   "outputs": [],
   "source": []
  },
  {
   "cell_type": "code",
   "execution_count": 150,
   "id": "170e1d5a",
   "metadata": {},
   "outputs": [
    {
     "name": "stderr",
     "output_type": "stream",
     "text": [
      "Warning in <TCanvas::Constructor>: Deleting canvas with same name: d\n",
      "Info in <TCanvas::Print>: png file distrdf_lhcb_singlenode_readthroughput.png has been created\n"
     ]
    },
    {
     "data": {
      "image/png": "[encoded data removed]",
      "text/plain": [
       "<IPython.core.display.Image object>"
      ]
     },
     "metadata": {},
     "output_type": "display_data"
    }
   ],
   "source": [
    "runtimegraph = ROOT.TGraph(len(sumthroughput[\"cores\"]), numpy.array(sumthroughput[\"cores\"], dtype=float), numpy.array(sumthroughput[\"readthroughput\"]/1000, dtype=float))\n",
    "\n",
    "width = 800\n",
    "height = 800\n",
    "d = ROOT.TCanvas(\"d\", \"\", width, height)\n",
    "\n",
    "runtimegraph.SetTitle(\"\")\n",
    "\n",
    "runtimegraph.GetXaxis().SetTitle(\"Cores\")\n",
    "runtimegraph.GetXaxis().SetTitleSize(0.025)\n",
    "runtimegraph.GetXaxis().SetTitleOffset(1.3)\n",
    "runtimegraph.GetXaxis().SetLabelSize(0)\n",
    "runtimegraph.GetXaxis().SetTickLength(0)\n",
    "\n",
    "runtimegraph.GetYaxis().SetTitle(\"Throughput [GB/s]\")\n",
    "runtimegraph.GetYaxis().SetLabelSize(0.03)\n",
    "runtimegraph.GetYaxis().SetTitleSize(0.025)\n",
    "runtimegraph.GetYaxis().SetRangeUser(0, 13)\n",
    "\n",
    "runtimegraph.SetMarkerStyle(20)\n",
    "runtimegraph.SetMarkerSize(1)\n",
    "runtimegraph.SetMarkerColor(ROOT.kOrange+1)\n",
    "\n",
    "runtimegraph.SetLineStyle(ROOT.kSolid)\n",
    "# Line color also decides error bar color somehow\n",
    "runtimegraph.SetLineColorAlpha(ROOT.kOrange+1,1)\n",
    "runtimegraph.SetLineWidth(2)\n",
    "runtimegraph.Draw(\"APL\")\n",
    "\n",
    "ymin = runtimegraph.GetHistogram().GetMinimum()\n",
    "ymax = runtimegraph.GetHistogram().GetMaximum()\n",
    "\n",
    "dy = ymax - ymin\n",
    "labels = []\n",
    "ticks = []\n",
    "\n",
    "for i in range(len(sumthroughput[\"cores\"])):\n",
    "    x = runtimegraph.GetPointX(i)\n",
    "    t = ROOT.TLatex(x, ymin - 0.05 * dy, str(int(x)))\n",
    "    t.SetTextSize(0.03)\n",
    "    t.SetTextFont(42)\n",
    "    t.SetTextAlign(21)\n",
    "    t.Draw()\n",
    "    labels.append(t)\n",
    "    l = ROOT.TLine(x, ymin, x,ymin-0.02*dy)\n",
    "    l.Draw()\n",
    "    ticks.append(l)\n",
    "    \n",
    "d.Draw()\n",
    "d.SaveAs(\"distrdf_lhcb_singlenode_readthroughput.png\")"
   ]
  },
  {
   "cell_type": "code",
   "execution_count": null,
   "id": "18a24c4b",
   "metadata": {},
   "outputs": [],
   "source": []
  }
 ],
 "metadata": {
  "kernelspec": {
   "display_name": "Python 3",
   "language": "python",
   "name": "python3"
  },
  "language_info": {
   "codemirror_mode": {
    "name": "ipython",
    "version": 3
   },
   "file_extension": ".py",
   "mimetype": "text/x-python",
   "name": "python",
   "nbconvert_exporter": "python",
   "pygments_lexer": "ipython3",
   "version": "3.9.7"
  }
 },
 "nbformat": 4,
 "nbformat_minor": 5
}
