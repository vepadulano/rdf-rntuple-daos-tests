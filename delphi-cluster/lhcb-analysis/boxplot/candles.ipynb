{
 "cells": [
  {
   "cell_type": "code",
   "execution_count": 1,
   "id": "695b6a05",
   "metadata": {},
   "outputs": [
    {
     "name": "stdout",
     "output_type": "stream",
     "text": [
      "Welcome to JupyROOT 6.24/06\n"
     ]
    }
   ],
   "source": [
    "import ROOT\n",
    "import os"
   ]
  },
  {
   "cell_type": "code",
   "execution_count": 2,
   "id": "955edd46",
   "metadata": {},
   "outputs": [
    {
     "name": "stdout",
     "output_type": "stream",
     "text": [
      "['timeresults/read_fromremote_nocache.csv', 'timeresults/read_fromremote_withcache.csv']\n"
     ]
    }
   ],
   "source": [
    "timedir = \"timeresults\"\n",
    "\n",
    "# filenames = [os.path.join(timedir, filename) for filename in os.listdir(timedir)]\n",
    "filenames = [\"timeresults/read_fromremote_nocache.csv\", \"timeresults/read_fromremote_withcache.csv\"]\n",
    "#xmins = [0, 0, 0, 0]\n",
    "#xmaxs = [800, 800, 15, 15]\n",
    "print(filenames)\n",
    "        \n",
    "gtitle = \"Candle Plot Comparison\"\n",
    "xtitle = \"Configuration\"\n",
    "ytitle = \"Time [s]\"\n",
    "xmin = 0\n",
    "xmax = 500\n",
    "width = 600\n",
    "height = 600"
   ]
  },
  {
   "cell_type": "code",
   "execution_count": 3,
   "id": "36767a55",
   "metadata": {},
   "outputs": [],
   "source": [
    "comparisoncolumn = \"Time\"\n",
    "histos = [ROOT.RDF.MakeCsvDataFrame(filename)\n",
    "          .Histo2D((\"Stats\", \"Candle Plot\", 1, 0, 200, 100, xmin, xmax),\n",
    "                   \"rdfentry_\", comparisoncolumn)\n",
    "          .GetValue()\n",
    "          for filename in filenames]\n",
    "for histo in histos:\n",
    "    histo.SetStats(ROOT.kFALSE)"
   ]
  },
  {
   "cell_type": "code",
   "execution_count": 4,
   "id": "d02958c7",
   "metadata": {},
   "outputs": [
    {
     "name": "stderr",
     "output_type": "stream",
     "text": [
      "Info in <TCanvas::Print>: png file boxplot_lhcb_remotereads.png has been created\n"
     ]
    },
    {
     "data": {
      "image/png": "[encoded data removed]",
      "text/plain": [
       "<IPython.core.display.Image object>"
      ]
     },
     "metadata": {},
     "output_type": "display_data"
    }
   ],
   "source": [
    "# Graphics\n",
    "d = ROOT.TCanvas(\"d\", \"\", width, height)\n",
    "ROOT.gStyle.SetOptTitle(ROOT.kFALSE)\n",
    "ROOT.gStyle.SetPalette(ROOT.kDarkRainBow)\n",
    "\n",
    "# Create THStack\n",
    "hs = ROOT.THStack(\"hs\", \"Caching comparison\")\n",
    "titles = [\"Remote read\", \"Remote read (while caching)\"]\n",
    "for histo, title in zip(histos, titles):\n",
    "    histo.SetTitle(title)\n",
    "    hs.Add(histo)\n",
    "    \n",
    "# Draw the histograms as candles.\n",
    "# String option for drawing: \"CANDLE(zhpawMmb)\"\n",
    "# p = 1 outliers\n",
    "# a = 1 anchors\n",
    "# w = 2 whiskers 1.5*iqr\n",
    "# m = 3 median as circle\n",
    "hs.Draw(\"CANDLE(00011111) PLC\")\n",
    "hs.GetXaxis().SetLabelSize(0)\n",
    "hs.GetXaxis().SetTickLength(0)\n",
    "hs.GetYaxis().SetTitle(\"Time [s]\")\n",
    "d.BuildLegend(0.5, 0.8, 0.9, 0.9)\n",
    "\n",
    "d.Modified()\n",
    "d.Draw()\n",
    "d.SaveAs(\"boxplot_lhcb_remotereads.png\")"
   ]
  },
  {
   "cell_type": "code",
   "execution_count": 5,
   "id": "a998db22",
   "metadata": {},
   "outputs": [
    {
     "name": "stdout",
     "output_type": "stream",
     "text": [
      "['timeresults/read_fromlocal_nocache.csv', 'timeresults/read_fromlocal_withcache.csv']\n"
     ]
    }
   ],
   "source": [
    "timedir = \"timeresults\"\n",
    "\n",
    "# filenames = [os.path.join(timedir, filename) for filename in os.listdir(timedir)]\n",
    "filenames = [\"timeresults/read_fromlocal_nocache.csv\", \"timeresults/read_fromlocal_withcache.csv\"]\n",
    "#xmins = [0, 0, 0, 0]\n",
    "#xmaxs = [800, 800, 15, 15]\n",
    "print(filenames)\n",
    "        \n",
    "gtitle = \"Candle Plot Comparison\"\n",
    "xtitle = \"Configuration\"\n",
    "ytitle = \"Time [s]\"\n",
    "xmin = 0\n",
    "xmax = 6\n",
    "width = 600\n",
    "height = 600"
   ]
  },
  {
   "cell_type": "code",
   "execution_count": 6,
   "id": "9018fa37",
   "metadata": {},
   "outputs": [
    {
     "name": "stdout",
     "output_type": "stream",
     "text": [
      "Name: Stats Title: Candle Plot NbinsX: 1\n",
      "Name: Stats Title: Candle Plot NbinsX: 1\n"
     ]
    }
   ],
   "source": [
    "comparisoncolumn = \"AppTime\"\n",
    "nbinsy = 200\n",
    "nbinsx = 1\n",
    "ymin = 1\n",
    "ymax = 100\n",
    "histos = [ROOT.RDF.MakeCsvDataFrame(filename)\n",
    "          .Histo2D((\"Stats\", \"Candle Plot\", nbinsx, ymin, ymax, nbinsy, xmin, xmax),\n",
    "                   \"rdfentry_\", comparisoncolumn)\n",
    "          .GetValue()\n",
    "          for filename in filenames]\n",
    "for histo in histos:\n",
    "    print(histo)\n",
    "    histo.SetStats(ROOT.kFALSE)"
   ]
  },
  {
   "cell_type": "code",
   "execution_count": 15,
   "id": "3291c3a8",
   "metadata": {},
   "outputs": [
    {
     "name": "stderr",
     "output_type": "stream",
     "text": [
      "Warning in <TCanvas::Constructor>: Deleting canvas with same name: d\n",
      "Info in <TCanvas::Print>: png file boxplot_lhcb_localreads.png has been created\n"
     ]
    },
    {
     "data": {
      "image/png": "[encoded data removed]",
      "text/plain": [
       "<IPython.core.display.Image object>"
      ]
     },
     "metadata": {},
     "output_type": "display_data"
    }
   ],
   "source": [
    "# Graphics\n",
    "d = ROOT.TCanvas(\"d\", \"\", width, height)\n",
    "ROOT.gStyle.SetOptTitle(ROOT.kFALSE)\n",
    "ROOT.gStyle.SetPalette(ROOT.kDarkRainBow)\n",
    "\n",
    "# Create THStack\n",
    "hs = ROOT.THStack(\"hs\", \"Caching comparison\")\n",
    "titles = [\"Local read (SSD)\", \"Local read (SSD) - while caching\"]\n",
    "for histo, title in zip(histos, titles):\n",
    "#    histo.SetLineWidth(3)\n",
    "#    histo.SetMarkerStyle(ROOT.kFullDotLarge)\n",
    "#    histo.SetMarkerColor(ROOT.kWhite)\n",
    "#    histo.SetMarkerSize(1.5)\n",
    "#    histo.SetFillColor(ROOT.kBlack)\n",
    "    histo.SetTitle(title)\n",
    "    hs.Add(histo)\n",
    "    \n",
    "# Draw the histograms as candles.\n",
    "# String option for drawing: \"CANDLE(zhpawMmb)\"\n",
    "# p = 1 outliers\n",
    "# a = 1 anchors\n",
    "# w = 2 whiskers 1.5*iqr\n",
    "# m = 3 median as circle\n",
    "hs.Draw(\"CANDLE(00011111) PLC\")\n",
    "hs.GetXaxis().SetLabelSize(0)\n",
    "hs.GetXaxis().SetTickLength(0)\n",
    "hs.GetYaxis().SetTitle(\"Time [s]\")\n",
    "hs.GetYaxis().SetTitleSize(0.04)\n",
    "hs.GetYaxis().SetTitleOffset(1.3)\n",
    "d.BuildLegend(0.5, 0.1, 0.9, 0.2)\n",
    "\n",
    "d.Draw()\n",
    "d.SaveAs(\"boxplot_lhcb_localreads.png\")"
   ]
  },
  {
   "cell_type": "code",
   "execution_count": 8,
   "id": "df02f36b",
   "metadata": {},
   "outputs": [
    {
     "name": "stdout",
     "output_type": "stream",
     "text": [
      "['timeresults/read_fromlocal_nocache.csv', 'timeresults/read_fromdaos_nocache.csv']\n"
     ]
    }
   ],
   "source": [
    "timedir = \"timeresults\"\n",
    "\n",
    "# filenames = [os.path.join(timedir, filename) for filename in os.listdir(timedir)]\n",
    "filenames = [\"timeresults/read_fromlocal_nocache.csv\", \"timeresults/read_fromdaos_nocache.csv\"]\n",
    "#xmins = [0, 0, 0, 0]\n",
    "#xmaxs = [800, 800, 15, 15]\n",
    "print(filenames)\n",
    "        \n",
    "gtitle = \"Candle Plot Comparison\"\n",
    "xtitle = \"Configuration\"\n",
    "ytitle = \"Time [s]\"\n",
    "xmin = 0\n",
    "xmax = 4000\n",
    "width = 600\n",
    "height = 600"
   ]
  },
  {
   "cell_type": "code",
   "execution_count": 9,
   "id": "6340aaac",
   "metadata": {},
   "outputs": [
    {
     "name": "stdout",
     "output_type": "stream",
     "text": [
      "Name: Stats Title: Candle Plot NbinsX: 1\n",
      "Name: Stats Title: Candle Plot NbinsX: 1\n"
     ]
    }
   ],
   "source": [
    "comparisoncolumn = \"WallTime\"\n",
    "nbinsy = 200\n",
    "nbinsx = 1\n",
    "ymin = 1\n",
    "ymax = 100\n",
    "histos = [ROOT.RDF.MakeCsvDataFrame(filename)\n",
    "          .Histo2D((\"Stats\", \"Candle Plot\", nbinsx, ymin, ymax, nbinsy, xmin, xmax),\n",
    "                   \"rdfentry_\", comparisoncolumn)\n",
    "          .GetValue()\n",
    "          for filename in filenames]\n",
    "for histo in histos:\n",
    "    print(histo)\n",
    "    histo.SetStats(ROOT.kFALSE)"
   ]
  },
  {
   "cell_type": "code",
   "execution_count": 10,
   "id": "925550e9",
   "metadata": {},
   "outputs": [
    {
     "name": "stderr",
     "output_type": "stream",
     "text": [
      "Warning in <TCanvas::Constructor>: Deleting canvas with same name: d\n",
      "Info in <TCanvas::Print>: png file boxplot_lhcb_localvsdaos.png has been created\n"
     ]
    },
    {
     "data": {
      "image/png": "[encoded data removed]",
      "text/plain": [
       "<IPython.core.display.Image object>"
      ]
     },
     "metadata": {},
     "output_type": "display_data"
    }
   ],
   "source": [
    "# Graphics\n",
    "d = ROOT.TCanvas(\"d\", \"\", width+100, height)\n",
    "ROOT.gStyle.SetOptTitle(ROOT.kFALSE)\n",
    "ROOT.gStyle.SetPalette(ROOT.kDarkRainBow)\n",
    "\n",
    "# Create THStack\n",
    "hs = ROOT.THStack(\"hs\", \"Caching comparison\")\n",
    "titles = [\"Local read (SSD)\", \"DAOS read\"]\n",
    "for histo, title in zip(histos, titles):\n",
    "#    histo.SetLineWidth(3)\n",
    "#    histo.SetMarkerStyle(ROOT.kFullDotLarge)\n",
    "#    histo.SetMarkerColor(ROOT.kWhite)\n",
    "#    histo.SetMarkerSize(1.5)\n",
    "#    histo.SetFillColor(ROOT.kBlack)\n",
    "    histo.SetTitle(title)\n",
    "    hs.Add(histo)\n",
    "    \n",
    "# Draw the histograms as candles.\n",
    "# String option for drawing: \"CANDLE(zhpawMmb)\"\n",
    "# p = 1 outliers\n",
    "# a = 1 anchors\n",
    "# w = 2 whiskers 1.5*iqr\n",
    "# m = 3 median as circle\n",
    "hs.Draw(\"CANDLE(00011111) PLC\")\n",
    "hs.GetXaxis().SetLabelSize(0)\n",
    "hs.GetXaxis().SetTickLength(0)\n",
    "hs.GetYaxis().SetTitle(\"Time [ms]\")\n",
    "hs.GetYaxis().SetTitleSize(0.04)\n",
    "hs.GetYaxis().SetTitleOffset(1.35)\n",
    "d.BuildLegend(0.5, 0.8, 0.9, 0.9)\n",
    "\n",
    "d.Draw()\n",
    "d.SaveAs(\"boxplot_lhcb_localvsdaos.png\")"
   ]
  },
  {
   "cell_type": "code",
   "execution_count": null,
   "id": "0e46da5b",
   "metadata": {},
   "outputs": [],
   "source": []
  },
  {
   "cell_type": "code",
   "execution_count": null,
   "id": "7866a108",
   "metadata": {},
   "outputs": [],
   "source": []
  }
 ],
 "metadata": {
  "kernelspec": {
   "display_name": "Python 3",
   "language": "python",
   "name": "python3"
  },
  "language_info": {
   "codemirror_mode": {
    "name": "ipython",
    "version": 3
   },
   "file_extension": ".py",
   "mimetype": "text/x-python",
   "name": "python",
   "nbconvert_exporter": "python",
   "pygments_lexer": "ipython3",
   "version": "3.9.7"
  }
 },
 "nbformat": 4,
 "nbformat_minor": 5
}
