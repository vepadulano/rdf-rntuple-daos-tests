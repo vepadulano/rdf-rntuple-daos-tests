{
 "cells": [
  {
   "cell_type": "code",
   "execution_count": 22,
   "id": "92fb29dc",
   "metadata": {},
   "outputs": [],
   "source": [
    "import pandas\n",
    "import numpy\n",
    "from matplotlib import pyplot\n",
    "import os\n",
    "import ROOT"
   ]
  },
  {
   "cell_type": "code",
   "execution_count": 23,
   "id": "c99aad09",
   "metadata": {
    "scrolled": false
   },
   "outputs": [
    {
     "data": {
      "text/html": [
       "<div>\n",
       "<style scoped>\n",
       "    .dataframe tbody tr th:only-of-type {\n",
       "        vertical-align: middle;\n",
       "    }\n",
       "\n",
       "    .dataframe tbody tr th {\n",
       "        vertical-align: top;\n",
       "    }\n",
       "\n",
       "    .dataframe thead th {\n",
       "        text-align: right;\n",
       "    }\n",
       "</style>\n",
       "<table border=\"1\" class=\"dataframe\">\n",
       "  <thead>\n",
       "    <tr style=\"text-align: right;\">\n",
       "      <th></th>\n",
       "      <th>taskruntime</th>\n",
       "      <th>taskreadtime</th>\n",
       "      <th>readthroughput</th>\n",
       "      <th>readpayload</th>\n",
       "      <th>taskid</th>\n",
       "      <th>nodes</th>\n",
       "      <th>chunks</th>\n",
       "    </tr>\n",
       "  </thead>\n",
       "  <tbody>\n",
       "    <tr>\n",
       "      <th>0</th>\n",
       "      <td>26.208</td>\n",
       "      <td>6525388296</td>\n",
       "      <td>2163</td>\n",
       "      <td>14117594700</td>\n",
       "      <td>4</td>\n",
       "      <td>1</td>\n",
       "      <td>8</td>\n",
       "    </tr>\n",
       "    <tr>\n",
       "      <th>1</th>\n",
       "      <td>24.636</td>\n",
       "      <td>8257431530</td>\n",
       "      <td>1709</td>\n",
       "      <td>14117594700</td>\n",
       "      <td>4</td>\n",
       "      <td>1</td>\n",
       "      <td>8</td>\n",
       "    </tr>\n",
       "    <tr>\n",
       "      <th>2</th>\n",
       "      <td>25.874</td>\n",
       "      <td>8291180109</td>\n",
       "      <td>1702</td>\n",
       "      <td>14117594700</td>\n",
       "      <td>4</td>\n",
       "      <td>1</td>\n",
       "      <td>8</td>\n",
       "    </tr>\n",
       "    <tr>\n",
       "      <th>3</th>\n",
       "      <td>24.347</td>\n",
       "      <td>8726767389</td>\n",
       "      <td>1617</td>\n",
       "      <td>14117594700</td>\n",
       "      <td>4</td>\n",
       "      <td>1</td>\n",
       "      <td>8</td>\n",
       "    </tr>\n",
       "    <tr>\n",
       "      <th>4</th>\n",
       "      <td>25.613</td>\n",
       "      <td>6848909934</td>\n",
       "      <td>2061</td>\n",
       "      <td>14117594700</td>\n",
       "      <td>4</td>\n",
       "      <td>1</td>\n",
       "      <td>8</td>\n",
       "    </tr>\n",
       "    <tr>\n",
       "      <th>...</th>\n",
       "      <td>...</td>\n",
       "      <td>...</td>\n",
       "      <td>...</td>\n",
       "      <td>...</td>\n",
       "      <td>...</td>\n",
       "      <td>...</td>\n",
       "      <td>...</td>\n",
       "    </tr>\n",
       "    <tr>\n",
       "      <th>1507</th>\n",
       "      <td>5.863</td>\n",
       "      <td>5292594439</td>\n",
       "      <td>444</td>\n",
       "      <td>2352932472</td>\n",
       "      <td>7</td>\n",
       "      <td>6</td>\n",
       "      <td>48</td>\n",
       "    </tr>\n",
       "    <tr>\n",
       "      <th>1508</th>\n",
       "      <td>5.868</td>\n",
       "      <td>5257568882</td>\n",
       "      <td>447</td>\n",
       "      <td>2352932472</td>\n",
       "      <td>7</td>\n",
       "      <td>6</td>\n",
       "      <td>48</td>\n",
       "    </tr>\n",
       "    <tr>\n",
       "      <th>1509</th>\n",
       "      <td>5.907</td>\n",
       "      <td>5044214402</td>\n",
       "      <td>466</td>\n",
       "      <td>2352932472</td>\n",
       "      <td>7</td>\n",
       "      <td>6</td>\n",
       "      <td>48</td>\n",
       "    </tr>\n",
       "    <tr>\n",
       "      <th>1510</th>\n",
       "      <td>5.904</td>\n",
       "      <td>5400764270</td>\n",
       "      <td>435</td>\n",
       "      <td>2352932472</td>\n",
       "      <td>17</td>\n",
       "      <td>6</td>\n",
       "      <td>48</td>\n",
       "    </tr>\n",
       "    <tr>\n",
       "      <th>1511</th>\n",
       "      <td>5.812</td>\n",
       "      <td>5187943885</td>\n",
       "      <td>453</td>\n",
       "      <td>2352932340</td>\n",
       "      <td>44</td>\n",
       "      <td>6</td>\n",
       "      <td>48</td>\n",
       "    </tr>\n",
       "  </tbody>\n",
       "</table>\n",
       "<p>1512 rows × 7 columns</p>\n",
       "</div>"
      ],
      "text/plain": [
       "      taskruntime  taskreadtime  readthroughput  readpayload  taskid  nodes  \\\n",
       "0          26.208    6525388296            2163  14117594700       4      1   \n",
       "1          24.636    8257431530            1709  14117594700       4      1   \n",
       "2          25.874    8291180109            1702  14117594700       4      1   \n",
       "3          24.347    8726767389            1617  14117594700       4      1   \n",
       "4          25.613    6848909934            2061  14117594700       4      1   \n",
       "...           ...           ...             ...          ...     ...    ...   \n",
       "1507        5.863    5292594439             444   2352932472       7      6   \n",
       "1508        5.868    5257568882             447   2352932472       7      6   \n",
       "1509        5.907    5044214402             466   2352932472       7      6   \n",
       "1510        5.904    5400764270             435   2352932472      17      6   \n",
       "1511        5.812    5187943885             453   2352932340      44      6   \n",
       "\n",
       "      chunks  \n",
       "0          8  \n",
       "1          8  \n",
       "2          8  \n",
       "3          8  \n",
       "4          8  \n",
       "...      ...  \n",
       "1507      48  \n",
       "1508      48  \n",
       "1509      48  \n",
       "1510      48  \n",
       "1511      48  \n",
       "\n",
       "[1512 rows x 7 columns]"
      ]
     },
     "execution_count": 23,
     "metadata": {},
     "output_type": "execute_result"
    }
   ],
   "source": [
    "times = {\"taskid\":[],\"mean\":[],\"meanerr\":[],\"throughput_MB_s\":[]}\n",
    "maindir = \"20211108-100x-reuseevq-pyopt-8corespernode-100gbit\"\n",
    "timedirs = [timedir for timedir in os.listdir(maindir) if timedir.startswith(\"timeresults\")]\n",
    "\n",
    "dfs = []\n",
    "for timedir in timedirs:\n",
    "    nodes = timedir.split(\"_\")[3].replace(\"nodes\",\"\")\n",
    "    chunks = timedir.split(\"_\")[2].replace(\"chunks\",\"\")\n",
    "    for f in os.listdir(os.path.join(maindir, timedir)):\n",
    "        df = pandas.read_csv(os.path.join(maindir, timedir, f), header=None, names=[\"taskruntime\",\"taskreadtime\",\"readthroughput\",\"readpayload\"], skiprows=1)\n",
    "        taskid = f.split(\"_\")[1].replace(\"task\",\"\")\n",
    "        df[\"taskid\"] = int(taskid)\n",
    "        df[\"nodes\"] = int(nodes)\n",
    "        df[\"chunks\"] = int(chunks)\n",
    "        dfs.append(df)\n",
    "\n",
    "df = pandas.concat(dfs).sort_values(by=\"nodes\").reset_index(drop=True)\n",
    "df"
   ]
  },
  {
   "cell_type": "code",
   "execution_count": 24,
   "id": "ce0a81a0",
   "metadata": {},
   "outputs": [
    {
     "data": {
      "text/html": [
       "<div>\n",
       "<style scoped>\n",
       "    .dataframe tbody tr th:only-of-type {\n",
       "        vertical-align: middle;\n",
       "    }\n",
       "\n",
       "    .dataframe tbody tr th {\n",
       "        vertical-align: top;\n",
       "    }\n",
       "\n",
       "    .dataframe thead th {\n",
       "        text-align: right;\n",
       "    }\n",
       "</style>\n",
       "<table border=\"1\" class=\"dataframe\">\n",
       "  <thead>\n",
       "    <tr style=\"text-align: right;\">\n",
       "      <th></th>\n",
       "      <th>chunks</th>\n",
       "      <th>taskruntime</th>\n",
       "      <th>taskreadtime</th>\n",
       "      <th>readthroughput</th>\n",
       "      <th>readpayload</th>\n",
       "      <th>taskid</th>\n",
       "      <th>nodes</th>\n",
       "    </tr>\n",
       "  </thead>\n",
       "  <tbody>\n",
       "    <tr>\n",
       "      <th>0</th>\n",
       "      <td>8</td>\n",
       "      <td>26.040111</td>\n",
       "      <td>8.520682e+09</td>\n",
       "      <td>1708.805556</td>\n",
       "      <td>1.411759e+10</td>\n",
       "      <td>3.5</td>\n",
       "      <td>1.0</td>\n",
       "    </tr>\n",
       "    <tr>\n",
       "      <th>1</th>\n",
       "      <td>16</td>\n",
       "      <td>13.093826</td>\n",
       "      <td>6.867615e+09</td>\n",
       "      <td>1049.743056</td>\n",
       "      <td>7.058797e+09</td>\n",
       "      <td>7.5</td>\n",
       "      <td>2.0</td>\n",
       "    </tr>\n",
       "    <tr>\n",
       "      <th>2</th>\n",
       "      <td>24</td>\n",
       "      <td>9.177435</td>\n",
       "      <td>6.852074e+09</td>\n",
       "      <td>696.060185</td>\n",
       "      <td>4.705865e+09</td>\n",
       "      <td>11.5</td>\n",
       "      <td>3.0</td>\n",
       "    </tr>\n",
       "    <tr>\n",
       "      <th>3</th>\n",
       "      <td>32</td>\n",
       "      <td>7.221069</td>\n",
       "      <td>6.009454e+09</td>\n",
       "      <td>590.062500</td>\n",
       "      <td>3.529399e+09</td>\n",
       "      <td>15.5</td>\n",
       "      <td>4.0</td>\n",
       "    </tr>\n",
       "    <tr>\n",
       "      <th>4</th>\n",
       "      <td>40</td>\n",
       "      <td>5.975981</td>\n",
       "      <td>5.074893e+09</td>\n",
       "      <td>558.188889</td>\n",
       "      <td>2.823519e+09</td>\n",
       "      <td>19.5</td>\n",
       "      <td>5.0</td>\n",
       "    </tr>\n",
       "    <tr>\n",
       "      <th>5</th>\n",
       "      <td>48</td>\n",
       "      <td>5.811630</td>\n",
       "      <td>5.162829e+09</td>\n",
       "      <td>455.675926</td>\n",
       "      <td>2.352932e+09</td>\n",
       "      <td>23.5</td>\n",
       "      <td>6.0</td>\n",
       "    </tr>\n",
       "  </tbody>\n",
       "</table>\n",
       "</div>"
      ],
      "text/plain": [
       "   chunks  taskruntime  taskreadtime  readthroughput   readpayload  taskid  \\\n",
       "0       8    26.040111  8.520682e+09     1708.805556  1.411759e+10     3.5   \n",
       "1      16    13.093826  6.867615e+09     1049.743056  7.058797e+09     7.5   \n",
       "2      24     9.177435  6.852074e+09      696.060185  4.705865e+09    11.5   \n",
       "3      32     7.221069  6.009454e+09      590.062500  3.529399e+09    15.5   \n",
       "4      40     5.975981  5.074893e+09      558.188889  2.823519e+09    19.5   \n",
       "5      48     5.811630  5.162829e+09      455.675926  2.352932e+09    23.5   \n",
       "\n",
       "   nodes  \n",
       "0    1.0  \n",
       "1    2.0  \n",
       "2    3.0  \n",
       "3    4.0  \n",
       "4    5.0  \n",
       "5    6.0  "
      ]
     },
     "execution_count": 24,
     "metadata": {},
     "output_type": "execute_result"
    }
   ],
   "source": [
    "meantaskthroughput = df.groupby([\"chunks\"]).mean()\n",
    "meantaskthroughput = meantaskthroughput.reset_index().sort_values(\"chunks\").reset_index(drop=True)\n",
    "meantaskthroughput\n"
   ]
  },
  {
   "cell_type": "code",
   "execution_count": 25,
   "id": "618db2b9",
   "metadata": {},
   "outputs": [
    {
     "data": {
      "text/plain": [
       "<matplotlib.legend.Legend at 0x7f77f3b3cdc0>"
      ]
     },
     "execution_count": 25,
     "metadata": {},
     "output_type": "execute_result"
    },
    {
     "data": {
      "image/png": "[encoded data removed]",
      "text/plain": [
       "<Figure size 720x720 with 1 Axes>"
      ]
     },
     "metadata": {
      "needs_background": "light"
     },
     "output_type": "display_data"
    }
   ],
   "source": [
    "pyplot.figure(figsize=[10,10])\n",
    "pyplot.plot(meantaskthroughput[\"chunks\"], meantaskthroughput[\"readthroughput\"], label=\"mean task throughput\", marker=\"o\")\n",
    "pyplot.xlabel(\"Processes\")\n",
    "pyplot.ylabel(\"Throughput [MB/s]\")\n",
    "pyplot.legend()"
   ]
  },
  {
   "cell_type": "code",
   "execution_count": 26,
   "id": "61705f97",
   "metadata": {},
   "outputs": [
    {
     "data": {
      "text/html": [
       "<div>\n",
       "<style scoped>\n",
       "    .dataframe tbody tr th:only-of-type {\n",
       "        vertical-align: middle;\n",
       "    }\n",
       "\n",
       "    .dataframe tbody tr th {\n",
       "        vertical-align: top;\n",
       "    }\n",
       "\n",
       "    .dataframe thead th {\n",
       "        text-align: right;\n",
       "    }\n",
       "</style>\n",
       "<table border=\"1\" class=\"dataframe\">\n",
       "  <thead>\n",
       "    <tr style=\"text-align: right;\">\n",
       "      <th></th>\n",
       "      <th>chunks</th>\n",
       "      <th>nodes</th>\n",
       "      <th>taskid</th>\n",
       "      <th>taskruntime</th>\n",
       "      <th>taskreadtime</th>\n",
       "      <th>readthroughput</th>\n",
       "      <th>readpayload</th>\n",
       "      <th>totalthroughput</th>\n",
       "    </tr>\n",
       "  </thead>\n",
       "  <tbody>\n",
       "    <tr>\n",
       "      <th>0</th>\n",
       "      <td>8</td>\n",
       "      <td>1</td>\n",
       "      <td>28</td>\n",
       "      <td>208.320889</td>\n",
       "      <td>6.816546e+10</td>\n",
       "      <td>13670.444444</td>\n",
       "      <td>1.129408e+11</td>\n",
       "      <td>13.350043</td>\n",
       "    </tr>\n",
       "    <tr>\n",
       "      <th>1</th>\n",
       "      <td>16</td>\n",
       "      <td>2</td>\n",
       "      <td>120</td>\n",
       "      <td>209.501222</td>\n",
       "      <td>1.098818e+11</td>\n",
       "      <td>16795.888889</td>\n",
       "      <td>1.129408e+11</td>\n",
       "      <td>16.402235</td>\n",
       "    </tr>\n",
       "    <tr>\n",
       "      <th>2</th>\n",
       "      <td>24</td>\n",
       "      <td>3</td>\n",
       "      <td>276</td>\n",
       "      <td>220.258444</td>\n",
       "      <td>1.644498e+11</td>\n",
       "      <td>16705.444444</td>\n",
       "      <td>1.129408e+11</td>\n",
       "      <td>16.313911</td>\n",
       "    </tr>\n",
       "    <tr>\n",
       "      <th>3</th>\n",
       "      <td>32</td>\n",
       "      <td>4</td>\n",
       "      <td>496</td>\n",
       "      <td>231.074222</td>\n",
       "      <td>1.923025e+11</td>\n",
       "      <td>18882.000000</td>\n",
       "      <td>1.129408e+11</td>\n",
       "      <td>18.439453</td>\n",
       "    </tr>\n",
       "    <tr>\n",
       "      <th>4</th>\n",
       "      <td>40</td>\n",
       "      <td>5</td>\n",
       "      <td>780</td>\n",
       "      <td>239.039222</td>\n",
       "      <td>2.029957e+11</td>\n",
       "      <td>22327.555556</td>\n",
       "      <td>1.129408e+11</td>\n",
       "      <td>21.804253</td>\n",
       "    </tr>\n",
       "    <tr>\n",
       "      <th>5</th>\n",
       "      <td>48</td>\n",
       "      <td>6</td>\n",
       "      <td>1128</td>\n",
       "      <td>278.958222</td>\n",
       "      <td>2.478158e+11</td>\n",
       "      <td>21872.444444</td>\n",
       "      <td>1.129408e+11</td>\n",
       "      <td>21.359809</td>\n",
       "    </tr>\n",
       "  </tbody>\n",
       "</table>\n",
       "</div>"
      ],
      "text/plain": [
       "   chunks  nodes  taskid  taskruntime  taskreadtime  readthroughput  \\\n",
       "0       8      1      28   208.320889  6.816546e+10    13670.444444   \n",
       "1      16      2     120   209.501222  1.098818e+11    16795.888889   \n",
       "2      24      3     276   220.258444  1.644498e+11    16705.444444   \n",
       "3      32      4     496   231.074222  1.923025e+11    18882.000000   \n",
       "4      40      5     780   239.039222  2.029957e+11    22327.555556   \n",
       "5      48      6    1128   278.958222  2.478158e+11    21872.444444   \n",
       "\n",
       "    readpayload  totalthroughput  \n",
       "0  1.129408e+11        13.350043  \n",
       "1  1.129408e+11        16.402235  \n",
       "2  1.129408e+11        16.313911  \n",
       "3  1.129408e+11        18.439453  \n",
       "4  1.129408e+11        21.804253  \n",
       "5  1.129408e+11        21.359809  "
      ]
     },
     "execution_count": 26,
     "metadata": {},
     "output_type": "execute_result"
    }
   ],
   "source": [
    "sumthroughput = df.groupby([\"chunks\",\"nodes\",\"taskid\"]).mean()\n",
    "sumthroughput = sumthroughput.reset_index().groupby([\"chunks\",\"nodes\"]).sum()\n",
    "sumthroughput = sumthroughput.reset_index()\n",
    "sumthroughput[\"totalthroughput\"] = sumthroughput[\"readthroughput\"] / 1024\n",
    "sumthroughput"
   ]
  },
  {
   "cell_type": "code",
   "execution_count": 32,
   "id": "55d43d63",
   "metadata": {},
   "outputs": [
    {
     "data": {
      "text/plain": [
       "<matplotlib.legend.Legend at 0x7f77f3848d30>"
      ]
     },
     "execution_count": 32,
     "metadata": {},
     "output_type": "execute_result"
    },
    {
     "data": {
      "image/png": "[encoded data removed]",
      "text/plain": [
       "<Figure size 720x720 with 1 Axes>"
      ]
     },
     "metadata": {
      "needs_background": "light"
     },
     "output_type": "display_data"
    }
   ],
   "source": [
    "pyplot.figure(figsize=[10,10])\n",
    "pyplot.plot(sumthroughput[\"nodes\"], sumthroughput[\"totalthroughput\"], label=\"sum of all tasks throughput\", marker=\"o\")\n",
    "pyplot.xlabel(\"nodes\")\n",
    "pyplot.ylabel(\"Raw IO Throughput [GB/s]\")\n",
    "pyplot.legend()"
   ]
  },
  {
   "cell_type": "markdown",
   "id": "5b0e03fb",
   "metadata": {},
   "source": [
    "# Python timer"
   ]
  },
  {
   "cell_type": "code",
   "execution_count": 28,
   "id": "145ad6a9",
   "metadata": {},
   "outputs": [
    {
     "data": {
      "text/html": [
       "<div>\n",
       "<style scoped>\n",
       "    .dataframe tbody tr th:only-of-type {\n",
       "        vertical-align: middle;\n",
       "    }\n",
       "\n",
       "    .dataframe tbody tr th {\n",
       "        vertical-align: top;\n",
       "    }\n",
       "\n",
       "    .dataframe thead th {\n",
       "        text-align: right;\n",
       "    }\n",
       "</style>\n",
       "<table border=\"1\" class=\"dataframe\">\n",
       "  <thead>\n",
       "    <tr style=\"text-align: right;\">\n",
       "      <th></th>\n",
       "      <th>nodes</th>\n",
       "      <th>meanruntime</th>\n",
       "      <th>err</th>\n",
       "      <th>throughput_MB_s</th>\n",
       "      <th>runtimespeedup</th>\n",
       "      <th>throughputspeedup</th>\n",
       "    </tr>\n",
       "  </thead>\n",
       "  <tbody>\n",
       "    <tr>\n",
       "      <th>0</th>\n",
       "      <td>1</td>\n",
       "      <td>28.81</td>\n",
       "      <td>0.39</td>\n",
       "      <td>4142</td>\n",
       "      <td>1.000000</td>\n",
       "      <td>1.000000</td>\n",
       "    </tr>\n",
       "    <tr>\n",
       "      <th>1</th>\n",
       "      <td>2</td>\n",
       "      <td>14.65</td>\n",
       "      <td>0.19</td>\n",
       "      <td>8142</td>\n",
       "      <td>1.966553</td>\n",
       "      <td>1.965717</td>\n",
       "    </tr>\n",
       "    <tr>\n",
       "      <th>2</th>\n",
       "      <td>3</td>\n",
       "      <td>10.20</td>\n",
       "      <td>0.14</td>\n",
       "      <td>11700</td>\n",
       "      <td>2.824510</td>\n",
       "      <td>2.824722</td>\n",
       "    </tr>\n",
       "    <tr>\n",
       "      <th>3</th>\n",
       "      <td>4</td>\n",
       "      <td>8.10</td>\n",
       "      <td>0.10</td>\n",
       "      <td>14724</td>\n",
       "      <td>3.556790</td>\n",
       "      <td>3.554804</td>\n",
       "    </tr>\n",
       "    <tr>\n",
       "      <th>4</th>\n",
       "      <td>5</td>\n",
       "      <td>6.62</td>\n",
       "      <td>0.06</td>\n",
       "      <td>18020</td>\n",
       "      <td>4.351964</td>\n",
       "      <td>4.350555</td>\n",
       "    </tr>\n",
       "    <tr>\n",
       "      <th>5</th>\n",
       "      <td>6</td>\n",
       "      <td>6.33</td>\n",
       "      <td>0.03</td>\n",
       "      <td>18856</td>\n",
       "      <td>4.551343</td>\n",
       "      <td>4.552390</td>\n",
       "    </tr>\n",
       "  </tbody>\n",
       "</table>\n",
       "</div>"
      ],
      "text/plain": [
       "   nodes  meanruntime   err  throughput_MB_s  runtimespeedup  \\\n",
       "0      1        28.81  0.39             4142        1.000000   \n",
       "1      2        14.65  0.19             8142        1.966553   \n",
       "2      3        10.20  0.14            11700        2.824510   \n",
       "3      4         8.10  0.10            14724        3.556790   \n",
       "4      5         6.62  0.06            18020        4.351964   \n",
       "5      6         6.33  0.03            18856        4.551343   \n",
       "\n",
       "   throughputspeedup  \n",
       "0           1.000000  \n",
       "1           1.965717  \n",
       "2           2.824722  \n",
       "3           3.554804  \n",
       "4           4.350555  \n",
       "5           4.552390  "
      ]
     },
     "execution_count": 28,
     "metadata": {},
     "output_type": "execute_result"
    }
   ],
   "source": [
    "times = {\"nodes\":[],\"meanruntime\":[], \"err\":[], \"throughput_MB_s\":[]}\n",
    "timedir = \"20211108-100x-reuseevq-pyopt-8corespernode-100gbit/appruntimes\"\n",
    "datasetsize = 157400503680\n",
    "readpercent = 0.7949011466389114\n",
    "readsize = readpercent * datasetsize\n",
    "\n",
    "for f in os.listdir(timedir):\n",
    "    array = numpy.genfromtxt(os.path.join(timedir, f), skip_header=2)\n",
    "    nodes = f.split(\"_\")[5].replace(\"nodes\",\"\")\n",
    "    time_mean = numpy.mean(array)\n",
    "    times[\"nodes\"].append(int(nodes))\n",
    "    times[\"meanruntime\"].append(round(time_mean, 2))\n",
    "    times[\"err\"].append(round(numpy.std(array)/numpy.sqrt(len(array)), 2))\n",
    "    times[\"throughput_MB_s\"].append(round(readsize/time_mean/1024/1024))\n",
    "    \n",
    "timesdf = pandas.DataFrame(times)\n",
    "timesdf = timesdf.sort_values(by=\"nodes\").reset_index(drop=True).copy()\n",
    "throughput_1node = timesdf[\"throughput_MB_s\"][0]\n",
    "time_1node = timesdf[\"meanruntime\"][0]\n",
    "timesdf[\"runtimespeedup\"] = time_1node / timesdf[\"meanruntime\"]\n",
    "timesdf[\"throughputspeedup\"] = timesdf[\"throughput_MB_s\"] / throughput_1node\n",
    "timesdf"
   ]
  },
  {
   "cell_type": "code",
   "execution_count": 29,
   "id": "a713bad7",
   "metadata": {},
   "outputs": [
    {
     "data": {
      "text/plain": [
       "<matplotlib.legend.Legend at 0x7f77f398b4f0>"
      ]
     },
     "execution_count": 29,
     "metadata": {},
     "output_type": "execute_result"
    },
    {
     "data": {
      "image/png": "[encoded data removed]",
      "text/plain": [
       "<Figure size 720x720 with 1 Axes>"
      ]
     },
     "metadata": {
      "needs_background": "light"
     },
     "output_type": "display_data"
    }
   ],
   "source": [
    "pyplot.figure(figsize=[10,10])\n",
    "pyplot.plot(timesdf[\"nodes\"], timesdf[\"meanruntime\"], label=\"Average runtime\", marker=\"o\")\n",
    "pyplot.xlabel(\"nodes\")\n",
    "pyplot.ylabel(\"Runtime [s]\")\n",
    "pyplot.legend()"
   ]
  },
  {
   "cell_type": "code",
   "execution_count": 30,
   "id": "151cd370",
   "metadata": {},
   "outputs": [
    {
     "data": {
      "text/plain": [
       "<matplotlib.legend.Legend at 0x7f77f396bfd0>"
      ]
     },
     "execution_count": 30,
     "metadata": {},
     "output_type": "execute_result"
    },
    {
     "data": {
      "image/png": "[encoded data removed]",
      "text/plain": [
       "<Figure size 720x720 with 1 Axes>"
      ]
     },
     "metadata": {
      "needs_background": "light"
     },
     "output_type": "display_data"
    }
   ],
   "source": [
    "pyplot.figure(figsize=[10,10])\n",
    "pyplot.plot(timesdf[\"nodes\"], timesdf[\"throughput_MB_s\"], label=\"Average processing throughput\", marker=\"o\")\n",
    "pyplot.xlabel(\"nodes\")\n",
    "pyplot.ylabel(\"Throughput [MB/s]\")\n",
    "pyplot.legend()"
   ]
  },
  {
   "cell_type": "code",
   "execution_count": 31,
   "id": "14be5727",
   "metadata": {},
   "outputs": [
    {
     "data": {
      "text/plain": [
       "<matplotlib.legend.Legend at 0x7f77f3897a00>"
      ]
     },
     "execution_count": 31,
     "metadata": {},
     "output_type": "execute_result"
    },
    {
     "data": {
      "image/png": "[encoded data removed]",
      "text/plain": [
       "<Figure size 720x720 with 1 Axes>"
      ]
     },
     "metadata": {
      "needs_background": "light"
     },
     "output_type": "display_data"
    }
   ],
   "source": [
    "pyplot.figure(figsize=[10,10])\n",
    "pyplot.plot(timesdf[\"nodes\"], timesdf[\"throughputspeedup\"], label=\"throughput speedup\", marker=\"o\")\n",
    "pyplot.plot(timesdf[\"nodes\"], timesdf[\"nodes\"], label=\"ideal speedup\", marker=\"o\")\n",
    "pyplot.xticks(timesdf[\"nodes\"])\n",
    "pyplot.yticks(timesdf[\"nodes\"])\n",
    "pyplot.xlabel(\"Nodes\")\n",
    "pyplot.ylabel(\"Throughput increase\")\n",
    "pyplot.legend()"
   ]
  },
  {
   "cell_type": "code",
   "execution_count": null,
   "id": "5d4ad6ad",
   "metadata": {},
   "outputs": [],
   "source": []
  },
  {
   "cell_type": "code",
   "execution_count": null,
   "id": "aa3eea02",
   "metadata": {},
   "outputs": [],
   "source": []
  },
  {
   "cell_type": "code",
   "execution_count": null,
   "id": "03a0a911",
   "metadata": {},
   "outputs": [],
   "source": []
  },
  {
   "cell_type": "code",
   "execution_count": null,
   "id": "b2abca29",
   "metadata": {},
   "outputs": [],
   "source": []
  },
  {
   "cell_type": "code",
   "execution_count": null,
   "id": "3b526f43",
   "metadata": {},
   "outputs": [],
   "source": []
  }
 ],
 "metadata": {
  "kernelspec": {
   "display_name": "Python 3",
   "language": "python",
   "name": "python3"
  },
  "language_info": {
   "codemirror_mode": {
    "name": "ipython",
    "version": 3
   },
   "file_extension": ".py",
   "mimetype": "text/x-python",
   "name": "python",
   "nbconvert_exporter": "python",
   "pygments_lexer": "ipython3",
   "version": "3.9.7"
  }
 },
 "nbformat": 4,
 "nbformat_minor": 5
}
