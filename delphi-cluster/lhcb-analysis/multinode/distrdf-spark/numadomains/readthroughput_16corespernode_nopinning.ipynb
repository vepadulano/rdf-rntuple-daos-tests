{
 "cells": [
  {
   "cell_type": "code",
   "execution_count": 1,
   "id": "92fb29dc",
   "metadata": {},
   "outputs": [
    {
     "name": "stdout",
     "output_type": "stream",
     "text": [
      "Welcome to JupyROOT 6.24/06\n"
     ]
    }
   ],
   "source": [
    "import pandas\n",
    "import numpy\n",
    "from matplotlib import pyplot\n",
    "import os\n",
    "import ROOT"
   ]
  },
  {
   "cell_type": "code",
   "execution_count": 2,
   "id": "c99aad09",
   "metadata": {
    "scrolled": false
   },
   "outputs": [
    {
     "data": {
      "text/html": [
       "<div>\n",
       "<style scoped>\n",
       "    .dataframe tbody tr th:only-of-type {\n",
       "        vertical-align: middle;\n",
       "    }\n",
       "\n",
       "    .dataframe tbody tr th {\n",
       "        vertical-align: top;\n",
       "    }\n",
       "\n",
       "    .dataframe thead th {\n",
       "        text-align: right;\n",
       "    }\n",
       "</style>\n",
       "<table border=\"1\" class=\"dataframe\">\n",
       "  <thead>\n",
       "    <tr style=\"text-align: right;\">\n",
       "      <th></th>\n",
       "      <th>taskruntime</th>\n",
       "      <th>taskreadtime</th>\n",
       "      <th>readthroughput</th>\n",
       "      <th>readpayload</th>\n",
       "      <th>taskid</th>\n",
       "      <th>nodes</th>\n",
       "      <th>chunks</th>\n",
       "    </tr>\n",
       "  </thead>\n",
       "  <tbody>\n",
       "    <tr>\n",
       "      <th>0</th>\n",
       "      <td>20.320</td>\n",
       "      <td>18955739674</td>\n",
       "      <td>372</td>\n",
       "      <td>7058797284</td>\n",
       "      <td>14</td>\n",
       "      <td>1</td>\n",
       "      <td>16</td>\n",
       "    </tr>\n",
       "    <tr>\n",
       "      <th>1</th>\n",
       "      <td>22.126</td>\n",
       "      <td>20790929042</td>\n",
       "      <td>339</td>\n",
       "      <td>7058797416</td>\n",
       "      <td>7</td>\n",
       "      <td>1</td>\n",
       "      <td>16</td>\n",
       "    </tr>\n",
       "    <tr>\n",
       "      <th>2</th>\n",
       "      <td>22.793</td>\n",
       "      <td>20339841279</td>\n",
       "      <td>347</td>\n",
       "      <td>7058797416</td>\n",
       "      <td>7</td>\n",
       "      <td>1</td>\n",
       "      <td>16</td>\n",
       "    </tr>\n",
       "    <tr>\n",
       "      <th>3</th>\n",
       "      <td>22.090</td>\n",
       "      <td>21159715575</td>\n",
       "      <td>333</td>\n",
       "      <td>7058797416</td>\n",
       "      <td>7</td>\n",
       "      <td>1</td>\n",
       "      <td>16</td>\n",
       "    </tr>\n",
       "    <tr>\n",
       "      <th>4</th>\n",
       "      <td>21.520</td>\n",
       "      <td>20609858194</td>\n",
       "      <td>342</td>\n",
       "      <td>7058797416</td>\n",
       "      <td>7</td>\n",
       "      <td>1</td>\n",
       "      <td>16</td>\n",
       "    </tr>\n",
       "    <tr>\n",
       "      <th>...</th>\n",
       "      <td>...</td>\n",
       "      <td>...</td>\n",
       "      <td>...</td>\n",
       "      <td>...</td>\n",
       "      <td>...</td>\n",
       "      <td>...</td>\n",
       "      <td>...</td>\n",
       "    </tr>\n",
       "    <tr>\n",
       "      <th>3019</th>\n",
       "      <td>5.117</td>\n",
       "      <td>4572495936</td>\n",
       "      <td>257</td>\n",
       "      <td>1176466104</td>\n",
       "      <td>78</td>\n",
       "      <td>6</td>\n",
       "      <td>96</td>\n",
       "    </tr>\n",
       "    <tr>\n",
       "      <th>3020</th>\n",
       "      <td>6.345</td>\n",
       "      <td>5666877905</td>\n",
       "      <td>207</td>\n",
       "      <td>1176466104</td>\n",
       "      <td>78</td>\n",
       "      <td>6</td>\n",
       "      <td>96</td>\n",
       "    </tr>\n",
       "    <tr>\n",
       "      <th>3021</th>\n",
       "      <td>5.496</td>\n",
       "      <td>5002059946</td>\n",
       "      <td>235</td>\n",
       "      <td>1176466104</td>\n",
       "      <td>78</td>\n",
       "      <td>6</td>\n",
       "      <td>96</td>\n",
       "    </tr>\n",
       "    <tr>\n",
       "      <th>3022</th>\n",
       "      <td>5.397</td>\n",
       "      <td>4674421530</td>\n",
       "      <td>251</td>\n",
       "      <td>1176466236</td>\n",
       "      <td>20</td>\n",
       "      <td>6</td>\n",
       "      <td>96</td>\n",
       "    </tr>\n",
       "    <tr>\n",
       "      <th>3023</th>\n",
       "      <td>4.680</td>\n",
       "      <td>4100045538</td>\n",
       "      <td>286</td>\n",
       "      <td>1176466236</td>\n",
       "      <td>26</td>\n",
       "      <td>6</td>\n",
       "      <td>96</td>\n",
       "    </tr>\n",
       "  </tbody>\n",
       "</table>\n",
       "<p>3024 rows × 7 columns</p>\n",
       "</div>"
      ],
      "text/plain": [
       "      taskruntime  taskreadtime  readthroughput  readpayload  taskid  nodes  \\\n",
       "0          20.320   18955739674             372   7058797284      14      1   \n",
       "1          22.126   20790929042             339   7058797416       7      1   \n",
       "2          22.793   20339841279             347   7058797416       7      1   \n",
       "3          22.090   21159715575             333   7058797416       7      1   \n",
       "4          21.520   20609858194             342   7058797416       7      1   \n",
       "...           ...           ...             ...          ...     ...    ...   \n",
       "3019        5.117    4572495936             257   1176466104      78      6   \n",
       "3020        6.345    5666877905             207   1176466104      78      6   \n",
       "3021        5.496    5002059946             235   1176466104      78      6   \n",
       "3022        5.397    4674421530             251   1176466236      20      6   \n",
       "3023        4.680    4100045538             286   1176466236      26      6   \n",
       "\n",
       "      chunks  \n",
       "0         16  \n",
       "1         16  \n",
       "2         16  \n",
       "3         16  \n",
       "4         16  \n",
       "...      ...  \n",
       "3019      96  \n",
       "3020      96  \n",
       "3021      96  \n",
       "3022      96  \n",
       "3023      96  \n",
       "\n",
       "[3024 rows x 7 columns]"
      ]
     },
     "execution_count": 2,
     "metadata": {},
     "output_type": "execute_result"
    }
   ],
   "source": [
    "times = {\"taskid\":[],\"mean\":[],\"meanerr\":[],\"throughput_MB_s\":[]}\n",
    "maindir = \"20211115-16corespernode-nopinning\"\n",
    "timedirs = [timedir for timedir in os.listdir(maindir) if timedir.startswith(\"timeresults\")]\n",
    "\n",
    "dfs = []\n",
    "for timedir in timedirs:\n",
    "    nodes = int(timedir.split(\"_\")[2].replace(\"nodes\",\"\"))\n",
    "    corespernode = int(timedir.split(\"_\")[3].replace(\"corespernode\",\"\"))\n",
    "    chunks = nodes*corespernode\n",
    "    for f in os.listdir(os.path.join(maindir, timedir)):\n",
    "        df = pandas.read_csv(os.path.join(maindir, timedir, f), header=None, names=[\"taskruntime\",\"taskreadtime\",\"readthroughput\",\"readpayload\"], skiprows=1)\n",
    "        taskid = int(f.split(\"_\")[1].replace(\"task\",\"\"))\n",
    "        df[\"taskid\"] = int(taskid)\n",
    "        df[\"nodes\"] = int(nodes)\n",
    "        df[\"chunks\"] = int(chunks)\n",
    "        dfs.append(df)\n",
    "\n",
    "df = pandas.concat(dfs).sort_values(by=\"nodes\").reset_index(drop=True)\n",
    "df"
   ]
  },
  {
   "cell_type": "code",
   "execution_count": 3,
   "id": "ce0a81a0",
   "metadata": {},
   "outputs": [
    {
     "data": {
      "text/html": [
       "<div>\n",
       "<style scoped>\n",
       "    .dataframe tbody tr th:only-of-type {\n",
       "        vertical-align: middle;\n",
       "    }\n",
       "\n",
       "    .dataframe tbody tr th {\n",
       "        vertical-align: top;\n",
       "    }\n",
       "\n",
       "    .dataframe thead th {\n",
       "        text-align: right;\n",
       "    }\n",
       "</style>\n",
       "<table border=\"1\" class=\"dataframe\">\n",
       "  <thead>\n",
       "    <tr style=\"text-align: right;\">\n",
       "      <th></th>\n",
       "      <th>chunks</th>\n",
       "      <th>taskruntime</th>\n",
       "      <th>taskreadtime</th>\n",
       "      <th>readthroughput</th>\n",
       "      <th>readpayload</th>\n",
       "      <th>taskid</th>\n",
       "      <th>nodes</th>\n",
       "    </tr>\n",
       "  </thead>\n",
       "  <tbody>\n",
       "    <tr>\n",
       "      <th>0</th>\n",
       "      <td>16</td>\n",
       "      <td>21.325326</td>\n",
       "      <td>2.007788e+10</td>\n",
       "      <td>351.472222</td>\n",
       "      <td>7.058797e+09</td>\n",
       "      <td>7.5</td>\n",
       "      <td>1.0</td>\n",
       "    </tr>\n",
       "    <tr>\n",
       "      <th>1</th>\n",
       "      <td>32</td>\n",
       "      <td>13.147694</td>\n",
       "      <td>1.256352e+10</td>\n",
       "      <td>281.121528</td>\n",
       "      <td>3.529399e+09</td>\n",
       "      <td>15.5</td>\n",
       "      <td>2.0</td>\n",
       "    </tr>\n",
       "    <tr>\n",
       "      <th>2</th>\n",
       "      <td>48</td>\n",
       "      <td>9.532988</td>\n",
       "      <td>8.994935e+09</td>\n",
       "      <td>261.532407</td>\n",
       "      <td>2.352932e+09</td>\n",
       "      <td>23.5</td>\n",
       "      <td>3.0</td>\n",
       "    </tr>\n",
       "    <tr>\n",
       "      <th>3</th>\n",
       "      <td>64</td>\n",
       "      <td>7.304714</td>\n",
       "      <td>6.756731e+09</td>\n",
       "      <td>261.664931</td>\n",
       "      <td>1.764699e+09</td>\n",
       "      <td>31.5</td>\n",
       "      <td>4.0</td>\n",
       "    </tr>\n",
       "    <tr>\n",
       "      <th>4</th>\n",
       "      <td>80</td>\n",
       "      <td>5.825482</td>\n",
       "      <td>5.260574e+09</td>\n",
       "      <td>268.440278</td>\n",
       "      <td>1.411759e+09</td>\n",
       "      <td>39.5</td>\n",
       "      <td>5.0</td>\n",
       "    </tr>\n",
       "    <tr>\n",
       "      <th>5</th>\n",
       "      <td>96</td>\n",
       "      <td>5.298667</td>\n",
       "      <td>4.694404e+09</td>\n",
       "      <td>253.625000</td>\n",
       "      <td>1.176466e+09</td>\n",
       "      <td>47.5</td>\n",
       "      <td>6.0</td>\n",
       "    </tr>\n",
       "  </tbody>\n",
       "</table>\n",
       "</div>"
      ],
      "text/plain": [
       "   chunks  taskruntime  taskreadtime  readthroughput   readpayload  taskid  \\\n",
       "0      16    21.325326  2.007788e+10      351.472222  7.058797e+09     7.5   \n",
       "1      32    13.147694  1.256352e+10      281.121528  3.529399e+09    15.5   \n",
       "2      48     9.532988  8.994935e+09      261.532407  2.352932e+09    23.5   \n",
       "3      64     7.304714  6.756731e+09      261.664931  1.764699e+09    31.5   \n",
       "4      80     5.825482  5.260574e+09      268.440278  1.411759e+09    39.5   \n",
       "5      96     5.298667  4.694404e+09      253.625000  1.176466e+09    47.5   \n",
       "\n",
       "   nodes  \n",
       "0    1.0  \n",
       "1    2.0  \n",
       "2    3.0  \n",
       "3    4.0  \n",
       "4    5.0  \n",
       "5    6.0  "
      ]
     },
     "execution_count": 3,
     "metadata": {},
     "output_type": "execute_result"
    }
   ],
   "source": [
    "meantaskthroughput = df.groupby([\"chunks\"]).mean()\n",
    "meantaskthroughput = meantaskthroughput.reset_index().sort_values(\"chunks\").reset_index(drop=True)\n",
    "meantaskthroughput\n"
   ]
  },
  {
   "cell_type": "code",
   "execution_count": 4,
   "id": "618db2b9",
   "metadata": {},
   "outputs": [
    {
     "data": {
      "text/plain": [
       "<matplotlib.legend.Legend at 0x7f02c97b93a0>"
      ]
     },
     "execution_count": 4,
     "metadata": {},
     "output_type": "execute_result"
    },
    {
     "data": {
      "image/png": "[encoded data removed]",
      "text/plain": [
       "<Figure size 720x720 with 1 Axes>"
      ]
     },
     "metadata": {
      "needs_background": "light"
     },
     "output_type": "display_data"
    }
   ],
   "source": [
    "pyplot.figure(figsize=[10,10])\n",
    "pyplot.plot(meantaskthroughput[\"chunks\"], meantaskthroughput[\"readthroughput\"], label=\"mean task throughput\", marker=\"o\")\n",
    "pyplot.xlabel(\"Processes\")\n",
    "pyplot.ylabel(\"Throughput [MB/s]\")\n",
    "pyplot.legend()"
   ]
  },
  {
   "cell_type": "code",
   "execution_count": 5,
   "id": "61705f97",
   "metadata": {},
   "outputs": [
    {
     "data": {
      "text/html": [
       "<div>\n",
       "<style scoped>\n",
       "    .dataframe tbody tr th:only-of-type {\n",
       "        vertical-align: middle;\n",
       "    }\n",
       "\n",
       "    .dataframe tbody tr th {\n",
       "        vertical-align: top;\n",
       "    }\n",
       "\n",
       "    .dataframe thead th {\n",
       "        text-align: right;\n",
       "    }\n",
       "</style>\n",
       "<table border=\"1\" class=\"dataframe\">\n",
       "  <thead>\n",
       "    <tr style=\"text-align: right;\">\n",
       "      <th></th>\n",
       "      <th>chunks</th>\n",
       "      <th>nodes</th>\n",
       "      <th>taskid</th>\n",
       "      <th>taskruntime</th>\n",
       "      <th>taskreadtime</th>\n",
       "      <th>readthroughput</th>\n",
       "      <th>readpayload</th>\n",
       "      <th>totalthroughput</th>\n",
       "    </tr>\n",
       "  </thead>\n",
       "  <tbody>\n",
       "    <tr>\n",
       "      <th>0</th>\n",
       "      <td>16</td>\n",
       "      <td>1</td>\n",
       "      <td>120</td>\n",
       "      <td>341.205222</td>\n",
       "      <td>3.212461e+11</td>\n",
       "      <td>5623.555556</td>\n",
       "      <td>1.129408e+11</td>\n",
       "      <td>5.491753</td>\n",
       "    </tr>\n",
       "    <tr>\n",
       "      <th>1</th>\n",
       "      <td>32</td>\n",
       "      <td>2</td>\n",
       "      <td>496</td>\n",
       "      <td>420.726222</td>\n",
       "      <td>4.020326e+11</td>\n",
       "      <td>8995.888889</td>\n",
       "      <td>1.129408e+11</td>\n",
       "      <td>8.785048</td>\n",
       "    </tr>\n",
       "    <tr>\n",
       "      <th>2</th>\n",
       "      <td>48</td>\n",
       "      <td>3</td>\n",
       "      <td>1128</td>\n",
       "      <td>457.583444</td>\n",
       "      <td>4.317569e+11</td>\n",
       "      <td>12553.555556</td>\n",
       "      <td>1.129408e+11</td>\n",
       "      <td>12.259332</td>\n",
       "    </tr>\n",
       "    <tr>\n",
       "      <th>3</th>\n",
       "      <td>64</td>\n",
       "      <td>4</td>\n",
       "      <td>2016</td>\n",
       "      <td>467.501667</td>\n",
       "      <td>4.324308e+11</td>\n",
       "      <td>16746.555556</td>\n",
       "      <td>1.129408e+11</td>\n",
       "      <td>16.354058</td>\n",
       "    </tr>\n",
       "    <tr>\n",
       "      <th>4</th>\n",
       "      <td>80</td>\n",
       "      <td>5</td>\n",
       "      <td>3160</td>\n",
       "      <td>466.038556</td>\n",
       "      <td>4.208459e+11</td>\n",
       "      <td>21475.222222</td>\n",
       "      <td>1.129408e+11</td>\n",
       "      <td>20.971897</td>\n",
       "    </tr>\n",
       "    <tr>\n",
       "      <th>5</th>\n",
       "      <td>96</td>\n",
       "      <td>6</td>\n",
       "      <td>4560</td>\n",
       "      <td>508.672000</td>\n",
       "      <td>4.506628e+11</td>\n",
       "      <td>24348.000000</td>\n",
       "      <td>1.129408e+11</td>\n",
       "      <td>23.777344</td>\n",
       "    </tr>\n",
       "  </tbody>\n",
       "</table>\n",
       "</div>"
      ],
      "text/plain": [
       "   chunks  nodes  taskid  taskruntime  taskreadtime  readthroughput  \\\n",
       "0      16      1     120   341.205222  3.212461e+11     5623.555556   \n",
       "1      32      2     496   420.726222  4.020326e+11     8995.888889   \n",
       "2      48      3    1128   457.583444  4.317569e+11    12553.555556   \n",
       "3      64      4    2016   467.501667  4.324308e+11    16746.555556   \n",
       "4      80      5    3160   466.038556  4.208459e+11    21475.222222   \n",
       "5      96      6    4560   508.672000  4.506628e+11    24348.000000   \n",
       "\n",
       "    readpayload  totalthroughput  \n",
       "0  1.129408e+11         5.491753  \n",
       "1  1.129408e+11         8.785048  \n",
       "2  1.129408e+11        12.259332  \n",
       "3  1.129408e+11        16.354058  \n",
       "4  1.129408e+11        20.971897  \n",
       "5  1.129408e+11        23.777344  "
      ]
     },
     "execution_count": 5,
     "metadata": {},
     "output_type": "execute_result"
    }
   ],
   "source": [
    "sumthroughput = df.groupby([\"chunks\",\"nodes\",\"taskid\"]).mean()\n",
    "sumthroughput = sumthroughput.reset_index().groupby([\"chunks\",\"nodes\"]).sum()\n",
    "sumthroughput = sumthroughput.reset_index()\n",
    "sumthroughput[\"totalthroughput\"] = sumthroughput[\"readthroughput\"] / 1024\n",
    "sumthroughput"
   ]
  },
  {
   "cell_type": "code",
   "execution_count": 6,
   "id": "55d43d63",
   "metadata": {},
   "outputs": [
    {
     "data": {
      "text/plain": [
       "<matplotlib.legend.Legend at 0x7f02c8946bb0>"
      ]
     },
     "execution_count": 6,
     "metadata": {},
     "output_type": "execute_result"
    },
    {
     "data": {
      "image/png": "[encoded data removed]",
      "text/plain": [
       "<Figure size 720x720 with 1 Axes>"
      ]
     },
     "metadata": {
      "needs_background": "light"
     },
     "output_type": "display_data"
    }
   ],
   "source": [
    "pyplot.figure(figsize=[10,10])\n",
    "pyplot.plot(sumthroughput[\"nodes\"], sumthroughput[\"totalthroughput\"], label=\"sum of all tasks throughput\", marker=\"o\")\n",
    "pyplot.xlabel(\"nodes\")\n",
    "pyplot.ylabel(\"Raw IO Throughput [GB/s]\")\n",
    "pyplot.legend()"
   ]
  },
  {
   "cell_type": "markdown",
   "id": "5b0e03fb",
   "metadata": {},
   "source": [
    "# Python timer"
   ]
  },
  {
   "cell_type": "code",
   "execution_count": 7,
   "id": "145ad6a9",
   "metadata": {},
   "outputs": [
    {
     "data": {
      "text/html": [
       "<div>\n",
       "<style scoped>\n",
       "    .dataframe tbody tr th:only-of-type {\n",
       "        vertical-align: middle;\n",
       "    }\n",
       "\n",
       "    .dataframe tbody tr th {\n",
       "        vertical-align: top;\n",
       "    }\n",
       "\n",
       "    .dataframe thead th {\n",
       "        text-align: right;\n",
       "    }\n",
       "</style>\n",
       "<table border=\"1\" class=\"dataframe\">\n",
       "  <thead>\n",
       "    <tr style=\"text-align: right;\">\n",
       "      <th></th>\n",
       "      <th>nodes</th>\n",
       "      <th>meanruntime</th>\n",
       "      <th>err</th>\n",
       "      <th>throughput_MB_s</th>\n",
       "      <th>runtimespeedup</th>\n",
       "      <th>throughputspeedup</th>\n",
       "    </tr>\n",
       "  </thead>\n",
       "  <tbody>\n",
       "    <tr>\n",
       "      <th>0</th>\n",
       "      <td>1</td>\n",
       "      <td>22.15</td>\n",
       "      <td>0.27</td>\n",
       "      <td>5649</td>\n",
       "      <td>1.000000</td>\n",
       "      <td>1.000000</td>\n",
       "    </tr>\n",
       "    <tr>\n",
       "      <th>1</th>\n",
       "      <td>2</td>\n",
       "      <td>13.85</td>\n",
       "      <td>0.23</td>\n",
       "      <td>9034</td>\n",
       "      <td>1.599278</td>\n",
       "      <td>1.599221</td>\n",
       "    </tr>\n",
       "    <tr>\n",
       "      <th>2</th>\n",
       "      <td>3</td>\n",
       "      <td>10.15</td>\n",
       "      <td>0.13</td>\n",
       "      <td>12326</td>\n",
       "      <td>2.182266</td>\n",
       "      <td>2.181979</td>\n",
       "    </tr>\n",
       "    <tr>\n",
       "      <th>3</th>\n",
       "      <td>4</td>\n",
       "      <td>7.88</td>\n",
       "      <td>0.14</td>\n",
       "      <td>15884</td>\n",
       "      <td>2.810914</td>\n",
       "      <td>2.811825</td>\n",
       "    </tr>\n",
       "    <tr>\n",
       "      <th>4</th>\n",
       "      <td>5</td>\n",
       "      <td>6.39</td>\n",
       "      <td>0.05</td>\n",
       "      <td>19585</td>\n",
       "      <td>3.466354</td>\n",
       "      <td>3.466985</td>\n",
       "    </tr>\n",
       "    <tr>\n",
       "      <th>5</th>\n",
       "      <td>6</td>\n",
       "      <td>5.96</td>\n",
       "      <td>0.20</td>\n",
       "      <td>20993</td>\n",
       "      <td>3.716443</td>\n",
       "      <td>3.716233</td>\n",
       "    </tr>\n",
       "  </tbody>\n",
       "</table>\n",
       "</div>"
      ],
      "text/plain": [
       "   nodes  meanruntime   err  throughput_MB_s  runtimespeedup  \\\n",
       "0      1        22.15  0.27             5649        1.000000   \n",
       "1      2        13.85  0.23             9034        1.599278   \n",
       "2      3        10.15  0.13            12326        2.182266   \n",
       "3      4         7.88  0.14            15884        2.810914   \n",
       "4      5         6.39  0.05            19585        3.466354   \n",
       "5      6         5.96  0.20            20993        3.716443   \n",
       "\n",
       "   throughputspeedup  \n",
       "0           1.000000  \n",
       "1           1.599221  \n",
       "2           2.181979  \n",
       "3           2.811825  \n",
       "4           3.466985  \n",
       "5           3.716233  "
      ]
     },
     "execution_count": 7,
     "metadata": {},
     "output_type": "execute_result"
    }
   ],
   "source": [
    "times = {\"nodes\":[],\"meanruntime\":[], \"err\":[], \"throughput_MB_s\":[]}\n",
    "timedir = \"20211115-16corespernode-nopinning/appruntimes\"\n",
    "datasetsize = 157400503680\n",
    "readpercent = 0.7949011466389114\n",
    "readsize = datasetsize * readpercent # taken from the RNTuple metrics above\n",
    "\n",
    "for f in os.listdir(timedir):\n",
    "    array = numpy.genfromtxt(os.path.join(timedir, f), skip_header=2)\n",
    "    nodes = f.split(\"_\")[5].replace(\"nodes\",\"\")\n",
    "    time_mean = numpy.mean(array)\n",
    "    times[\"nodes\"].append(int(nodes))\n",
    "    times[\"meanruntime\"].append(round(time_mean, 2))\n",
    "    times[\"err\"].append(round(numpy.std(array)/numpy.sqrt(len(array)), 2))\n",
    "    times[\"throughput_MB_s\"].append(round(readsize/time_mean/pow(10,6)))\n",
    "    \n",
    "timesdf = pandas.DataFrame(times)\n",
    "timesdf = timesdf.sort_values(by=\"nodes\").reset_index(drop=True).copy()\n",
    "throughput_1node = timesdf[\"throughput_MB_s\"][0]\n",
    "time_1node = timesdf[\"meanruntime\"][0]\n",
    "timesdf[\"runtimespeedup\"] = time_1node / timesdf[\"meanruntime\"]\n",
    "timesdf[\"throughputspeedup\"] = timesdf[\"throughput_MB_s\"] / throughput_1node\n",
    "timesdf"
   ]
  },
  {
   "cell_type": "code",
   "execution_count": 8,
   "id": "a713bad7",
   "metadata": {},
   "outputs": [
    {
     "data": {
      "text/plain": [
       "<matplotlib.legend.Legend at 0x7f02c891bdf0>"
      ]
     },
     "execution_count": 8,
     "metadata": {},
     "output_type": "execute_result"
    },
    {
     "data": {
      "image/png": "[encoded data removed]",
      "text/plain": [
       "<Figure size 720x720 with 1 Axes>"
      ]
     },
     "metadata": {
      "needs_background": "light"
     },
     "output_type": "display_data"
    }
   ],
   "source": [
    "pyplot.figure(figsize=[10,10])\n",
    "pyplot.plot(timesdf[\"nodes\"], timesdf[\"meanruntime\"], label=\"Average runtime\", marker=\"o\")\n",
    "pyplot.xlabel(\"nodes\")\n",
    "pyplot.ylabel(\"Runtime [s]\")\n",
    "pyplot.legend()"
   ]
  },
  {
   "cell_type": "code",
   "execution_count": 9,
   "id": "151cd370",
   "metadata": {},
   "outputs": [
    {
     "data": {
      "text/plain": [
       "<matplotlib.legend.Legend at 0x7f02c88f3f70>"
      ]
     },
     "execution_count": 9,
     "metadata": {},
     "output_type": "execute_result"
    },
    {
     "data": {
      "image/png": "[encoded data removed]",
      "text/plain": [
       "<Figure size 720x720 with 1 Axes>"
      ]
     },
     "metadata": {
      "needs_background": "light"
     },
     "output_type": "display_data"
    }
   ],
   "source": [
    "pyplot.figure(figsize=[10,10])\n",
    "pyplot.plot(timesdf[\"nodes\"], timesdf[\"throughput_MB_s\"], label=\"Average processing throughput\", marker=\"o\")\n",
    "pyplot.xlabel(\"nodes\")\n",
    "pyplot.ylabel(\"Throughput [MB/s]\")\n",
    "pyplot.legend()"
   ]
  },
  {
   "cell_type": "code",
   "execution_count": 10,
   "id": "14be5727",
   "metadata": {},
   "outputs": [
    {
     "data": {
      "text/plain": [
       "<matplotlib.legend.Legend at 0x7f02c8825a60>"
      ]
     },
     "execution_count": 10,
     "metadata": {},
     "output_type": "execute_result"
    },
    {
     "data": {
      "image/png": "[encoded data removed]",
      "text/plain": [
       "<Figure size 720x720 with 1 Axes>"
      ]
     },
     "metadata": {
      "needs_background": "light"
     },
     "output_type": "display_data"
    }
   ],
   "source": [
    "pyplot.figure(figsize=[10,10])\n",
    "pyplot.plot(timesdf[\"nodes\"], timesdf[\"throughputspeedup\"], label=\"throughput speedup\", marker=\"o\")\n",
    "pyplot.plot(timesdf[\"nodes\"], timesdf[\"nodes\"], label=\"ideal speedup\", marker=\"o\")\n",
    "pyplot.xticks(timesdf[\"nodes\"])\n",
    "pyplot.yticks(timesdf[\"nodes\"])\n",
    "pyplot.xlabel(\"Nodes\")\n",
    "pyplot.ylabel(\"Throughput increase\")\n",
    "pyplot.legend()"
   ]
  },
  {
   "cell_type": "code",
   "execution_count": null,
   "id": "5d4ad6ad",
   "metadata": {},
   "outputs": [],
   "source": []
  },
  {
   "cell_type": "code",
   "execution_count": null,
   "id": "705cb142",
   "metadata": {},
   "outputs": [],
   "source": []
  }
 ],
 "metadata": {
  "kernelspec": {
   "display_name": "Python 3",
   "language": "python",
   "name": "python3"
  },
  "language_info": {
   "codemirror_mode": {
    "name": "ipython",
    "version": 3
   },
   "file_extension": ".py",
   "mimetype": "text/x-python",
   "name": "python",
   "nbconvert_exporter": "python",
   "pygments_lexer": "ipython3",
   "version": "3.9.7"
  }
 },
 "nbformat": 4,
 "nbformat_minor": 5
}
